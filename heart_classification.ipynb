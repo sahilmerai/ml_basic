{
  "nbformat": 4,
  "nbformat_minor": 0,
  "metadata": {
    "colab": {
      "name": "heart.ipynb",
      "provenance": [],
      "authorship_tag": "ABX9TyPeXRc3pKGMJv67ubdxB+zC",
      "include_colab_link": true
    },
    "kernelspec": {
      "name": "python3",
      "display_name": "Python 3"
    }
  },
  "cells": [
    {
      "cell_type": "markdown",
      "metadata": {
        "id": "view-in-github",
        "colab_type": "text"
      },
      "source": [
        "<a href=\"https://colab.research.google.com/github/sahilmerai/ml_basic/blob/master/heart_classification.ipynb\" target=\"_parent\"><img src=\"https://colab.research.google.com/assets/colab-badge.svg\" alt=\"Open In Colab\"/></a>"
      ]
    },
    {
      "cell_type": "code",
      "metadata": {
        "id": "W1NamAC_a7PO"
      },
      "source": [
        "import pandas as pd\n",
        "import numpy as np \n",
        "import matplotlib.pyplot as plt\n",
        "import seaborn as sns\n",
        "from sklearn.model_selection import train_test_split\n",
        "from sklearn import svm\n",
        "from sklearn.linear_model import LogisticRegression\n",
        "from sklearn.metrics import mean_squared_error\n",
        "# heart = pd.read_csv(\"heart.csv\")\n",
        "df = pd.read_csv(\"heart.csv\")\n"
      ],
      "execution_count": 67,
      "outputs": []
    },
    {
      "cell_type": "markdown",
      "metadata": {
        "id": "msFEv_y8jDMD"
      },
      "source": [
        "### EDA"
      ]
    },
    {
      "cell_type": "code",
      "metadata": {
        "id": "Ftd_Nk_kcQbC",
        "colab": {
          "base_uri": "https://localhost:8080/",
          "height": 204
        },
        "outputId": "af9d685b-2867-4850-bd4b-511519226018"
      },
      "source": [
        "heart.head()"
      ],
      "execution_count": 2,
      "outputs": [
        {
          "output_type": "execute_result",
          "data": {
            "text/html": [
              "<div>\n",
              "<style scoped>\n",
              "    .dataframe tbody tr th:only-of-type {\n",
              "        vertical-align: middle;\n",
              "    }\n",
              "\n",
              "    .dataframe tbody tr th {\n",
              "        vertical-align: top;\n",
              "    }\n",
              "\n",
              "    .dataframe thead th {\n",
              "        text-align: right;\n",
              "    }\n",
              "</style>\n",
              "<table border=\"1\" class=\"dataframe\">\n",
              "  <thead>\n",
              "    <tr style=\"text-align: right;\">\n",
              "      <th></th>\n",
              "      <th>age</th>\n",
              "      <th>sex</th>\n",
              "      <th>cp</th>\n",
              "      <th>trestbps</th>\n",
              "      <th>chol</th>\n",
              "      <th>fbs</th>\n",
              "      <th>restecg</th>\n",
              "      <th>thalach</th>\n",
              "      <th>exang</th>\n",
              "      <th>oldpeak</th>\n",
              "      <th>slope</th>\n",
              "      <th>ca</th>\n",
              "      <th>thal</th>\n",
              "      <th>target</th>\n",
              "    </tr>\n",
              "  </thead>\n",
              "  <tbody>\n",
              "    <tr>\n",
              "      <th>0</th>\n",
              "      <td>63</td>\n",
              "      <td>1</td>\n",
              "      <td>3</td>\n",
              "      <td>145</td>\n",
              "      <td>233</td>\n",
              "      <td>1</td>\n",
              "      <td>0</td>\n",
              "      <td>150</td>\n",
              "      <td>0</td>\n",
              "      <td>2.3</td>\n",
              "      <td>0</td>\n",
              "      <td>0</td>\n",
              "      <td>1</td>\n",
              "      <td>1</td>\n",
              "    </tr>\n",
              "    <tr>\n",
              "      <th>1</th>\n",
              "      <td>37</td>\n",
              "      <td>1</td>\n",
              "      <td>2</td>\n",
              "      <td>130</td>\n",
              "      <td>250</td>\n",
              "      <td>0</td>\n",
              "      <td>1</td>\n",
              "      <td>187</td>\n",
              "      <td>0</td>\n",
              "      <td>3.5</td>\n",
              "      <td>0</td>\n",
              "      <td>0</td>\n",
              "      <td>2</td>\n",
              "      <td>1</td>\n",
              "    </tr>\n",
              "    <tr>\n",
              "      <th>2</th>\n",
              "      <td>41</td>\n",
              "      <td>0</td>\n",
              "      <td>1</td>\n",
              "      <td>130</td>\n",
              "      <td>204</td>\n",
              "      <td>0</td>\n",
              "      <td>0</td>\n",
              "      <td>172</td>\n",
              "      <td>0</td>\n",
              "      <td>1.4</td>\n",
              "      <td>2</td>\n",
              "      <td>0</td>\n",
              "      <td>2</td>\n",
              "      <td>1</td>\n",
              "    </tr>\n",
              "    <tr>\n",
              "      <th>3</th>\n",
              "      <td>56</td>\n",
              "      <td>1</td>\n",
              "      <td>1</td>\n",
              "      <td>120</td>\n",
              "      <td>236</td>\n",
              "      <td>0</td>\n",
              "      <td>1</td>\n",
              "      <td>178</td>\n",
              "      <td>0</td>\n",
              "      <td>0.8</td>\n",
              "      <td>2</td>\n",
              "      <td>0</td>\n",
              "      <td>2</td>\n",
              "      <td>1</td>\n",
              "    </tr>\n",
              "    <tr>\n",
              "      <th>4</th>\n",
              "      <td>57</td>\n",
              "      <td>0</td>\n",
              "      <td>0</td>\n",
              "      <td>120</td>\n",
              "      <td>354</td>\n",
              "      <td>0</td>\n",
              "      <td>1</td>\n",
              "      <td>163</td>\n",
              "      <td>1</td>\n",
              "      <td>0.6</td>\n",
              "      <td>2</td>\n",
              "      <td>0</td>\n",
              "      <td>2</td>\n",
              "      <td>1</td>\n",
              "    </tr>\n",
              "  </tbody>\n",
              "</table>\n",
              "</div>"
            ],
            "text/plain": [
              "   age  sex  cp  trestbps  chol  fbs  ...  exang  oldpeak  slope  ca  thal  target\n",
              "0   63    1   3       145   233    1  ...      0      2.3      0   0     1       1\n",
              "1   37    1   2       130   250    0  ...      0      3.5      0   0     2       1\n",
              "2   41    0   1       130   204    0  ...      0      1.4      2   0     2       1\n",
              "3   56    1   1       120   236    0  ...      0      0.8      2   0     2       1\n",
              "4   57    0   0       120   354    0  ...      1      0.6      2   0     2       1\n",
              "\n",
              "[5 rows x 14 columns]"
            ]
          },
          "metadata": {},
          "execution_count": 2
        }
      ]
    },
    {
      "cell_type": "code",
      "metadata": {
        "colab": {
          "base_uri": "https://localhost:8080/",
          "height": 483
        },
        "id": "99zRjPWtilhJ",
        "outputId": "8dcb1a70-4c7a-4f1f-e3c7-23cd7ef350cb"
      },
      "source": [
        "heart.describe().T"
      ],
      "execution_count": 4,
      "outputs": [
        {
          "output_type": "execute_result",
          "data": {
            "text/html": [
              "<div>\n",
              "<style scoped>\n",
              "    .dataframe tbody tr th:only-of-type {\n",
              "        vertical-align: middle;\n",
              "    }\n",
              "\n",
              "    .dataframe tbody tr th {\n",
              "        vertical-align: top;\n",
              "    }\n",
              "\n",
              "    .dataframe thead th {\n",
              "        text-align: right;\n",
              "    }\n",
              "</style>\n",
              "<table border=\"1\" class=\"dataframe\">\n",
              "  <thead>\n",
              "    <tr style=\"text-align: right;\">\n",
              "      <th></th>\n",
              "      <th>count</th>\n",
              "      <th>mean</th>\n",
              "      <th>std</th>\n",
              "      <th>min</th>\n",
              "      <th>25%</th>\n",
              "      <th>50%</th>\n",
              "      <th>75%</th>\n",
              "      <th>max</th>\n",
              "    </tr>\n",
              "  </thead>\n",
              "  <tbody>\n",
              "    <tr>\n",
              "      <th>age</th>\n",
              "      <td>303.0</td>\n",
              "      <td>54.366337</td>\n",
              "      <td>9.082101</td>\n",
              "      <td>29.0</td>\n",
              "      <td>47.5</td>\n",
              "      <td>55.0</td>\n",
              "      <td>61.0</td>\n",
              "      <td>77.0</td>\n",
              "    </tr>\n",
              "    <tr>\n",
              "      <th>sex</th>\n",
              "      <td>303.0</td>\n",
              "      <td>0.683168</td>\n",
              "      <td>0.466011</td>\n",
              "      <td>0.0</td>\n",
              "      <td>0.0</td>\n",
              "      <td>1.0</td>\n",
              "      <td>1.0</td>\n",
              "      <td>1.0</td>\n",
              "    </tr>\n",
              "    <tr>\n",
              "      <th>cp</th>\n",
              "      <td>303.0</td>\n",
              "      <td>0.966997</td>\n",
              "      <td>1.032052</td>\n",
              "      <td>0.0</td>\n",
              "      <td>0.0</td>\n",
              "      <td>1.0</td>\n",
              "      <td>2.0</td>\n",
              "      <td>3.0</td>\n",
              "    </tr>\n",
              "    <tr>\n",
              "      <th>trestbps</th>\n",
              "      <td>303.0</td>\n",
              "      <td>131.623762</td>\n",
              "      <td>17.538143</td>\n",
              "      <td>94.0</td>\n",
              "      <td>120.0</td>\n",
              "      <td>130.0</td>\n",
              "      <td>140.0</td>\n",
              "      <td>200.0</td>\n",
              "    </tr>\n",
              "    <tr>\n",
              "      <th>chol</th>\n",
              "      <td>303.0</td>\n",
              "      <td>246.264026</td>\n",
              "      <td>51.830751</td>\n",
              "      <td>126.0</td>\n",
              "      <td>211.0</td>\n",
              "      <td>240.0</td>\n",
              "      <td>274.5</td>\n",
              "      <td>564.0</td>\n",
              "    </tr>\n",
              "    <tr>\n",
              "      <th>fbs</th>\n",
              "      <td>303.0</td>\n",
              "      <td>0.148515</td>\n",
              "      <td>0.356198</td>\n",
              "      <td>0.0</td>\n",
              "      <td>0.0</td>\n",
              "      <td>0.0</td>\n",
              "      <td>0.0</td>\n",
              "      <td>1.0</td>\n",
              "    </tr>\n",
              "    <tr>\n",
              "      <th>restecg</th>\n",
              "      <td>303.0</td>\n",
              "      <td>0.528053</td>\n",
              "      <td>0.525860</td>\n",
              "      <td>0.0</td>\n",
              "      <td>0.0</td>\n",
              "      <td>1.0</td>\n",
              "      <td>1.0</td>\n",
              "      <td>2.0</td>\n",
              "    </tr>\n",
              "    <tr>\n",
              "      <th>thalach</th>\n",
              "      <td>303.0</td>\n",
              "      <td>149.646865</td>\n",
              "      <td>22.905161</td>\n",
              "      <td>71.0</td>\n",
              "      <td>133.5</td>\n",
              "      <td>153.0</td>\n",
              "      <td>166.0</td>\n",
              "      <td>202.0</td>\n",
              "    </tr>\n",
              "    <tr>\n",
              "      <th>exang</th>\n",
              "      <td>303.0</td>\n",
              "      <td>0.326733</td>\n",
              "      <td>0.469794</td>\n",
              "      <td>0.0</td>\n",
              "      <td>0.0</td>\n",
              "      <td>0.0</td>\n",
              "      <td>1.0</td>\n",
              "      <td>1.0</td>\n",
              "    </tr>\n",
              "    <tr>\n",
              "      <th>oldpeak</th>\n",
              "      <td>303.0</td>\n",
              "      <td>1.039604</td>\n",
              "      <td>1.161075</td>\n",
              "      <td>0.0</td>\n",
              "      <td>0.0</td>\n",
              "      <td>0.8</td>\n",
              "      <td>1.6</td>\n",
              "      <td>6.2</td>\n",
              "    </tr>\n",
              "    <tr>\n",
              "      <th>slope</th>\n",
              "      <td>303.0</td>\n",
              "      <td>1.399340</td>\n",
              "      <td>0.616226</td>\n",
              "      <td>0.0</td>\n",
              "      <td>1.0</td>\n",
              "      <td>1.0</td>\n",
              "      <td>2.0</td>\n",
              "      <td>2.0</td>\n",
              "    </tr>\n",
              "    <tr>\n",
              "      <th>ca</th>\n",
              "      <td>303.0</td>\n",
              "      <td>0.729373</td>\n",
              "      <td>1.022606</td>\n",
              "      <td>0.0</td>\n",
              "      <td>0.0</td>\n",
              "      <td>0.0</td>\n",
              "      <td>1.0</td>\n",
              "      <td>4.0</td>\n",
              "    </tr>\n",
              "    <tr>\n",
              "      <th>thal</th>\n",
              "      <td>303.0</td>\n",
              "      <td>2.313531</td>\n",
              "      <td>0.612277</td>\n",
              "      <td>0.0</td>\n",
              "      <td>2.0</td>\n",
              "      <td>2.0</td>\n",
              "      <td>3.0</td>\n",
              "      <td>3.0</td>\n",
              "    </tr>\n",
              "    <tr>\n",
              "      <th>target</th>\n",
              "      <td>303.0</td>\n",
              "      <td>0.544554</td>\n",
              "      <td>0.498835</td>\n",
              "      <td>0.0</td>\n",
              "      <td>0.0</td>\n",
              "      <td>1.0</td>\n",
              "      <td>1.0</td>\n",
              "      <td>1.0</td>\n",
              "    </tr>\n",
              "  </tbody>\n",
              "</table>\n",
              "</div>"
            ],
            "text/plain": [
              "          count        mean        std    min    25%    50%    75%    max\n",
              "age       303.0   54.366337   9.082101   29.0   47.5   55.0   61.0   77.0\n",
              "sex       303.0    0.683168   0.466011    0.0    0.0    1.0    1.0    1.0\n",
              "cp        303.0    0.966997   1.032052    0.0    0.0    1.0    2.0    3.0\n",
              "trestbps  303.0  131.623762  17.538143   94.0  120.0  130.0  140.0  200.0\n",
              "chol      303.0  246.264026  51.830751  126.0  211.0  240.0  274.5  564.0\n",
              "fbs       303.0    0.148515   0.356198    0.0    0.0    0.0    0.0    1.0\n",
              "restecg   303.0    0.528053   0.525860    0.0    0.0    1.0    1.0    2.0\n",
              "thalach   303.0  149.646865  22.905161   71.0  133.5  153.0  166.0  202.0\n",
              "exang     303.0    0.326733   0.469794    0.0    0.0    0.0    1.0    1.0\n",
              "oldpeak   303.0    1.039604   1.161075    0.0    0.0    0.8    1.6    6.2\n",
              "slope     303.0    1.399340   0.616226    0.0    1.0    1.0    2.0    2.0\n",
              "ca        303.0    0.729373   1.022606    0.0    0.0    0.0    1.0    4.0\n",
              "thal      303.0    2.313531   0.612277    0.0    2.0    2.0    3.0    3.0\n",
              "target    303.0    0.544554   0.498835    0.0    0.0    1.0    1.0    1.0"
            ]
          },
          "metadata": {},
          "execution_count": 4
        }
      ]
    },
    {
      "cell_type": "code",
      "metadata": {
        "colab": {
          "base_uri": "https://localhost:8080/"
        },
        "id": "3dG1biVkisKI",
        "outputId": "9ca15da6-0c7e-4475-9cea-1656052e4064"
      },
      "source": [
        "heart.isnull().sum()"
      ],
      "execution_count": 8,
      "outputs": [
        {
          "output_type": "execute_result",
          "data": {
            "text/plain": [
              "age         0\n",
              "sex         0\n",
              "cp          0\n",
              "trestbps    0\n",
              "chol        0\n",
              "fbs         0\n",
              "restecg     0\n",
              "thalach     0\n",
              "exang       0\n",
              "oldpeak     0\n",
              "slope       0\n",
              "ca          0\n",
              "thal        0\n",
              "target      0\n",
              "dtype: int64"
            ]
          },
          "metadata": {},
          "execution_count": 8
        }
      ]
    },
    {
      "cell_type": "code",
      "metadata": {
        "colab": {
          "base_uri": "https://localhost:8080/"
        },
        "id": "uuFjCCTfixmf",
        "outputId": "d41554e7-fb4c-4e35-8ced-daec0b625f3b"
      },
      "source": [
        "heart.info()"
      ],
      "execution_count": 9,
      "outputs": [
        {
          "output_type": "stream",
          "name": "stdout",
          "text": [
            "<class 'pandas.core.frame.DataFrame'>\n",
            "RangeIndex: 303 entries, 0 to 302\n",
            "Data columns (total 14 columns):\n",
            " #   Column    Non-Null Count  Dtype  \n",
            "---  ------    --------------  -----  \n",
            " 0   age       303 non-null    int64  \n",
            " 1   sex       303 non-null    int64  \n",
            " 2   cp        303 non-null    int64  \n",
            " 3   trestbps  303 non-null    int64  \n",
            " 4   chol      303 non-null    int64  \n",
            " 5   fbs       303 non-null    int64  \n",
            " 6   restecg   303 non-null    int64  \n",
            " 7   thalach   303 non-null    int64  \n",
            " 8   exang     303 non-null    int64  \n",
            " 9   oldpeak   303 non-null    float64\n",
            " 10  slope     303 non-null    int64  \n",
            " 11  ca        303 non-null    int64  \n",
            " 12  thal      303 non-null    int64  \n",
            " 13  target    303 non-null    int64  \n",
            "dtypes: float64(1), int64(13)\n",
            "memory usage: 33.3 KB\n"
          ]
        }
      ]
    },
    {
      "cell_type": "code",
      "metadata": {
        "id": "7hg5NN1zcTOg",
        "colab": {
          "base_uri": "https://localhost:8080/",
          "height": 296
        },
        "outputId": "d13bd2e0-7723-4895-f2d6-6fb31fbfc858"
      },
      "source": [
        "sns.countplot(x=\"target\", hue=\"cp\", data=heart)"
      ],
      "execution_count": null,
      "outputs": [
        {
          "output_type": "execute_result",
          "data": {
            "text/plain": [
              "<matplotlib.axes._subplots.AxesSubplot at 0x7f62b1418908>"
            ]
          },
          "metadata": {
            "tags": []
          },
          "execution_count": 8
        },
        {
          "output_type": "display_data",
          "data": {
            "image/png": "[encoded data removed]",
            "text/plain": [
              "<Figure size 432x288 with 1 Axes>"
            ]
          },
          "metadata": {
            "tags": [],
            "needs_background": "light"
          }
        }
      ]
    },
    {
      "cell_type": "code",
      "metadata": {
        "id": "yc9nwAFCiWVD",
        "colab": {
          "base_uri": "https://localhost:8080/",
          "height": 296
        },
        "outputId": "bc7c845d-1b71-417d-d833-62287e969792"
      },
      "source": [
        "sns.countplot(x=\"sex\", hue=\"thal\", data = heart)"
      ],
      "execution_count": null,
      "outputs": [
        {
          "output_type": "execute_result",
          "data": {
            "text/plain": [
              "<matplotlib.axes._subplots.AxesSubplot at 0x7f62ae906c18>"
            ]
          },
          "metadata": {
            "tags": []
          },
          "execution_count": 13
        },
        {
          "output_type": "display_data",
          "data": {
            "image/png": "[encoded data removed]",
            "text/plain": [
              "<Figure size 432x288 with 1 Axes>"
            ]
          },
          "metadata": {
            "tags": [],
            "needs_background": "light"
          }
        }
      ]
    },
    {
      "cell_type": "code",
      "metadata": {
        "id": "M9evfnrOx1MP",
        "colab": {
          "base_uri": "https://localhost:8080/",
          "height": 296
        },
        "outputId": "7b667e09-7d3f-4c73-e401-3db4a024ddea"
      },
      "source": [
        "sns.distplot(heart[\"thal\"],rug=True)"
      ],
      "execution_count": null,
      "outputs": [
        {
          "output_type": "execute_result",
          "data": {
            "text/plain": [
              "<matplotlib.axes._subplots.AxesSubplot at 0x7f62ae9d4f28>"
            ]
          },
          "metadata": {
            "tags": []
          },
          "execution_count": 12
        },
        {
          "output_type": "display_data",
          "data": {
            "image/png": "[encoded data removed]",
            "text/plain": [
              "<Figure size 432x288 with 1 Axes>"
            ]
          },
          "metadata": {
            "tags": [],
            "needs_background": "light"
          }
        }
      ]
    },
    {
      "cell_type": "markdown",
      "metadata": {
        "id": "wj-Ej70TjHxe"
      },
      "source": [
        "### LogisticRegression"
      ]
    },
    {
      "cell_type": "code",
      "metadata": {
        "id": "5Hr7wXElydMz"
      },
      "source": [
        "X = heart.drop(\"target\",axis=1)\n",
        "y = heart[\"target\"]"
      ],
      "execution_count": 10,
      "outputs": []
    },
    {
      "cell_type": "code",
      "metadata": {
        "id": "QzMQO_-C3jDQ"
      },
      "source": [
        "X_train, X_test, y_train, y_test = train_test_split( X, y, test_size=0.3, random_state=1)\n"
      ],
      "execution_count": 11,
      "outputs": []
    },
    {
      "cell_type": "code",
      "metadata": {
        "id": "94s4toha39BL"
      },
      "source": [
        "logmodel = LogisticRegression()"
      ],
      "execution_count": 12,
      "outputs": []
    },
    {
      "cell_type": "code",
      "metadata": {
        "id": "SJwrsnLU_Jw9",
        "colab": {
          "base_uri": "https://localhost:8080/"
        },
        "outputId": "a1a21b0f-6a59-4ac1-be33-de71bd81a6d6"
      },
      "source": [
        "logmodel.fit(X_train , y_train)"
      ],
      "execution_count": 13,
      "outputs": [
        {
          "output_type": "stream",
          "name": "stderr",
          "text": [
            "/usr/local/lib/python3.7/dist-packages/sklearn/linear_model/_logistic.py:818: ConvergenceWarning: lbfgs failed to converge (status=1):\n",
            "STOP: TOTAL NO. of ITERATIONS REACHED LIMIT.\n",
            "\n",
            "Increase the number of iterations (max_iter) or scale the data as shown in:\n",
            "    https://scikit-learn.org/stable/modules/preprocessing.html\n",
            "Please also refer to the documentation for alternative solver options:\n",
            "    https://scikit-learn.org/stable/modules/linear_model.html#logistic-regression\n",
            "  extra_warning_msg=_LOGISTIC_SOLVER_CONVERGENCE_MSG,\n"
          ]
        },
        {
          "output_type": "execute_result",
          "data": {
            "text/plain": [
              "LogisticRegression()"
            ]
          },
          "metadata": {},
          "execution_count": 13
        }
      ]
    },
    {
      "cell_type": "code",
      "metadata": {
        "id": "J-D7hYWWBb7Z"
      },
      "source": [
        "prediction = logmodel.predict(X_test)"
      ],
      "execution_count": 14,
      "outputs": []
    },
    {
      "cell_type": "code",
      "metadata": {
        "id": "CAbEINHHCIWf"
      },
      "source": [
        "from sklearn.metrics import classification_report"
      ],
      "execution_count": 15,
      "outputs": []
    },
    {
      "cell_type": "code",
      "metadata": {
        "id": "_NODqt8VC4cI",
        "colab": {
          "base_uri": "https://localhost:8080/",
          "height": 69
        },
        "outputId": "875270f3-d647-4059-cfcc-3dbfd7359df5"
      },
      "source": [
        "classification_report(y_test , prediction)"
      ],
      "execution_count": 16,
      "outputs": [
        {
          "output_type": "execute_result",
          "data": {
            "application/vnd.google.colaboratory.intrinsic+json": {
              "type": "string"
            },
            "text/plain": [
              "'              precision    recall  f1-score   support\\n\\n           0       0.81      0.73      0.77        41\\n           1       0.80      0.86      0.83        50\\n\\n    accuracy                           0.80        91\\n   macro avg       0.80      0.80      0.80        91\\nweighted avg       0.80      0.80      0.80        91\\n'"
            ]
          },
          "metadata": {},
          "execution_count": 16
        }
      ]
    },
    {
      "cell_type": "code",
      "metadata": {
        "id": "T409tJmBDqrX"
      },
      "source": [
        "from sklearn.metrics import confusion_matrix"
      ],
      "execution_count": 17,
      "outputs": []
    },
    {
      "cell_type": "code",
      "metadata": {
        "id": "EhzZJBRzErQW",
        "colab": {
          "base_uri": "https://localhost:8080/"
        },
        "outputId": "4385ead1-2f07-4936-fdd8-aff8c350c772"
      },
      "source": [
        "confusion_matrix(y_test , prediction)"
      ],
      "execution_count": 18,
      "outputs": [
        {
          "output_type": "execute_result",
          "data": {
            "text/plain": [
              "array([[30, 11],\n",
              "       [ 7, 43]])"
            ]
          },
          "metadata": {},
          "execution_count": 18
        }
      ]
    },
    {
      "cell_type": "code",
      "metadata": {
        "id": "aAKp35_pFIfT"
      },
      "source": [
        "from sklearn.metrics import accuracy_score"
      ],
      "execution_count": 19,
      "outputs": []
    },
    {
      "cell_type": "code",
      "metadata": {
        "id": "hBH4F7IwG1Oi",
        "colab": {
          "base_uri": "https://localhost:8080/"
        },
        "outputId": "b71429a5-60e6-4afe-eb3c-7bf29b59f351"
      },
      "source": [
        "accuracy_score(y_test , prediction)"
      ],
      "execution_count": 20,
      "outputs": [
        {
          "output_type": "execute_result",
          "data": {
            "text/plain": [
              "0.8021978021978022"
            ]
          },
          "metadata": {},
          "execution_count": 20
        }
      ]
    },
    {
      "cell_type": "code",
      "metadata": {
        "id": "pTajVnDoG_Rq"
      },
      "source": [
        "X = heart[[\"trestbps\"]]"
      ],
      "execution_count": null,
      "outputs": []
    },
    {
      "cell_type": "code",
      "metadata": {
        "id": "Idr-MDM8Rgcc",
        "colab": {
          "base_uri": "https://localhost:8080/",
          "height": 386
        },
        "outputId": "6f21ae3a-f663-42f1-a5d2-434d8713ea8a"
      },
      "source": [
        "sns.lmplot(x='age', y='chol' ,data=heart)\n"
      ],
      "execution_count": null,
      "outputs": [
        {
          "output_type": "execute_result",
          "data": {
            "text/plain": [
              "<seaborn.axisgrid.FacetGrid at 0x7fd7986a79b0>"
            ]
          },
          "metadata": {
            "tags": []
          },
          "execution_count": 9
        },
        {
          "output_type": "display_data",
          "data": {
            "image/png": "[encoded data removed]",
            "text/plain": [
              "<Figure size 360x360 with 1 Axes>"
            ]
          },
          "metadata": {
            "tags": [],
            "needs_background": "light"
          }
        }
      ]
    },
    {
      "cell_type": "code",
      "metadata": {
        "id": "Vmzn1nzgRruU",
        "colab": {
          "base_uri": "https://localhost:8080/",
          "height": 296
        },
        "outputId": "bc4b300b-248b-496f-eef0-9358f0c65afb"
      },
      "source": [
        "from scipy.stats import pearsonr\n",
        "corr, _ = pearsonr(heart[\"age\"] , heart[\"oldpeak\"] )\n",
        "sns.regplot(x=\"age\" , y=\"oldpeak\", data=heart )\n",
        "print(corr)"
      ],
      "execution_count": null,
      "outputs": [
        {
          "output_type": "stream",
          "text": [
            "0.21001256735867366\n"
          ],
          "name": "stdout"
        },
        {
          "output_type": "display_data",
          "data": {
            "image/png": "[encoded data removed]",
            "text/plain": [
              "<Figure size 432x288 with 1 Axes>"
            ]
          },
          "metadata": {
            "tags": [],
            "needs_background": "light"
          }
        }
      ]
    },
    {
      "cell_type": "code",
      "metadata": {
        "id": "kzSIVpYh2ght",
        "colab": {
          "base_uri": "https://localhost:8080/",
          "height": 483
        },
        "outputId": "81ef5f62-0596-4893-e0ac-dc466449414a"
      },
      "source": [
        "corr = heart.corr()\n",
        "corr"
      ],
      "execution_count": 21,
      "outputs": [
        {
          "output_type": "execute_result",
          "data": {
            "text/html": [
              "<div>\n",
              "<style scoped>\n",
              "    .dataframe tbody tr th:only-of-type {\n",
              "        vertical-align: middle;\n",
              "    }\n",
              "\n",
              "    .dataframe tbody tr th {\n",
              "        vertical-align: top;\n",
              "    }\n",
              "\n",
              "    .dataframe thead th {\n",
              "        text-align: right;\n",
              "    }\n",
              "</style>\n",
              "<table border=\"1\" class=\"dataframe\">\n",
              "  <thead>\n",
              "    <tr style=\"text-align: right;\">\n",
              "      <th></th>\n",
              "      <th>age</th>\n",
              "      <th>sex</th>\n",
              "      <th>cp</th>\n",
              "      <th>trestbps</th>\n",
              "      <th>chol</th>\n",
              "      <th>fbs</th>\n",
              "      <th>restecg</th>\n",
              "      <th>thalach</th>\n",
              "      <th>exang</th>\n",
              "      <th>oldpeak</th>\n",
              "      <th>slope</th>\n",
              "      <th>ca</th>\n",
              "      <th>thal</th>\n",
              "      <th>target</th>\n",
              "    </tr>\n",
              "  </thead>\n",
              "  <tbody>\n",
              "    <tr>\n",
              "      <th>age</th>\n",
              "      <td>1.000000</td>\n",
              "      <td>-0.098447</td>\n",
              "      <td>-0.068653</td>\n",
              "      <td>0.279351</td>\n",
              "      <td>0.213678</td>\n",
              "      <td>0.121308</td>\n",
              "      <td>-0.116211</td>\n",
              "      <td>-0.398522</td>\n",
              "      <td>0.096801</td>\n",
              "      <td>0.210013</td>\n",
              "      <td>-0.168814</td>\n",
              "      <td>0.276326</td>\n",
              "      <td>0.068001</td>\n",
              "      <td>-0.225439</td>\n",
              "    </tr>\n",
              "    <tr>\n",
              "      <th>sex</th>\n",
              "      <td>-0.098447</td>\n",
              "      <td>1.000000</td>\n",
              "      <td>-0.049353</td>\n",
              "      <td>-0.056769</td>\n",
              "      <td>-0.197912</td>\n",
              "      <td>0.045032</td>\n",
              "      <td>-0.058196</td>\n",
              "      <td>-0.044020</td>\n",
              "      <td>0.141664</td>\n",
              "      <td>0.096093</td>\n",
              "      <td>-0.030711</td>\n",
              "      <td>0.118261</td>\n",
              "      <td>0.210041</td>\n",
              "      <td>-0.280937</td>\n",
              "    </tr>\n",
              "    <tr>\n",
              "      <th>cp</th>\n",
              "      <td>-0.068653</td>\n",
              "      <td>-0.049353</td>\n",
              "      <td>1.000000</td>\n",
              "      <td>0.047608</td>\n",
              "      <td>-0.076904</td>\n",
              "      <td>0.094444</td>\n",
              "      <td>0.044421</td>\n",
              "      <td>0.295762</td>\n",
              "      <td>-0.394280</td>\n",
              "      <td>-0.149230</td>\n",
              "      <td>0.119717</td>\n",
              "      <td>-0.181053</td>\n",
              "      <td>-0.161736</td>\n",
              "      <td>0.433798</td>\n",
              "    </tr>\n",
              "    <tr>\n",
              "      <th>trestbps</th>\n",
              "      <td>0.279351</td>\n",
              "      <td>-0.056769</td>\n",
              "      <td>0.047608</td>\n",
              "      <td>1.000000</td>\n",
              "      <td>0.123174</td>\n",
              "      <td>0.177531</td>\n",
              "      <td>-0.114103</td>\n",
              "      <td>-0.046698</td>\n",
              "      <td>0.067616</td>\n",
              "      <td>0.193216</td>\n",
              "      <td>-0.121475</td>\n",
              "      <td>0.101389</td>\n",
              "      <td>0.062210</td>\n",
              "      <td>-0.144931</td>\n",
              "    </tr>\n",
              "    <tr>\n",
              "      <th>chol</th>\n",
              "      <td>0.213678</td>\n",
              "      <td>-0.197912</td>\n",
              "      <td>-0.076904</td>\n",
              "      <td>0.123174</td>\n",
              "      <td>1.000000</td>\n",
              "      <td>0.013294</td>\n",
              "      <td>-0.151040</td>\n",
              "      <td>-0.009940</td>\n",
              "      <td>0.067023</td>\n",
              "      <td>0.053952</td>\n",
              "      <td>-0.004038</td>\n",
              "      <td>0.070511</td>\n",
              "      <td>0.098803</td>\n",
              "      <td>-0.085239</td>\n",
              "    </tr>\n",
              "    <tr>\n",
              "      <th>fbs</th>\n",
              "      <td>0.121308</td>\n",
              "      <td>0.045032</td>\n",
              "      <td>0.094444</td>\n",
              "      <td>0.177531</td>\n",
              "      <td>0.013294</td>\n",
              "      <td>1.000000</td>\n",
              "      <td>-0.084189</td>\n",
              "      <td>-0.008567</td>\n",
              "      <td>0.025665</td>\n",
              "      <td>0.005747</td>\n",
              "      <td>-0.059894</td>\n",
              "      <td>0.137979</td>\n",
              "      <td>-0.032019</td>\n",
              "      <td>-0.028046</td>\n",
              "    </tr>\n",
              "    <tr>\n",
              "      <th>restecg</th>\n",
              "      <td>-0.116211</td>\n",
              "      <td>-0.058196</td>\n",
              "      <td>0.044421</td>\n",
              "      <td>-0.114103</td>\n",
              "      <td>-0.151040</td>\n",
              "      <td>-0.084189</td>\n",
              "      <td>1.000000</td>\n",
              "      <td>0.044123</td>\n",
              "      <td>-0.070733</td>\n",
              "      <td>-0.058770</td>\n",
              "      <td>0.093045</td>\n",
              "      <td>-0.072042</td>\n",
              "      <td>-0.011981</td>\n",
              "      <td>0.137230</td>\n",
              "    </tr>\n",
              "    <tr>\n",
              "      <th>thalach</th>\n",
              "      <td>-0.398522</td>\n",
              "      <td>-0.044020</td>\n",
              "      <td>0.295762</td>\n",
              "      <td>-0.046698</td>\n",
              "      <td>-0.009940</td>\n",
              "      <td>-0.008567</td>\n",
              "      <td>0.044123</td>\n",
              "      <td>1.000000</td>\n",
              "      <td>-0.378812</td>\n",
              "      <td>-0.344187</td>\n",
              "      <td>0.386784</td>\n",
              "      <td>-0.213177</td>\n",
              "      <td>-0.096439</td>\n",
              "      <td>0.421741</td>\n",
              "    </tr>\n",
              "    <tr>\n",
              "      <th>exang</th>\n",
              "      <td>0.096801</td>\n",
              "      <td>0.141664</td>\n",
              "      <td>-0.394280</td>\n",
              "      <td>0.067616</td>\n",
              "      <td>0.067023</td>\n",
              "      <td>0.025665</td>\n",
              "      <td>-0.070733</td>\n",
              "      <td>-0.378812</td>\n",
              "      <td>1.000000</td>\n",
              "      <td>0.288223</td>\n",
              "      <td>-0.257748</td>\n",
              "      <td>0.115739</td>\n",
              "      <td>0.206754</td>\n",
              "      <td>-0.436757</td>\n",
              "    </tr>\n",
              "    <tr>\n",
              "      <th>oldpeak</th>\n",
              "      <td>0.210013</td>\n",
              "      <td>0.096093</td>\n",
              "      <td>-0.149230</td>\n",
              "      <td>0.193216</td>\n",
              "      <td>0.053952</td>\n",
              "      <td>0.005747</td>\n",
              "      <td>-0.058770</td>\n",
              "      <td>-0.344187</td>\n",
              "      <td>0.288223</td>\n",
              "      <td>1.000000</td>\n",
              "      <td>-0.577537</td>\n",
              "      <td>0.222682</td>\n",
              "      <td>0.210244</td>\n",
              "      <td>-0.430696</td>\n",
              "    </tr>\n",
              "    <tr>\n",
              "      <th>slope</th>\n",
              "      <td>-0.168814</td>\n",
              "      <td>-0.030711</td>\n",
              "      <td>0.119717</td>\n",
              "      <td>-0.121475</td>\n",
              "      <td>-0.004038</td>\n",
              "      <td>-0.059894</td>\n",
              "      <td>0.093045</td>\n",
              "      <td>0.386784</td>\n",
              "      <td>-0.257748</td>\n",
              "      <td>-0.577537</td>\n",
              "      <td>1.000000</td>\n",
              "      <td>-0.080155</td>\n",
              "      <td>-0.104764</td>\n",
              "      <td>0.345877</td>\n",
              "    </tr>\n",
              "    <tr>\n",
              "      <th>ca</th>\n",
              "      <td>0.276326</td>\n",
              "      <td>0.118261</td>\n",
              "      <td>-0.181053</td>\n",
              "      <td>0.101389</td>\n",
              "      <td>0.070511</td>\n",
              "      <td>0.137979</td>\n",
              "      <td>-0.072042</td>\n",
              "      <td>-0.213177</td>\n",
              "      <td>0.115739</td>\n",
              "      <td>0.222682</td>\n",
              "      <td>-0.080155</td>\n",
              "      <td>1.000000</td>\n",
              "      <td>0.151832</td>\n",
              "      <td>-0.391724</td>\n",
              "    </tr>\n",
              "    <tr>\n",
              "      <th>thal</th>\n",
              "      <td>0.068001</td>\n",
              "      <td>0.210041</td>\n",
              "      <td>-0.161736</td>\n",
              "      <td>0.062210</td>\n",
              "      <td>0.098803</td>\n",
              "      <td>-0.032019</td>\n",
              "      <td>-0.011981</td>\n",
              "      <td>-0.096439</td>\n",
              "      <td>0.206754</td>\n",
              "      <td>0.210244</td>\n",
              "      <td>-0.104764</td>\n",
              "      <td>0.151832</td>\n",
              "      <td>1.000000</td>\n",
              "      <td>-0.344029</td>\n",
              "    </tr>\n",
              "    <tr>\n",
              "      <th>target</th>\n",
              "      <td>-0.225439</td>\n",
              "      <td>-0.280937</td>\n",
              "      <td>0.433798</td>\n",
              "      <td>-0.144931</td>\n",
              "      <td>-0.085239</td>\n",
              "      <td>-0.028046</td>\n",
              "      <td>0.137230</td>\n",
              "      <td>0.421741</td>\n",
              "      <td>-0.436757</td>\n",
              "      <td>-0.430696</td>\n",
              "      <td>0.345877</td>\n",
              "      <td>-0.391724</td>\n",
              "      <td>-0.344029</td>\n",
              "      <td>1.000000</td>\n",
              "    </tr>\n",
              "  </tbody>\n",
              "</table>\n",
              "</div>"
            ],
            "text/plain": [
              "               age       sex        cp  ...        ca      thal    target\n",
              "age       1.000000 -0.098447 -0.068653  ...  0.276326  0.068001 -0.225439\n",
              "sex      -0.098447  1.000000 -0.049353  ...  0.118261  0.210041 -0.280937\n",
              "cp       -0.068653 -0.049353  1.000000  ... -0.181053 -0.161736  0.433798\n",
              "trestbps  0.279351 -0.056769  0.047608  ...  0.101389  0.062210 -0.144931\n",
              "chol      0.213678 -0.197912 -0.076904  ...  0.070511  0.098803 -0.085239\n",
              "fbs       0.121308  0.045032  0.094444  ...  0.137979 -0.032019 -0.028046\n",
              "restecg  -0.116211 -0.058196  0.044421  ... -0.072042 -0.011981  0.137230\n",
              "thalach  -0.398522 -0.044020  0.295762  ... -0.213177 -0.096439  0.421741\n",
              "exang     0.096801  0.141664 -0.394280  ...  0.115739  0.206754 -0.436757\n",
              "oldpeak   0.210013  0.096093 -0.149230  ...  0.222682  0.210244 -0.430696\n",
              "slope    -0.168814 -0.030711  0.119717  ... -0.080155 -0.104764  0.345877\n",
              "ca        0.276326  0.118261 -0.181053  ...  1.000000  0.151832 -0.391724\n",
              "thal      0.068001  0.210041 -0.161736  ...  0.151832  1.000000 -0.344029\n",
              "target   -0.225439 -0.280937  0.433798  ... -0.391724 -0.344029  1.000000\n",
              "\n",
              "[14 rows x 14 columns]"
            ]
          },
          "metadata": {},
          "execution_count": 21
        }
      ]
    },
    {
      "cell_type": "code",
      "metadata": {
        "id": "ErWyDqzbS0aD",
        "colab": {
          "base_uri": "https://localhost:8080/",
          "height": 525
        },
        "outputId": "15fe117c-6361-47c5-cf33-eba2fa81b88f"
      },
      "source": [
        "sns.set_context(\"notebook\" , font_scale=1.0 , rc={\"lines.linewidth\":2.5} )\n",
        "plt.figure(figsize=(17,8))\n",
        "mask = np.zeros_like(corr)\n",
        "mask[np.triu_indices_from(mask,1)] = True\n",
        "a = sns.heatmap(corr , mask=mask , annot=True ,fmt='.2f'  )\n",
        "rotx = a.set_xticklabels(a.get_xticklabels(), rotation=90)\n",
        "roty = a.set_yticklabels(a.get_yticklabels(), rotation=30)\n",
        "\n"
      ],
      "execution_count": 22,
      "outputs": [
        {
          "output_type": "display_data",
          "data": {
            "image/png": "[encoded data removed]",
            "text/plain": [
              "<Figure size 1224x576 with 2 Axes>"
            ]
          },
          "metadata": {
            "needs_background": "light"
          }
        }
      ]
    },
    {
      "cell_type": "code",
      "metadata": {
        "id": "6AW6wXjG2l_p"
      },
      "source": [
        "heart.columns = ['age', 'sex', 'chest_pain_type', 'resting_blood_pressure', 'cholesterol', 'fasting_blood_sugar', 'rest_ecg', 'max_heart_rate_achieved',\n",
        "       'exercise_induced_angina', 'st_depression', 'st_slope', 'num_major_vessels', 'thalassemia', 'target']"
      ],
      "execution_count": 23,
      "outputs": []
    },
    {
      "cell_type": "code",
      "metadata": {
        "id": "iJrig_Sl3oun",
        "colab": {
          "base_uri": "https://localhost:8080/"
        },
        "outputId": "072804e3-a2a9-485a-a3b4-a1daa0df3908"
      },
      "source": [
        "heart['sex'][heart['sex'] ==0 ] = 'male'\n",
        "heart['sex'][heart['sex'] ==1 ] = 'female'\n",
        "\n",
        "heart['chest_pain_type'][heart['chest_pain_type'] == 1] = 'typical angina'\n",
        "heart['chest_pain_type'][heart['chest_pain_type'] == 2] = 'atypical angina'\n",
        "heart['chest_pain_type'][heart['chest_pain_type'] == 3] = 'non-anginal pain'\n",
        "heart['chest_pain_type'][heart['chest_pain_type'] == 4] = 'asymptomatic'\n",
        "\n",
        "heart['fasting_blood_sugar'][heart['fasting_blood_sugar'] == 0] = 'lower than 120mg/ml'\n",
        "heart['fasting_blood_sugar'][heart['fasting_blood_sugar'] == 1] = 'greater than 120mg/ml'\n",
        "\n",
        "heart['rest_ecg'][heart['rest_ecg'] == 0] = 'normal'\n",
        "heart['rest_ecg'][heart['rest_ecg'] == 1] = 'ST-T wave abnormality'\n",
        "heart['rest_ecg'][heart['rest_ecg'] == 2] = 'left ventricular hypertrophy'\n",
        "\n",
        "heart['exercise_induced_angina'][heart['exercise_induced_angina'] == 0] = 'no'\n",
        "heart['exercise_induced_angina'][heart['exercise_induced_angina'] == 1] = 'yes'\n",
        "\n",
        "heart['st_slope'][heart['st_slope'] == 1] = 'upsloping'\n",
        "heart['st_slope'][heart['st_slope'] == 2] = 'flat'\n",
        "heart['st_slope'][heart['st_slope'] == 3] = 'downsloping'\n",
        "\n",
        "heart['thalassemia'][heart['thalassemia'] == 1] = 'normal'\n",
        "heart['thalassemia'][heart['thalassemia'] == 2] = 'fixed defect'\n",
        "heart['thalassemia'][heart['thalassemia'] == 3] = 'reversable defect'\n"
      ],
      "execution_count": 24,
      "outputs": [
        {
          "output_type": "stream",
          "name": "stderr",
          "text": [
            "/usr/local/lib/python3.7/dist-packages/ipykernel_launcher.py:1: SettingWithCopyWarning: \n",
            "A value is trying to be set on a copy of a slice from a DataFrame\n",
            "\n",
            "See the caveats in the documentation: https://pandas.pydata.org/pandas-docs/stable/user_guide/indexing.html#returning-a-view-versus-a-copy\n",
            "  \"\"\"Entry point for launching an IPython kernel.\n",
            "/usr/local/lib/python3.7/dist-packages/ipykernel_launcher.py:4: SettingWithCopyWarning: \n",
            "A value is trying to be set on a copy of a slice from a DataFrame\n",
            "\n",
            "See the caveats in the documentation: https://pandas.pydata.org/pandas-docs/stable/user_guide/indexing.html#returning-a-view-versus-a-copy\n",
            "  after removing the cwd from sys.path.\n",
            "/usr/local/lib/python3.7/dist-packages/ipykernel_launcher.py:9: SettingWithCopyWarning: \n",
            "A value is trying to be set on a copy of a slice from a DataFrame\n",
            "\n",
            "See the caveats in the documentation: https://pandas.pydata.org/pandas-docs/stable/user_guide/indexing.html#returning-a-view-versus-a-copy\n",
            "  if __name__ == '__main__':\n",
            "/usr/local/lib/python3.7/dist-packages/ipykernel_launcher.py:10: SettingWithCopyWarning: \n",
            "A value is trying to be set on a copy of a slice from a DataFrame\n",
            "\n",
            "See the caveats in the documentation: https://pandas.pydata.org/pandas-docs/stable/user_guide/indexing.html#returning-a-view-versus-a-copy\n",
            "  # Remove the CWD from sys.path while we load stuff.\n",
            "/usr/local/lib/python3.7/dist-packages/ipykernel_launcher.py:12: SettingWithCopyWarning: \n",
            "A value is trying to be set on a copy of a slice from a DataFrame\n",
            "\n",
            "See the caveats in the documentation: https://pandas.pydata.org/pandas-docs/stable/user_guide/indexing.html#returning-a-view-versus-a-copy\n",
            "  if sys.path[0] == '':\n",
            "/usr/local/lib/python3.7/dist-packages/ipykernel_launcher.py:16: SettingWithCopyWarning: \n",
            "A value is trying to be set on a copy of a slice from a DataFrame\n",
            "\n",
            "See the caveats in the documentation: https://pandas.pydata.org/pandas-docs/stable/user_guide/indexing.html#returning-a-view-versus-a-copy\n",
            "  app.launch_new_instance()\n",
            "/usr/local/lib/python3.7/dist-packages/ipykernel_launcher.py:17: SettingWithCopyWarning: \n",
            "A value is trying to be set on a copy of a slice from a DataFrame\n",
            "\n",
            "See the caveats in the documentation: https://pandas.pydata.org/pandas-docs/stable/user_guide/indexing.html#returning-a-view-versus-a-copy\n",
            "/usr/local/lib/python3.7/dist-packages/ipykernel_launcher.py:19: SettingWithCopyWarning: \n",
            "A value is trying to be set on a copy of a slice from a DataFrame\n",
            "\n",
            "See the caveats in the documentation: https://pandas.pydata.org/pandas-docs/stable/user_guide/indexing.html#returning-a-view-versus-a-copy\n",
            "/usr/local/lib/python3.7/dist-packages/ipykernel_launcher.py:23: SettingWithCopyWarning: \n",
            "A value is trying to be set on a copy of a slice from a DataFrame\n",
            "\n",
            "See the caveats in the documentation: https://pandas.pydata.org/pandas-docs/stable/user_guide/indexing.html#returning-a-view-versus-a-copy\n",
            "/usr/local/lib/python3.7/dist-packages/ipykernel_launcher.py:24: SettingWithCopyWarning: \n",
            "A value is trying to be set on a copy of a slice from a DataFrame\n",
            "\n",
            "See the caveats in the documentation: https://pandas.pydata.org/pandas-docs/stable/user_guide/indexing.html#returning-a-view-versus-a-copy\n",
            "/usr/local/lib/python3.7/dist-packages/ipykernel_launcher.py:25: SettingWithCopyWarning: \n",
            "A value is trying to be set on a copy of a slice from a DataFrame\n",
            "\n",
            "See the caveats in the documentation: https://pandas.pydata.org/pandas-docs/stable/user_guide/indexing.html#returning-a-view-versus-a-copy\n"
          ]
        }
      ]
    },
    {
      "cell_type": "code",
      "metadata": {
        "id": "CXHUHbpu3q7l",
        "colab": {
          "base_uri": "https://localhost:8080/",
          "height": 179
        },
        "outputId": "6a1b1336-35b8-4034-de36-c42cd220918c"
      },
      "source": [
        "heart.head(3)"
      ],
      "execution_count": null,
      "outputs": [
        {
          "output_type": "execute_result",
          "data": {
            "text/html": [
              "<div>\n",
              "<style scoped>\n",
              "    .dataframe tbody tr th:only-of-type {\n",
              "        vertical-align: middle;\n",
              "    }\n",
              "\n",
              "    .dataframe tbody tr th {\n",
              "        vertical-align: top;\n",
              "    }\n",
              "\n",
              "    .dataframe thead th {\n",
              "        text-align: right;\n",
              "    }\n",
              "</style>\n",
              "<table border=\"1\" class=\"dataframe\">\n",
              "  <thead>\n",
              "    <tr style=\"text-align: right;\">\n",
              "      <th></th>\n",
              "      <th>age</th>\n",
              "      <th>sex</th>\n",
              "      <th>chest_pain_type</th>\n",
              "      <th>resting_blood_pressure</th>\n",
              "      <th>cholesterol</th>\n",
              "      <th>fasting_blood_sugar</th>\n",
              "      <th>rest_ecg</th>\n",
              "      <th>max_heart_rate_achieved</th>\n",
              "      <th>exercise_induced_angina</th>\n",
              "      <th>st_depression</th>\n",
              "      <th>st_slope</th>\n",
              "      <th>num_major_vessels</th>\n",
              "      <th>thalassemia</th>\n",
              "      <th>target</th>\n",
              "    </tr>\n",
              "  </thead>\n",
              "  <tbody>\n",
              "    <tr>\n",
              "      <th>0</th>\n",
              "      <td>63</td>\n",
              "      <td>female</td>\n",
              "      <td>non-anginal pain</td>\n",
              "      <td>145</td>\n",
              "      <td>233</td>\n",
              "      <td>greater than 120mg/ml</td>\n",
              "      <td>normal</td>\n",
              "      <td>150</td>\n",
              "      <td>no</td>\n",
              "      <td>2.3</td>\n",
              "      <td>0</td>\n",
              "      <td>0</td>\n",
              "      <td>normal</td>\n",
              "      <td>1</td>\n",
              "    </tr>\n",
              "    <tr>\n",
              "      <th>1</th>\n",
              "      <td>37</td>\n",
              "      <td>female</td>\n",
              "      <td>atypical angina</td>\n",
              "      <td>130</td>\n",
              "      <td>250</td>\n",
              "      <td>lower than 120mg/ml</td>\n",
              "      <td>ST-T wave abnormality</td>\n",
              "      <td>187</td>\n",
              "      <td>no</td>\n",
              "      <td>3.5</td>\n",
              "      <td>0</td>\n",
              "      <td>0</td>\n",
              "      <td>fixed defect</td>\n",
              "      <td>1</td>\n",
              "    </tr>\n",
              "    <tr>\n",
              "      <th>2</th>\n",
              "      <td>41</td>\n",
              "      <td>male</td>\n",
              "      <td>typical angina</td>\n",
              "      <td>130</td>\n",
              "      <td>204</td>\n",
              "      <td>lower than 120mg/ml</td>\n",
              "      <td>normal</td>\n",
              "      <td>172</td>\n",
              "      <td>no</td>\n",
              "      <td>1.4</td>\n",
              "      <td>flat</td>\n",
              "      <td>0</td>\n",
              "      <td>fixed defect</td>\n",
              "      <td>1</td>\n",
              "    </tr>\n",
              "  </tbody>\n",
              "</table>\n",
              "</div>"
            ],
            "text/plain": [
              "   age     sex   chest_pain_type  ...  num_major_vessels   thalassemia target\n",
              "0   63  female  non-anginal pain  ...                  0        normal      1\n",
              "1   37  female   atypical angina  ...                  0  fixed defect      1\n",
              "2   41    male    typical angina  ...                  0  fixed defect      1\n",
              "\n",
              "[3 rows x 14 columns]"
            ]
          },
          "metadata": {
            "tags": []
          },
          "execution_count": 4
        }
      ]
    },
    {
      "cell_type": "code",
      "metadata": {
        "id": "839ReWbt6QOR"
      },
      "source": [
        "heart['sex'] = heart['sex'].astype('object')\n",
        "heart['chest_pain_type'] = heart['chest_pain_type'].astype('object')\n",
        "heart['fasting_blood_sugar'] = heart['fasting_blood_sugar'].astype('object')\n",
        "heart['rest_ecg'] = heart['rest_ecg'].astype('object')\n",
        "heart['exercise_induced_angina'] = heart['exercise_induced_angina'].astype('object')\n",
        "heart['st_slope'] = heart['st_slope'].astype('object')\n",
        "heart['thalassemia'] = heart['thalassemia'].astype('object')"
      ],
      "execution_count": 25,
      "outputs": []
    },
    {
      "cell_type": "code",
      "metadata": {
        "id": "sBwDgL5W7GX4"
      },
      "source": [
        "heart = pd.get_dummies(heart, drop_first=True)"
      ],
      "execution_count": 26,
      "outputs": []
    },
    {
      "cell_type": "code",
      "metadata": {
        "id": "l9DyxhCN7TCi",
        "colab": {
          "base_uri": "https://localhost:8080/",
          "height": 258
        },
        "outputId": "82a92e10-c978-4b5c-9a6f-d85f148beb56"
      },
      "source": [
        "heart.head()"
      ],
      "execution_count": 27,
      "outputs": [
        {
          "output_type": "execute_result",
          "data": {
            "text/html": [
              "<div>\n",
              "<style scoped>\n",
              "    .dataframe tbody tr th:only-of-type {\n",
              "        vertical-align: middle;\n",
              "    }\n",
              "\n",
              "    .dataframe tbody tr th {\n",
              "        vertical-align: top;\n",
              "    }\n",
              "\n",
              "    .dataframe thead th {\n",
              "        text-align: right;\n",
              "    }\n",
              "</style>\n",
              "<table border=\"1\" class=\"dataframe\">\n",
              "  <thead>\n",
              "    <tr style=\"text-align: right;\">\n",
              "      <th></th>\n",
              "      <th>age</th>\n",
              "      <th>resting_blood_pressure</th>\n",
              "      <th>cholesterol</th>\n",
              "      <th>max_heart_rate_achieved</th>\n",
              "      <th>st_depression</th>\n",
              "      <th>num_major_vessels</th>\n",
              "      <th>target</th>\n",
              "      <th>sex_male</th>\n",
              "      <th>chest_pain_type_atypical angina</th>\n",
              "      <th>chest_pain_type_non-anginal pain</th>\n",
              "      <th>chest_pain_type_typical angina</th>\n",
              "      <th>fasting_blood_sugar_lower than 120mg/ml</th>\n",
              "      <th>rest_ecg_left ventricular hypertrophy</th>\n",
              "      <th>rest_ecg_normal</th>\n",
              "      <th>exercise_induced_angina_yes</th>\n",
              "      <th>st_slope_flat</th>\n",
              "      <th>st_slope_upsloping</th>\n",
              "      <th>thalassemia_fixed defect</th>\n",
              "      <th>thalassemia_normal</th>\n",
              "      <th>thalassemia_reversable defect</th>\n",
              "    </tr>\n",
              "  </thead>\n",
              "  <tbody>\n",
              "    <tr>\n",
              "      <th>0</th>\n",
              "      <td>63</td>\n",
              "      <td>145</td>\n",
              "      <td>233</td>\n",
              "      <td>150</td>\n",
              "      <td>2.3</td>\n",
              "      <td>0</td>\n",
              "      <td>1</td>\n",
              "      <td>0</td>\n",
              "      <td>0</td>\n",
              "      <td>1</td>\n",
              "      <td>0</td>\n",
              "      <td>0</td>\n",
              "      <td>0</td>\n",
              "      <td>1</td>\n",
              "      <td>0</td>\n",
              "      <td>0</td>\n",
              "      <td>0</td>\n",
              "      <td>0</td>\n",
              "      <td>1</td>\n",
              "      <td>0</td>\n",
              "    </tr>\n",
              "    <tr>\n",
              "      <th>1</th>\n",
              "      <td>37</td>\n",
              "      <td>130</td>\n",
              "      <td>250</td>\n",
              "      <td>187</td>\n",
              "      <td>3.5</td>\n",
              "      <td>0</td>\n",
              "      <td>1</td>\n",
              "      <td>0</td>\n",
              "      <td>1</td>\n",
              "      <td>0</td>\n",
              "      <td>0</td>\n",
              "      <td>1</td>\n",
              "      <td>0</td>\n",
              "      <td>0</td>\n",
              "      <td>0</td>\n",
              "      <td>0</td>\n",
              "      <td>0</td>\n",
              "      <td>1</td>\n",
              "      <td>0</td>\n",
              "      <td>0</td>\n",
              "    </tr>\n",
              "    <tr>\n",
              "      <th>2</th>\n",
              "      <td>41</td>\n",
              "      <td>130</td>\n",
              "      <td>204</td>\n",
              "      <td>172</td>\n",
              "      <td>1.4</td>\n",
              "      <td>0</td>\n",
              "      <td>1</td>\n",
              "      <td>1</td>\n",
              "      <td>0</td>\n",
              "      <td>0</td>\n",
              "      <td>1</td>\n",
              "      <td>1</td>\n",
              "      <td>0</td>\n",
              "      <td>1</td>\n",
              "      <td>0</td>\n",
              "      <td>1</td>\n",
              "      <td>0</td>\n",
              "      <td>1</td>\n",
              "      <td>0</td>\n",
              "      <td>0</td>\n",
              "    </tr>\n",
              "    <tr>\n",
              "      <th>3</th>\n",
              "      <td>56</td>\n",
              "      <td>120</td>\n",
              "      <td>236</td>\n",
              "      <td>178</td>\n",
              "      <td>0.8</td>\n",
              "      <td>0</td>\n",
              "      <td>1</td>\n",
              "      <td>0</td>\n",
              "      <td>0</td>\n",
              "      <td>0</td>\n",
              "      <td>1</td>\n",
              "      <td>1</td>\n",
              "      <td>0</td>\n",
              "      <td>0</td>\n",
              "      <td>0</td>\n",
              "      <td>1</td>\n",
              "      <td>0</td>\n",
              "      <td>1</td>\n",
              "      <td>0</td>\n",
              "      <td>0</td>\n",
              "    </tr>\n",
              "    <tr>\n",
              "      <th>4</th>\n",
              "      <td>57</td>\n",
              "      <td>120</td>\n",
              "      <td>354</td>\n",
              "      <td>163</td>\n",
              "      <td>0.6</td>\n",
              "      <td>0</td>\n",
              "      <td>1</td>\n",
              "      <td>1</td>\n",
              "      <td>0</td>\n",
              "      <td>0</td>\n",
              "      <td>0</td>\n",
              "      <td>1</td>\n",
              "      <td>0</td>\n",
              "      <td>0</td>\n",
              "      <td>1</td>\n",
              "      <td>1</td>\n",
              "      <td>0</td>\n",
              "      <td>1</td>\n",
              "      <td>0</td>\n",
              "      <td>0</td>\n",
              "    </tr>\n",
              "  </tbody>\n",
              "</table>\n",
              "</div>"
            ],
            "text/plain": [
              "   age  ...  thalassemia_reversable defect\n",
              "0   63  ...                              0\n",
              "1   37  ...                              0\n",
              "2   41  ...                              0\n",
              "3   56  ...                              0\n",
              "4   57  ...                              0\n",
              "\n",
              "[5 rows x 20 columns]"
            ]
          },
          "metadata": {},
          "execution_count": 27
        }
      ]
    },
    {
      "cell_type": "code",
      "metadata": {
        "id": "Pzuc5Cuk7VvN",
        "colab": {
          "base_uri": "https://localhost:8080/",
          "height": 825
        },
        "outputId": "05505af2-315c-4eb2-dd68-02d51b93152e"
      },
      "source": [
        "corr = heart.corr()\n",
        "corr"
      ],
      "execution_count": 28,
      "outputs": [
        {
          "output_type": "execute_result",
          "data": {
            "text/html": [
              "<div>\n",
              "<style scoped>\n",
              "    .dataframe tbody tr th:only-of-type {\n",
              "        vertical-align: middle;\n",
              "    }\n",
              "\n",
              "    .dataframe tbody tr th {\n",
              "        vertical-align: top;\n",
              "    }\n",
              "\n",
              "    .dataframe thead th {\n",
              "        text-align: right;\n",
              "    }\n",
              "</style>\n",
              "<table border=\"1\" class=\"dataframe\">\n",
              "  <thead>\n",
              "    <tr style=\"text-align: right;\">\n",
              "      <th></th>\n",
              "      <th>age</th>\n",
              "      <th>resting_blood_pressure</th>\n",
              "      <th>cholesterol</th>\n",
              "      <th>max_heart_rate_achieved</th>\n",
              "      <th>st_depression</th>\n",
              "      <th>num_major_vessels</th>\n",
              "      <th>target</th>\n",
              "      <th>sex_male</th>\n",
              "      <th>chest_pain_type_atypical angina</th>\n",
              "      <th>chest_pain_type_non-anginal pain</th>\n",
              "      <th>chest_pain_type_typical angina</th>\n",
              "      <th>fasting_blood_sugar_lower than 120mg/ml</th>\n",
              "      <th>rest_ecg_left ventricular hypertrophy</th>\n",
              "      <th>rest_ecg_normal</th>\n",
              "      <th>exercise_induced_angina_yes</th>\n",
              "      <th>st_slope_flat</th>\n",
              "      <th>st_slope_upsloping</th>\n",
              "      <th>thalassemia_fixed defect</th>\n",
              "      <th>thalassemia_normal</th>\n",
              "      <th>thalassemia_reversable defect</th>\n",
              "    </tr>\n",
              "  </thead>\n",
              "  <tbody>\n",
              "    <tr>\n",
              "      <th>age</th>\n",
              "      <td>1.000000</td>\n",
              "      <td>0.279351</td>\n",
              "      <td>0.213678</td>\n",
              "      <td>-0.398522</td>\n",
              "      <td>0.210013</td>\n",
              "      <td>0.276326</td>\n",
              "      <td>-0.225439</td>\n",
              "      <td>0.098447</td>\n",
              "      <td>-0.059432</td>\n",
              "      <td>0.047516</td>\n",
              "      <td>-0.147399</td>\n",
              "      <td>-0.121308</td>\n",
              "      <td>0.084621</td>\n",
              "      <td>0.141398</td>\n",
              "      <td>0.096801</td>\n",
              "      <td>-0.192580</td>\n",
              "      <td>0.177201</td>\n",
              "      <td>-0.135891</td>\n",
              "      <td>0.063758</td>\n",
              "      <td>0.110752</td>\n",
              "    </tr>\n",
              "    <tr>\n",
              "      <th>resting_blood_pressure</th>\n",
              "      <td>0.279351</td>\n",
              "      <td>1.000000</td>\n",
              "      <td>0.123174</td>\n",
              "      <td>-0.046698</td>\n",
              "      <td>0.193216</td>\n",
              "      <td>0.101389</td>\n",
              "      <td>-0.144931</td>\n",
              "      <td>0.056769</td>\n",
              "      <td>-0.045107</td>\n",
              "      <td>0.151343</td>\n",
              "      <td>-0.081851</td>\n",
              "      <td>-0.177531</td>\n",
              "      <td>0.058635</td>\n",
              "      <td>0.133249</td>\n",
              "      <td>0.067616</td>\n",
              "      <td>-0.087472</td>\n",
              "      <td>0.025207</td>\n",
              "      <td>-0.140712</td>\n",
              "      <td>0.076369</td>\n",
              "      <td>0.109573</td>\n",
              "    </tr>\n",
              "    <tr>\n",
              "      <th>cholesterol</th>\n",
              "      <td>0.213678</td>\n",
              "      <td>0.123174</td>\n",
              "      <td>1.000000</td>\n",
              "      <td>-0.009940</td>\n",
              "      <td>0.053952</td>\n",
              "      <td>0.070511</td>\n",
              "      <td>-0.085239</td>\n",
              "      <td>0.197912</td>\n",
              "      <td>-0.037918</td>\n",
              "      <td>-0.050589</td>\n",
              "      <td>-0.012750</td>\n",
              "      <td>-0.013294</td>\n",
              "      <td>0.034615</td>\n",
              "      <td>0.166565</td>\n",
              "      <td>0.067023</td>\n",
              "      <td>-0.028054</td>\n",
              "      <td>0.051177</td>\n",
              "      <td>-0.004591</td>\n",
              "      <td>-0.093560</td>\n",
              "      <td>0.059621</td>\n",
              "    </tr>\n",
              "    <tr>\n",
              "      <th>max_heart_rate_achieved</th>\n",
              "      <td>-0.398522</td>\n",
              "      <td>-0.046698</td>\n",
              "      <td>-0.009940</td>\n",
              "      <td>1.000000</td>\n",
              "      <td>-0.344187</td>\n",
              "      <td>-0.213177</td>\n",
              "      <td>0.421741</td>\n",
              "      <td>0.044020</td>\n",
              "      <td>0.165475</td>\n",
              "      <td>0.079082</td>\n",
              "      <td>0.248317</td>\n",
              "      <td>0.008567</td>\n",
              "      <td>-0.120870</td>\n",
              "      <td>-0.073953</td>\n",
              "      <td>-0.378812</td>\n",
              "      <td>0.448043</td>\n",
              "      <td>-0.419627</td>\n",
              "      <td>0.294801</td>\n",
              "      <td>-0.159748</td>\n",
              "      <td>-0.215417</td>\n",
              "    </tr>\n",
              "    <tr>\n",
              "      <th>st_depression</th>\n",
              "      <td>0.210013</td>\n",
              "      <td>0.193216</td>\n",
              "      <td>0.053952</td>\n",
              "      <td>-0.344187</td>\n",
              "      <td>1.000000</td>\n",
              "      <td>0.222682</td>\n",
              "      <td>-0.430696</td>\n",
              "      <td>-0.096093</td>\n",
              "      <td>-0.132444</td>\n",
              "      <td>0.086959</td>\n",
              "      <td>-0.277513</td>\n",
              "      <td>-0.005747</td>\n",
              "      <td>0.168172</td>\n",
              "      <td>0.100141</td>\n",
              "      <td>0.288223</td>\n",
              "      <td>-0.511356</td>\n",
              "      <td>0.310986</td>\n",
              "      <td>-0.339086</td>\n",
              "      <td>0.104635</td>\n",
              "      <td>0.302145</td>\n",
              "    </tr>\n",
              "    <tr>\n",
              "      <th>num_major_vessels</th>\n",
              "      <td>0.276326</td>\n",
              "      <td>0.101389</td>\n",
              "      <td>0.070511</td>\n",
              "      <td>-0.213177</td>\n",
              "      <td>0.222682</td>\n",
              "      <td>1.000000</td>\n",
              "      <td>-0.391724</td>\n",
              "      <td>-0.118261</td>\n",
              "      <td>-0.088998</td>\n",
              "      <td>-0.070496</td>\n",
              "      <td>-0.134715</td>\n",
              "      <td>-0.137979</td>\n",
              "      <td>0.030660</td>\n",
              "      <td>0.082679</td>\n",
              "      <td>0.115739</td>\n",
              "      <td>-0.120306</td>\n",
              "      <td>0.141923</td>\n",
              "      <td>-0.221331</td>\n",
              "      <td>0.066618</td>\n",
              "      <td>0.203601</td>\n",
              "    </tr>\n",
              "    <tr>\n",
              "      <th>target</th>\n",
              "      <td>-0.225439</td>\n",
              "      <td>-0.144931</td>\n",
              "      <td>-0.085239</td>\n",
              "      <td>0.421741</td>\n",
              "      <td>-0.430696</td>\n",
              "      <td>-0.391724</td>\n",
              "      <td>1.000000</td>\n",
              "      <td>0.280937</td>\n",
              "      <td>0.316742</td>\n",
              "      <td>0.086957</td>\n",
              "      <td>0.245879</td>\n",
              "      <td>0.028046</td>\n",
              "      <td>-0.068410</td>\n",
              "      <td>-0.159775</td>\n",
              "      <td>-0.436757</td>\n",
              "      <td>0.394066</td>\n",
              "      <td>-0.362053</td>\n",
              "      <td>0.527334</td>\n",
              "      <td>-0.106589</td>\n",
              "      <td>-0.486112</td>\n",
              "    </tr>\n",
              "    <tr>\n",
              "      <th>sex_male</th>\n",
              "      <td>0.098447</td>\n",
              "      <td>0.056769</td>\n",
              "      <td>0.197912</td>\n",
              "      <td>0.044020</td>\n",
              "      <td>-0.096093</td>\n",
              "      <td>-0.118261</td>\n",
              "      <td>0.280937</td>\n",
              "      <td>1.000000</td>\n",
              "      <td>0.116588</td>\n",
              "      <td>-0.088043</td>\n",
              "      <td>0.041249</td>\n",
              "      <td>0.045032</td>\n",
              "      <td>0.107689</td>\n",
              "      <td>-0.036539</td>\n",
              "      <td>-0.141664</td>\n",
              "      <td>0.014356</td>\n",
              "      <td>0.009157</td>\n",
              "      <td>0.376365</td>\n",
              "      <td>-0.141135</td>\n",
              "      <td>-0.321559</td>\n",
              "    </tr>\n",
              "    <tr>\n",
              "      <th>chest_pain_type_atypical angina</th>\n",
              "      <td>-0.059432</td>\n",
              "      <td>-0.045107</td>\n",
              "      <td>-0.037918</td>\n",
              "      <td>0.165475</td>\n",
              "      <td>-0.132444</td>\n",
              "      <td>-0.088998</td>\n",
              "      <td>0.316742</td>\n",
              "      <td>0.116588</td>\n",
              "      <td>1.000000</td>\n",
              "      <td>-0.181894</td>\n",
              "      <td>-0.282135</td>\n",
              "      <td>-0.083679</td>\n",
              "      <td>-0.009492</td>\n",
              "      <td>-0.090611</td>\n",
              "      <td>-0.271028</td>\n",
              "      <td>0.120276</td>\n",
              "      <td>-0.105320</td>\n",
              "      <td>0.210130</td>\n",
              "      <td>-0.097775</td>\n",
              "      <td>-0.173717</td>\n",
              "    </tr>\n",
              "    <tr>\n",
              "      <th>chest_pain_type_non-anginal pain</th>\n",
              "      <td>0.047516</td>\n",
              "      <td>0.151343</td>\n",
              "      <td>-0.050589</td>\n",
              "      <td>0.079082</td>\n",
              "      <td>0.086959</td>\n",
              "      <td>-0.070496</td>\n",
              "      <td>0.086957</td>\n",
              "      <td>-0.088043</td>\n",
              "      <td>-0.181894</td>\n",
              "      <td>1.000000</td>\n",
              "      <td>-0.127412</td>\n",
              "      <td>-0.055511</td>\n",
              "      <td>-0.033150</td>\n",
              "      <td>0.070850</td>\n",
              "      <td>-0.093384</td>\n",
              "      <td>-0.044421</td>\n",
              "      <td>0.009321</td>\n",
              "      <td>0.009998</td>\n",
              "      <td>0.033404</td>\n",
              "      <td>-0.022554</td>\n",
              "    </tr>\n",
              "    <tr>\n",
              "      <th>chest_pain_type_typical angina</th>\n",
              "      <td>-0.147399</td>\n",
              "      <td>-0.081851</td>\n",
              "      <td>-0.012750</td>\n",
              "      <td>0.248317</td>\n",
              "      <td>-0.277513</td>\n",
              "      <td>-0.134715</td>\n",
              "      <td>0.245879</td>\n",
              "      <td>0.041249</td>\n",
              "      <td>-0.282135</td>\n",
              "      <td>-0.127412</td>\n",
              "      <td>1.000000</td>\n",
              "      <td>0.060649</td>\n",
              "      <td>-0.051418</td>\n",
              "      <td>-0.093530</td>\n",
              "      <td>-0.233863</td>\n",
              "      <td>0.223921</td>\n",
              "      <td>-0.197994</td>\n",
              "      <td>0.207354</td>\n",
              "      <td>-0.036496</td>\n",
              "      <td>-0.188225</td>\n",
              "    </tr>\n",
              "    <tr>\n",
              "      <th>fasting_blood_sugar_lower than 120mg/ml</th>\n",
              "      <td>-0.121308</td>\n",
              "      <td>-0.177531</td>\n",
              "      <td>-0.013294</td>\n",
              "      <td>0.008567</td>\n",
              "      <td>-0.005747</td>\n",
              "      <td>-0.137979</td>\n",
              "      <td>0.028046</td>\n",
              "      <td>0.045032</td>\n",
              "      <td>-0.083679</td>\n",
              "      <td>-0.055511</td>\n",
              "      <td>0.060649</td>\n",
              "      <td>1.000000</td>\n",
              "      <td>0.048305</td>\n",
              "      <td>-0.077405</td>\n",
              "      <td>-0.025665</td>\n",
              "      <td>0.020255</td>\n",
              "      <td>0.033360</td>\n",
              "      <td>0.086774</td>\n",
              "      <td>-0.091351</td>\n",
              "      <td>-0.030953</td>\n",
              "    </tr>\n",
              "    <tr>\n",
              "      <th>rest_ecg_left ventricular hypertrophy</th>\n",
              "      <td>0.084621</td>\n",
              "      <td>0.058635</td>\n",
              "      <td>0.034615</td>\n",
              "      <td>-0.120870</td>\n",
              "      <td>0.168172</td>\n",
              "      <td>0.030660</td>\n",
              "      <td>-0.068410</td>\n",
              "      <td>0.107689</td>\n",
              "      <td>-0.009492</td>\n",
              "      <td>-0.033150</td>\n",
              "      <td>-0.051418</td>\n",
              "      <td>0.048305</td>\n",
              "      <td>1.000000</td>\n",
              "      <td>-0.112277</td>\n",
              "      <td>0.042729</td>\n",
              "      <td>-0.108624</td>\n",
              "      <td>0.066804</td>\n",
              "      <td>-0.011121</td>\n",
              "      <td>0.093258</td>\n",
              "      <td>-0.032342</td>\n",
              "    </tr>\n",
              "    <tr>\n",
              "      <th>rest_ecg_normal</th>\n",
              "      <td>0.141398</td>\n",
              "      <td>0.133249</td>\n",
              "      <td>0.166565</td>\n",
              "      <td>-0.073953</td>\n",
              "      <td>0.100141</td>\n",
              "      <td>0.082679</td>\n",
              "      <td>-0.159775</td>\n",
              "      <td>-0.036539</td>\n",
              "      <td>-0.090611</td>\n",
              "      <td>0.070850</td>\n",
              "      <td>-0.093530</td>\n",
              "      <td>-0.077405</td>\n",
              "      <td>-0.112277</td>\n",
              "      <td>1.000000</td>\n",
              "      <td>0.084059</td>\n",
              "      <td>-0.130891</td>\n",
              "      <td>0.107012</td>\n",
              "      <td>-0.033630</td>\n",
              "      <td>0.035404</td>\n",
              "      <td>0.016787</td>\n",
              "    </tr>\n",
              "    <tr>\n",
              "      <th>exercise_induced_angina_yes</th>\n",
              "      <td>0.096801</td>\n",
              "      <td>0.067616</td>\n",
              "      <td>0.067023</td>\n",
              "      <td>-0.378812</td>\n",
              "      <td>0.288223</td>\n",
              "      <td>0.115739</td>\n",
              "      <td>-0.436757</td>\n",
              "      <td>-0.141664</td>\n",
              "      <td>-0.271028</td>\n",
              "      <td>-0.093384</td>\n",
              "      <td>-0.233863</td>\n",
              "      <td>-0.025665</td>\n",
              "      <td>0.042729</td>\n",
              "      <td>0.084059</td>\n",
              "      <td>1.000000</td>\n",
              "      <td>-0.287606</td>\n",
              "      <td>0.257687</td>\n",
              "      <td>-0.328539</td>\n",
              "      <td>0.063073</td>\n",
              "      <td>0.300223</td>\n",
              "    </tr>\n",
              "    <tr>\n",
              "      <th>st_slope_flat</th>\n",
              "      <td>-0.192580</td>\n",
              "      <td>-0.087472</td>\n",
              "      <td>-0.028054</td>\n",
              "      <td>0.448043</td>\n",
              "      <td>-0.511356</td>\n",
              "      <td>-0.120306</td>\n",
              "      <td>0.394066</td>\n",
              "      <td>0.014356</td>\n",
              "      <td>0.120276</td>\n",
              "      <td>-0.044421</td>\n",
              "      <td>0.223921</td>\n",
              "      <td>0.020255</td>\n",
              "      <td>-0.108624</td>\n",
              "      <td>-0.130891</td>\n",
              "      <td>-0.287606</td>\n",
              "      <td>1.000000</td>\n",
              "      <td>-0.870365</td>\n",
              "      <td>0.321640</td>\n",
              "      <td>-0.180061</td>\n",
              "      <td>-0.242230</td>\n",
              "    </tr>\n",
              "    <tr>\n",
              "      <th>st_slope_upsloping</th>\n",
              "      <td>0.177201</td>\n",
              "      <td>0.025207</td>\n",
              "      <td>0.051177</td>\n",
              "      <td>-0.419627</td>\n",
              "      <td>0.310986</td>\n",
              "      <td>0.141923</td>\n",
              "      <td>-0.362053</td>\n",
              "      <td>0.009157</td>\n",
              "      <td>-0.105320</td>\n",
              "      <td>0.009321</td>\n",
              "      <td>-0.197994</td>\n",
              "      <td>0.033360</td>\n",
              "      <td>0.066804</td>\n",
              "      <td>0.107012</td>\n",
              "      <td>0.257687</td>\n",
              "      <td>-0.870365</td>\n",
              "      <td>1.000000</td>\n",
              "      <td>-0.275318</td>\n",
              "      <td>0.131149</td>\n",
              "      <td>0.216740</td>\n",
              "    </tr>\n",
              "    <tr>\n",
              "      <th>thalassemia_fixed defect</th>\n",
              "      <td>-0.135891</td>\n",
              "      <td>-0.140712</td>\n",
              "      <td>-0.004591</td>\n",
              "      <td>0.294801</td>\n",
              "      <td>-0.339086</td>\n",
              "      <td>-0.221331</td>\n",
              "      <td>0.527334</td>\n",
              "      <td>0.376365</td>\n",
              "      <td>0.210130</td>\n",
              "      <td>0.009998</td>\n",
              "      <td>0.207354</td>\n",
              "      <td>0.086774</td>\n",
              "      <td>-0.011121</td>\n",
              "      <td>-0.033630</td>\n",
              "      <td>-0.328539</td>\n",
              "      <td>0.321640</td>\n",
              "      <td>-0.275318</td>\n",
              "      <td>1.000000</td>\n",
              "      <td>-0.276635</td>\n",
              "      <td>-0.873032</td>\n",
              "    </tr>\n",
              "    <tr>\n",
              "      <th>thalassemia_normal</th>\n",
              "      <td>0.063758</td>\n",
              "      <td>0.076369</td>\n",
              "      <td>-0.093560</td>\n",
              "      <td>-0.159748</td>\n",
              "      <td>0.104635</td>\n",
              "      <td>0.066618</td>\n",
              "      <td>-0.106589</td>\n",
              "      <td>-0.141135</td>\n",
              "      <td>-0.097775</td>\n",
              "      <td>0.033404</td>\n",
              "      <td>-0.036496</td>\n",
              "      <td>-0.091351</td>\n",
              "      <td>0.093258</td>\n",
              "      <td>0.035404</td>\n",
              "      <td>0.063073</td>\n",
              "      <td>-0.180061</td>\n",
              "      <td>0.131149</td>\n",
              "      <td>-0.276635</td>\n",
              "      <td>1.000000</td>\n",
              "      <td>-0.199320</td>\n",
              "    </tr>\n",
              "    <tr>\n",
              "      <th>thalassemia_reversable defect</th>\n",
              "      <td>0.110752</td>\n",
              "      <td>0.109573</td>\n",
              "      <td>0.059621</td>\n",
              "      <td>-0.215417</td>\n",
              "      <td>0.302145</td>\n",
              "      <td>0.203601</td>\n",
              "      <td>-0.486112</td>\n",
              "      <td>-0.321559</td>\n",
              "      <td>-0.173717</td>\n",
              "      <td>-0.022554</td>\n",
              "      <td>-0.188225</td>\n",
              "      <td>-0.030953</td>\n",
              "      <td>-0.032342</td>\n",
              "      <td>0.016787</td>\n",
              "      <td>0.300223</td>\n",
              "      <td>-0.242230</td>\n",
              "      <td>0.216740</td>\n",
              "      <td>-0.873032</td>\n",
              "      <td>-0.199320</td>\n",
              "      <td>1.000000</td>\n",
              "    </tr>\n",
              "  </tbody>\n",
              "</table>\n",
              "</div>"
            ],
            "text/plain": [
              "                                              age  ...  thalassemia_reversable defect\n",
              "age                                      1.000000  ...                       0.110752\n",
              "resting_blood_pressure                   0.279351  ...                       0.109573\n",
              "cholesterol                              0.213678  ...                       0.059621\n",
              "max_heart_rate_achieved                 -0.398522  ...                      -0.215417\n",
              "st_depression                            0.210013  ...                       0.302145\n",
              "num_major_vessels                        0.276326  ...                       0.203601\n",
              "target                                  -0.225439  ...                      -0.486112\n",
              "sex_male                                 0.098447  ...                      -0.321559\n",
              "chest_pain_type_atypical angina         -0.059432  ...                      -0.173717\n",
              "chest_pain_type_non-anginal pain         0.047516  ...                      -0.022554\n",
              "chest_pain_type_typical angina          -0.147399  ...                      -0.188225\n",
              "fasting_blood_sugar_lower than 120mg/ml -0.121308  ...                      -0.030953\n",
              "rest_ecg_left ventricular hypertrophy    0.084621  ...                      -0.032342\n",
              "rest_ecg_normal                          0.141398  ...                       0.016787\n",
              "exercise_induced_angina_yes              0.096801  ...                       0.300223\n",
              "st_slope_flat                           -0.192580  ...                      -0.242230\n",
              "st_slope_upsloping                       0.177201  ...                       0.216740\n",
              "thalassemia_fixed defect                -0.135891  ...                      -0.873032\n",
              "thalassemia_normal                       0.063758  ...                      -0.199320\n",
              "thalassemia_reversable defect            0.110752  ...                       1.000000\n",
              "\n",
              "[20 rows x 20 columns]"
            ]
          },
          "metadata": {},
          "execution_count": 28
        }
      ]
    },
    {
      "cell_type": "code",
      "metadata": {
        "id": "WuHYunID7hgg",
        "colab": {
          "base_uri": "https://localhost:8080/",
          "height": 714
        },
        "outputId": "b97aa449-1a1d-478f-dde8-3a816605c2ff"
      },
      "source": [
        "sns.set_context(\"notebook\" , font_scale=1.0 , rc={\"lines.linewidth\":2.5} )\n",
        "plt.figure(figsize=(17,8))\n",
        "mask = np.zeros_like(corr)\n",
        "mask[np.triu_indices_from(mask,1)] = True\n",
        "a = sns.heatmap(corr , mask=mask , annot=True ,fmt='.2f'  )\n",
        "rotx = a.set_xticklabels(a.get_xticklabels(), rotation=90)\n",
        "roty = a.set_yticklabels(a.get_yticklabels(), rotation=30)\n"
      ],
      "execution_count": 29,
      "outputs": [
        {
          "output_type": "display_data",
          "data": {
            "image/png": "[encoded data removed]",
            "text/plain": [
              "<Figure size 1224x576 with 2 Axes>"
            ]
          },
          "metadata": {
            "needs_background": "light"
          }
        }
      ]
    },
    {
      "cell_type": "code",
      "metadata": {
        "id": "-IE2OpBvaAIk",
        "colab": {
          "base_uri": "https://localhost:8080/",
          "height": 473
        },
        "outputId": "c14344d6-c1a1-49fa-f469-1ba4335c891a"
      },
      "source": [
        "heart"
      ],
      "execution_count": null,
      "outputs": [
        {
          "output_type": "execute_result",
          "data": {
            "text/html": [
              "<div>\n",
              "<style scoped>\n",
              "    .dataframe tbody tr th:only-of-type {\n",
              "        vertical-align: middle;\n",
              "    }\n",
              "\n",
              "    .dataframe tbody tr th {\n",
              "        vertical-align: top;\n",
              "    }\n",
              "\n",
              "    .dataframe thead th {\n",
              "        text-align: right;\n",
              "    }\n",
              "</style>\n",
              "<table border=\"1\" class=\"dataframe\">\n",
              "  <thead>\n",
              "    <tr style=\"text-align: right;\">\n",
              "      <th></th>\n",
              "      <th>age</th>\n",
              "      <th>resting_blood_pressure</th>\n",
              "      <th>cholesterol</th>\n",
              "      <th>max_heart_rate_achieved</th>\n",
              "      <th>st_depression</th>\n",
              "      <th>num_major_vessels</th>\n",
              "      <th>target</th>\n",
              "      <th>sex_male</th>\n",
              "      <th>chest_pain_type_atypical angina</th>\n",
              "      <th>chest_pain_type_non-anginal pain</th>\n",
              "      <th>chest_pain_type_typical angina</th>\n",
              "      <th>fasting_blood_sugar_lower than 120mg/ml</th>\n",
              "      <th>rest_ecg_left ventricular hypertrophy</th>\n",
              "      <th>rest_ecg_normal</th>\n",
              "      <th>exercise_induced_angina_yes</th>\n",
              "      <th>st_slope_flat</th>\n",
              "      <th>st_slope_upsloping</th>\n",
              "      <th>thalassemia_fixed defect</th>\n",
              "      <th>thalassemia_normal</th>\n",
              "      <th>thalassemia_reversable defect</th>\n",
              "    </tr>\n",
              "  </thead>\n",
              "  <tbody>\n",
              "    <tr>\n",
              "      <th>0</th>\n",
              "      <td>63</td>\n",
              "      <td>145</td>\n",
              "      <td>233</td>\n",
              "      <td>150</td>\n",
              "      <td>2.3</td>\n",
              "      <td>0</td>\n",
              "      <td>1</td>\n",
              "      <td>0</td>\n",
              "      <td>0</td>\n",
              "      <td>1</td>\n",
              "      <td>0</td>\n",
              "      <td>0</td>\n",
              "      <td>0</td>\n",
              "      <td>1</td>\n",
              "      <td>0</td>\n",
              "      <td>0</td>\n",
              "      <td>0</td>\n",
              "      <td>0</td>\n",
              "      <td>1</td>\n",
              "      <td>0</td>\n",
              "    </tr>\n",
              "    <tr>\n",
              "      <th>1</th>\n",
              "      <td>37</td>\n",
              "      <td>130</td>\n",
              "      <td>250</td>\n",
              "      <td>187</td>\n",
              "      <td>3.5</td>\n",
              "      <td>0</td>\n",
              "      <td>1</td>\n",
              "      <td>0</td>\n",
              "      <td>1</td>\n",
              "      <td>0</td>\n",
              "      <td>0</td>\n",
              "      <td>1</td>\n",
              "      <td>0</td>\n",
              "      <td>0</td>\n",
              "      <td>0</td>\n",
              "      <td>0</td>\n",
              "      <td>0</td>\n",
              "      <td>1</td>\n",
              "      <td>0</td>\n",
              "      <td>0</td>\n",
              "    </tr>\n",
              "    <tr>\n",
              "      <th>2</th>\n",
              "      <td>41</td>\n",
              "      <td>130</td>\n",
              "      <td>204</td>\n",
              "      <td>172</td>\n",
              "      <td>1.4</td>\n",
              "      <td>0</td>\n",
              "      <td>1</td>\n",
              "      <td>1</td>\n",
              "      <td>0</td>\n",
              "      <td>0</td>\n",
              "      <td>1</td>\n",
              "      <td>1</td>\n",
              "      <td>0</td>\n",
              "      <td>1</td>\n",
              "      <td>0</td>\n",
              "      <td>1</td>\n",
              "      <td>0</td>\n",
              "      <td>1</td>\n",
              "      <td>0</td>\n",
              "      <td>0</td>\n",
              "    </tr>\n",
              "    <tr>\n",
              "      <th>3</th>\n",
              "      <td>56</td>\n",
              "      <td>120</td>\n",
              "      <td>236</td>\n",
              "      <td>178</td>\n",
              "      <td>0.8</td>\n",
              "      <td>0</td>\n",
              "      <td>1</td>\n",
              "      <td>0</td>\n",
              "      <td>0</td>\n",
              "      <td>0</td>\n",
              "      <td>1</td>\n",
              "      <td>1</td>\n",
              "      <td>0</td>\n",
              "      <td>0</td>\n",
              "      <td>0</td>\n",
              "      <td>1</td>\n",
              "      <td>0</td>\n",
              "      <td>1</td>\n",
              "      <td>0</td>\n",
              "      <td>0</td>\n",
              "    </tr>\n",
              "    <tr>\n",
              "      <th>4</th>\n",
              "      <td>57</td>\n",
              "      <td>120</td>\n",
              "      <td>354</td>\n",
              "      <td>163</td>\n",
              "      <td>0.6</td>\n",
              "      <td>0</td>\n",
              "      <td>1</td>\n",
              "      <td>1</td>\n",
              "      <td>0</td>\n",
              "      <td>0</td>\n",
              "      <td>0</td>\n",
              "      <td>1</td>\n",
              "      <td>0</td>\n",
              "      <td>0</td>\n",
              "      <td>1</td>\n",
              "      <td>1</td>\n",
              "      <td>0</td>\n",
              "      <td>1</td>\n",
              "      <td>0</td>\n",
              "      <td>0</td>\n",
              "    </tr>\n",
              "    <tr>\n",
              "      <th>...</th>\n",
              "      <td>...</td>\n",
              "      <td>...</td>\n",
              "      <td>...</td>\n",
              "      <td>...</td>\n",
              "      <td>...</td>\n",
              "      <td>...</td>\n",
              "      <td>...</td>\n",
              "      <td>...</td>\n",
              "      <td>...</td>\n",
              "      <td>...</td>\n",
              "      <td>...</td>\n",
              "      <td>...</td>\n",
              "      <td>...</td>\n",
              "      <td>...</td>\n",
              "      <td>...</td>\n",
              "      <td>...</td>\n",
              "      <td>...</td>\n",
              "      <td>...</td>\n",
              "      <td>...</td>\n",
              "      <td>...</td>\n",
              "    </tr>\n",
              "    <tr>\n",
              "      <th>298</th>\n",
              "      <td>57</td>\n",
              "      <td>140</td>\n",
              "      <td>241</td>\n",
              "      <td>123</td>\n",
              "      <td>0.2</td>\n",
              "      <td>0</td>\n",
              "      <td>0</td>\n",
              "      <td>1</td>\n",
              "      <td>0</td>\n",
              "      <td>0</td>\n",
              "      <td>0</td>\n",
              "      <td>1</td>\n",
              "      <td>0</td>\n",
              "      <td>0</td>\n",
              "      <td>1</td>\n",
              "      <td>0</td>\n",
              "      <td>1</td>\n",
              "      <td>0</td>\n",
              "      <td>0</td>\n",
              "      <td>1</td>\n",
              "    </tr>\n",
              "    <tr>\n",
              "      <th>299</th>\n",
              "      <td>45</td>\n",
              "      <td>110</td>\n",
              "      <td>264</td>\n",
              "      <td>132</td>\n",
              "      <td>1.2</td>\n",
              "      <td>0</td>\n",
              "      <td>0</td>\n",
              "      <td>0</td>\n",
              "      <td>0</td>\n",
              "      <td>1</td>\n",
              "      <td>0</td>\n",
              "      <td>1</td>\n",
              "      <td>0</td>\n",
              "      <td>0</td>\n",
              "      <td>0</td>\n",
              "      <td>0</td>\n",
              "      <td>1</td>\n",
              "      <td>0</td>\n",
              "      <td>0</td>\n",
              "      <td>1</td>\n",
              "    </tr>\n",
              "    <tr>\n",
              "      <th>300</th>\n",
              "      <td>68</td>\n",
              "      <td>144</td>\n",
              "      <td>193</td>\n",
              "      <td>141</td>\n",
              "      <td>3.4</td>\n",
              "      <td>2</td>\n",
              "      <td>0</td>\n",
              "      <td>0</td>\n",
              "      <td>0</td>\n",
              "      <td>0</td>\n",
              "      <td>0</td>\n",
              "      <td>0</td>\n",
              "      <td>0</td>\n",
              "      <td>0</td>\n",
              "      <td>0</td>\n",
              "      <td>0</td>\n",
              "      <td>1</td>\n",
              "      <td>0</td>\n",
              "      <td>0</td>\n",
              "      <td>1</td>\n",
              "    </tr>\n",
              "    <tr>\n",
              "      <th>301</th>\n",
              "      <td>57</td>\n",
              "      <td>130</td>\n",
              "      <td>131</td>\n",
              "      <td>115</td>\n",
              "      <td>1.2</td>\n",
              "      <td>1</td>\n",
              "      <td>0</td>\n",
              "      <td>0</td>\n",
              "      <td>0</td>\n",
              "      <td>0</td>\n",
              "      <td>0</td>\n",
              "      <td>1</td>\n",
              "      <td>0</td>\n",
              "      <td>0</td>\n",
              "      <td>1</td>\n",
              "      <td>0</td>\n",
              "      <td>1</td>\n",
              "      <td>0</td>\n",
              "      <td>0</td>\n",
              "      <td>1</td>\n",
              "    </tr>\n",
              "    <tr>\n",
              "      <th>302</th>\n",
              "      <td>57</td>\n",
              "      <td>130</td>\n",
              "      <td>236</td>\n",
              "      <td>174</td>\n",
              "      <td>0.0</td>\n",
              "      <td>1</td>\n",
              "      <td>0</td>\n",
              "      <td>1</td>\n",
              "      <td>0</td>\n",
              "      <td>0</td>\n",
              "      <td>1</td>\n",
              "      <td>1</td>\n",
              "      <td>0</td>\n",
              "      <td>1</td>\n",
              "      <td>0</td>\n",
              "      <td>0</td>\n",
              "      <td>1</td>\n",
              "      <td>1</td>\n",
              "      <td>0</td>\n",
              "      <td>0</td>\n",
              "    </tr>\n",
              "  </tbody>\n",
              "</table>\n",
              "<p>303 rows × 20 columns</p>\n",
              "</div>"
            ],
            "text/plain": [
              "     age  ...  thalassemia_reversable defect\n",
              "0     63  ...                              0\n",
              "1     37  ...                              0\n",
              "2     41  ...                              0\n",
              "3     56  ...                              0\n",
              "4     57  ...                              0\n",
              "..   ...  ...                            ...\n",
              "298   57  ...                              1\n",
              "299   45  ...                              1\n",
              "300   68  ...                              1\n",
              "301   57  ...                              1\n",
              "302   57  ...                              0\n",
              "\n",
              "[303 rows x 20 columns]"
            ]
          },
          "metadata": {
            "tags": []
          },
          "execution_count": 48
        }
      ]
    },
    {
      "cell_type": "code",
      "metadata": {
        "id": "7L05CxZl7ncV"
      },
      "source": [
        "X = heart.drop(\"target\",axis=1)\n",
        "y = heart[\"target\"]"
      ],
      "execution_count": 30,
      "outputs": []
    },
    {
      "cell_type": "code",
      "metadata": {
        "id": "LyNdziaBOGxn"
      },
      "source": [
        "\n",
        "from sklearn.model_selection import train_test_split"
      ],
      "execution_count": 31,
      "outputs": []
    },
    {
      "cell_type": "code",
      "metadata": {
        "id": "HRq0VcN1OYNB"
      },
      "source": [
        "X_train, X_test, y_train, y_test = train_test_split(X, y, test_size=0.3, random_state=1)"
      ],
      "execution_count": 32,
      "outputs": []
    },
    {
      "cell_type": "code",
      "metadata": {
        "id": "aF_kxNdnOxkJ"
      },
      "source": [
        "lr = LogisticRegression(random_state=1)"
      ],
      "execution_count": 33,
      "outputs": []
    },
    {
      "cell_type": "code",
      "metadata": {
        "id": "bdqg5DOgO5vr",
        "colab": {
          "base_uri": "https://localhost:8080/"
        },
        "outputId": "c95e92a6-165a-4d92-c7a6-72e0d56cb011"
      },
      "source": [
        "lr.fit(X_train,y_train)"
      ],
      "execution_count": 34,
      "outputs": [
        {
          "output_type": "stream",
          "name": "stderr",
          "text": [
            "/usr/local/lib/python3.7/dist-packages/sklearn/linear_model/_logistic.py:818: ConvergenceWarning: lbfgs failed to converge (status=1):\n",
            "STOP: TOTAL NO. of ITERATIONS REACHED LIMIT.\n",
            "\n",
            "Increase the number of iterations (max_iter) or scale the data as shown in:\n",
            "    https://scikit-learn.org/stable/modules/preprocessing.html\n",
            "Please also refer to the documentation for alternative solver options:\n",
            "    https://scikit-learn.org/stable/modules/linear_model.html#logistic-regression\n",
            "  extra_warning_msg=_LOGISTIC_SOLVER_CONVERGENCE_MSG,\n"
          ]
        },
        {
          "output_type": "execute_result",
          "data": {
            "text/plain": [
              "LogisticRegression(random_state=1)"
            ]
          },
          "metadata": {},
          "execution_count": 34
        }
      ]
    },
    {
      "cell_type": "code",
      "metadata": {
        "id": "AoKSWqyGPSL4",
        "colab": {
          "base_uri": "https://localhost:8080/"
        },
        "outputId": "fb2d4fad-8db0-4e69-f2d2-c13273747f61"
      },
      "source": [
        "Y_pred = lr.predict(X_test)\n",
        "Y_pred"
      ],
      "execution_count": 35,
      "outputs": [
        {
          "output_type": "execute_result",
          "data": {
            "text/plain": [
              "array([0, 1, 0, 0, 0, 0, 0, 1, 0, 1, 0, 0, 1, 0, 0, 1, 1, 0, 1, 0, 1, 0,\n",
              "       1, 1, 1, 1, 0, 1, 1, 1, 1, 1, 1, 1, 0, 1, 0, 0, 1, 0, 1, 0, 0, 0,\n",
              "       1, 1, 0, 1, 1, 1, 1, 1, 1, 1, 1, 1, 0, 0, 0, 0, 1, 1, 1, 1, 1, 1,\n",
              "       0, 0, 0, 0, 1, 1, 0, 1, 0, 1, 0, 0, 0, 0, 1, 1, 0, 0, 1, 1, 1, 1,\n",
              "       1, 0, 0])"
            ]
          },
          "metadata": {},
          "execution_count": 35
        }
      ]
    },
    {
      "cell_type": "code",
      "metadata": {
        "id": "2fK6KNVCPknR"
      },
      "source": [
        "from sklearn.metrics import confusion_matrix , accuracy_score"
      ],
      "execution_count": 36,
      "outputs": []
    },
    {
      "cell_type": "code",
      "metadata": {
        "id": "BScUKFPkPz0v",
        "colab": {
          "base_uri": "https://localhost:8080/"
        },
        "outputId": "6b921648-a300-42c6-8e75-4c40326a2a6c"
      },
      "source": [
        "accuracy_score(y_test,Y_pred)"
      ],
      "execution_count": 37,
      "outputs": [
        {
          "output_type": "execute_result",
          "data": {
            "text/plain": [
              "0.8021978021978022"
            ]
          },
          "metadata": {},
          "execution_count": 37
        }
      ]
    },
    {
      "cell_type": "code",
      "metadata": {
        "id": "B_0oCEh5P7Ry",
        "colab": {
          "base_uri": "https://localhost:8080/"
        },
        "outputId": "69ba8862-42be-4295-f81e-088c2f11ba46"
      },
      "source": [
        "confusion_matrix(y_test,Y_pred)"
      ],
      "execution_count": 38,
      "outputs": [
        {
          "output_type": "execute_result",
          "data": {
            "text/plain": [
              "array([[32,  9],\n",
              "       [ 9, 41]])"
            ]
          },
          "metadata": {},
          "execution_count": 38
        }
      ]
    },
    {
      "cell_type": "code",
      "metadata": {
        "id": "mrQAA4PsQBV0",
        "colab": {
          "base_uri": "https://localhost:8080/",
          "height": 318
        },
        "outputId": "00944367-a415-4754-fc78-d155fba03c71"
      },
      "source": [
        "cnf_matrix = confusion_matrix(y_test, Y_pred,labels = [1,0])\n",
        "p = sns.heatmap(pd.DataFrame(cnf_matrix), annot=True, cmap=\"YlGnBu\" ,fmt='g')\n",
        "plt.title('Confusion matrix', y=1.1)\n",
        "plt.ylabel('Actual label')\n",
        "plt.xlabel('Predicted label')\n"
      ],
      "execution_count": 39,
      "outputs": [
        {
          "output_type": "execute_result",
          "data": {
            "text/plain": [
              "Text(0.5, 12.5, 'Predicted label')"
            ]
          },
          "metadata": {},
          "execution_count": 39
        },
        {
          "output_type": "display_data",
          "data": {
            "image/png": "[encoded data removed]",
            "text/plain": [
              "<Figure size 432x288 with 2 Axes>"
            ]
          },
          "metadata": {
            "needs_background": "light"
          }
        }
      ]
    },
    {
      "cell_type": "code",
      "metadata": {
        "id": "XU41JChJQc2R",
        "colab": {
          "base_uri": "https://localhost:8080/"
        },
        "outputId": "3b82df74-c0ff-45d5-b2a7-1514b40d588f"
      },
      "source": [
        "Y_pred_proba = lr.predict_proba(X_test)\n",
        "Y_pred_proba"
      ],
      "execution_count": 40,
      "outputs": [
        {
          "output_type": "execute_result",
          "data": {
            "text/plain": [
              "array([[0.9840232 , 0.0159768 ],\n",
              "       [0.22419543, 0.77580457],\n",
              "       [0.90136331, 0.09863669],\n",
              "       [0.98946311, 0.01053689],\n",
              "       [0.94707313, 0.05292687],\n",
              "       [0.99038499, 0.00961501],\n",
              "       [0.97186784, 0.02813216],\n",
              "       [0.39561927, 0.60438073],\n",
              "       [0.99420812, 0.00579188],\n",
              "       [0.02503801, 0.97496199],\n",
              "       [0.55097412, 0.44902588],\n",
              "       [0.92477059, 0.07522941],\n",
              "       [0.17106049, 0.82893951],\n",
              "       [0.84917246, 0.15082754],\n",
              "       [0.79869647, 0.20130353],\n",
              "       [0.06634721, 0.93365279],\n",
              "       [0.04382209, 0.95617791],\n",
              "       [0.98838875, 0.01161125],\n",
              "       [0.30236638, 0.69763362],\n",
              "       [0.55218112, 0.44781888],\n",
              "       [0.03543053, 0.96456947],\n",
              "       [0.94277567, 0.05722433],\n",
              "       [0.38403583, 0.61596417],\n",
              "       [0.0513551 , 0.9486449 ],\n",
              "       [0.04850746, 0.95149254],\n",
              "       [0.22419595, 0.77580405],\n",
              "       [0.9939719 , 0.0060281 ],\n",
              "       [0.02411424, 0.97588576],\n",
              "       [0.10014845, 0.89985155],\n",
              "       [0.01822216, 0.98177784],\n",
              "       [0.03283464, 0.96716536],\n",
              "       [0.08719894, 0.91280106],\n",
              "       [0.11427831, 0.88572169],\n",
              "       [0.21598245, 0.78401755],\n",
              "       [0.94446537, 0.05553463],\n",
              "       [0.40965206, 0.59034794],\n",
              "       [0.90064059, 0.09935941],\n",
              "       [0.64578972, 0.35421028],\n",
              "       [0.30799853, 0.69200147],\n",
              "       [0.92729078, 0.07270922],\n",
              "       [0.03583091, 0.96416909],\n",
              "       [0.93902305, 0.06097695],\n",
              "       [0.90400721, 0.09599279],\n",
              "       [0.9915604 , 0.0084396 ],\n",
              "       [0.27725477, 0.72274523],\n",
              "       [0.12130111, 0.87869889],\n",
              "       [0.85390481, 0.14609519],\n",
              "       [0.2854289 , 0.7145711 ],\n",
              "       [0.23310976, 0.76689024],\n",
              "       [0.13883222, 0.86116778],\n",
              "       [0.02052704, 0.97947296],\n",
              "       [0.32591048, 0.67408952],\n",
              "       [0.48945495, 0.51054505],\n",
              "       [0.3586762 , 0.6413238 ],\n",
              "       [0.0167312 , 0.9832688 ],\n",
              "       [0.03348458, 0.96651542],\n",
              "       [0.57276795, 0.42723205],\n",
              "       [0.98011799, 0.01988201],\n",
              "       [0.70586473, 0.29413527],\n",
              "       [0.98778281, 0.01221719],\n",
              "       [0.41818793, 0.58181207],\n",
              "       [0.10970733, 0.89029267],\n",
              "       [0.03174076, 0.96825924],\n",
              "       [0.07008802, 0.92991198],\n",
              "       [0.24228085, 0.75771915],\n",
              "       [0.03187768, 0.96812232],\n",
              "       [0.5983361 , 0.4016639 ],\n",
              "       [0.77448617, 0.22551383],\n",
              "       [0.79430098, 0.20569902],\n",
              "       [0.97543611, 0.02456389],\n",
              "       [0.14675587, 0.85324413],\n",
              "       [0.03833299, 0.96166701],\n",
              "       [0.99008679, 0.00991321],\n",
              "       [0.40927512, 0.59072488],\n",
              "       [0.99157472, 0.00842528],\n",
              "       [0.28528994, 0.71471006],\n",
              "       [0.79466996, 0.20533004],\n",
              "       [0.87897142, 0.12102858],\n",
              "       [0.89478638, 0.10521362],\n",
              "       [0.87161215, 0.12838785],\n",
              "       [0.07202917, 0.92797083],\n",
              "       [0.08592087, 0.91407913],\n",
              "       [0.99146593, 0.00853407],\n",
              "       [0.55202971, 0.44797029],\n",
              "       [0.17968543, 0.82031457],\n",
              "       [0.05179543, 0.94820457],\n",
              "       [0.46872819, 0.53127181],\n",
              "       [0.19889197, 0.80110803],\n",
              "       [0.04666744, 0.95333256],\n",
              "       [0.98867154, 0.01132846],\n",
              "       [0.9713853 , 0.0286147 ]])"
            ]
          },
          "metadata": {},
          "execution_count": 40
        }
      ]
    },
    {
      "cell_type": "code",
      "metadata": {
        "id": "geCm-a5kRn_5"
      },
      "source": [
        "from sklearn.preprocessing import binarize"
      ],
      "execution_count": 41,
      "outputs": []
    },
    {
      "cell_type": "code",
      "metadata": {
        "id": "jl306oy4QvR3",
        "colab": {
          "base_uri": "https://localhost:8080/"
        },
        "outputId": "de25aa52-7fd7-4c0e-b4f0-8fb7b329b491"
      },
      "source": [
        "import decimal\n",
        "\n",
        "def thr(start, stop, step):\n",
        "  while start < stop:\n",
        "    yield float(start)\n",
        "    start += decimal.Decimal(step)\n",
        "\n",
        "thr = list(thr(0, 1, '0.005'))\n",
        "NPV =[]\n",
        "for t in thr:\n",
        "    y_pred_low = binarize(Y_pred_proba, threshold=t)\n",
        "    second_column = confusion_matrix(y_test,y_pred_low[:,1],labels=[1,0])[:,1]\n",
        "    npv = second_column[1]/second_column.sum()\n",
        "    NPV.append(npv)"
      ],
      "execution_count": 42,
      "outputs": [
        {
          "output_type": "stream",
          "name": "stderr",
          "text": [
            "/usr/local/lib/python3.7/dist-packages/ipykernel_launcher.py:13: RuntimeWarning: invalid value encountered in long_scalars\n",
            "  del sys.path[0]\n",
            "/usr/local/lib/python3.7/dist-packages/ipykernel_launcher.py:13: RuntimeWarning: invalid value encountered in long_scalars\n",
            "  del sys.path[0]\n"
          ]
        }
      ]
    },
    {
      "cell_type": "code",
      "metadata": {
        "id": "j606vy68Rl1r",
        "colab": {
          "base_uri": "https://localhost:8080/",
          "height": 669
        },
        "outputId": "8ce63a10-f4f5-4678-a614-6b76acad8170"
      },
      "source": [
        "TH_data = pd.DataFrame({'threshold':thr ,' negative predictive value ': NPV  })\n",
        "TH_data.head(20)"
      ],
      "execution_count": 43,
      "outputs": [
        {
          "output_type": "execute_result",
          "data": {
            "text/html": [
              "<div>\n",
              "<style scoped>\n",
              "    .dataframe tbody tr th:only-of-type {\n",
              "        vertical-align: middle;\n",
              "    }\n",
              "\n",
              "    .dataframe tbody tr th {\n",
              "        vertical-align: top;\n",
              "    }\n",
              "\n",
              "    .dataframe thead th {\n",
              "        text-align: right;\n",
              "    }\n",
              "</style>\n",
              "<table border=\"1\" class=\"dataframe\">\n",
              "  <thead>\n",
              "    <tr style=\"text-align: right;\">\n",
              "      <th></th>\n",
              "      <th>threshold</th>\n",
              "      <th>negative predictive value</th>\n",
              "    </tr>\n",
              "  </thead>\n",
              "  <tbody>\n",
              "    <tr>\n",
              "      <th>0</th>\n",
              "      <td>0.000</td>\n",
              "      <td>NaN</td>\n",
              "    </tr>\n",
              "    <tr>\n",
              "      <th>1</th>\n",
              "      <td>0.005</td>\n",
              "      <td>NaN</td>\n",
              "    </tr>\n",
              "    <tr>\n",
              "      <th>2</th>\n",
              "      <td>0.010</td>\n",
              "      <td>1.000000</td>\n",
              "    </tr>\n",
              "    <tr>\n",
              "      <th>3</th>\n",
              "      <td>0.015</td>\n",
              "      <td>1.000000</td>\n",
              "    </tr>\n",
              "    <tr>\n",
              "      <th>4</th>\n",
              "      <td>0.020</td>\n",
              "      <td>1.000000</td>\n",
              "    </tr>\n",
              "    <tr>\n",
              "      <th>5</th>\n",
              "      <td>0.025</td>\n",
              "      <td>1.000000</td>\n",
              "    </tr>\n",
              "    <tr>\n",
              "      <th>6</th>\n",
              "      <td>0.030</td>\n",
              "      <td>1.000000</td>\n",
              "    </tr>\n",
              "    <tr>\n",
              "      <th>7</th>\n",
              "      <td>0.035</td>\n",
              "      <td>1.000000</td>\n",
              "    </tr>\n",
              "    <tr>\n",
              "      <th>8</th>\n",
              "      <td>0.040</td>\n",
              "      <td>1.000000</td>\n",
              "    </tr>\n",
              "    <tr>\n",
              "      <th>9</th>\n",
              "      <td>0.045</td>\n",
              "      <td>1.000000</td>\n",
              "    </tr>\n",
              "    <tr>\n",
              "      <th>10</th>\n",
              "      <td>0.050</td>\n",
              "      <td>1.000000</td>\n",
              "    </tr>\n",
              "    <tr>\n",
              "      <th>11</th>\n",
              "      <td>0.055</td>\n",
              "      <td>1.000000</td>\n",
              "    </tr>\n",
              "    <tr>\n",
              "      <th>12</th>\n",
              "      <td>0.060</td>\n",
              "      <td>1.000000</td>\n",
              "    </tr>\n",
              "    <tr>\n",
              "      <th>13</th>\n",
              "      <td>0.065</td>\n",
              "      <td>1.000000</td>\n",
              "    </tr>\n",
              "    <tr>\n",
              "      <th>14</th>\n",
              "      <td>0.070</td>\n",
              "      <td>1.000000</td>\n",
              "    </tr>\n",
              "    <tr>\n",
              "      <th>15</th>\n",
              "      <td>0.075</td>\n",
              "      <td>0.952381</td>\n",
              "    </tr>\n",
              "    <tr>\n",
              "      <th>16</th>\n",
              "      <td>0.080</td>\n",
              "      <td>0.954545</td>\n",
              "    </tr>\n",
              "    <tr>\n",
              "      <th>17</th>\n",
              "      <td>0.085</td>\n",
              "      <td>0.954545</td>\n",
              "    </tr>\n",
              "    <tr>\n",
              "      <th>18</th>\n",
              "      <td>0.090</td>\n",
              "      <td>0.954545</td>\n",
              "    </tr>\n",
              "    <tr>\n",
              "      <th>19</th>\n",
              "      <td>0.095</td>\n",
              "      <td>0.954545</td>\n",
              "    </tr>\n",
              "  </tbody>\n",
              "</table>\n",
              "</div>"
            ],
            "text/plain": [
              "    threshold   negative predictive value \n",
              "0       0.000                          NaN\n",
              "1       0.005                          NaN\n",
              "2       0.010                     1.000000\n",
              "3       0.015                     1.000000\n",
              "4       0.020                     1.000000\n",
              "5       0.025                     1.000000\n",
              "6       0.030                     1.000000\n",
              "7       0.035                     1.000000\n",
              "8       0.040                     1.000000\n",
              "9       0.045                     1.000000\n",
              "10      0.050                     1.000000\n",
              "11      0.055                     1.000000\n",
              "12      0.060                     1.000000\n",
              "13      0.065                     1.000000\n",
              "14      0.070                     1.000000\n",
              "15      0.075                     0.952381\n",
              "16      0.080                     0.954545\n",
              "17      0.085                     0.954545\n",
              "18      0.090                     0.954545\n",
              "19      0.095                     0.954545"
            ]
          },
          "metadata": {},
          "execution_count": 43
        }
      ]
    },
    {
      "cell_type": "code",
      "metadata": {
        "id": "L8CTHjDeRzj_",
        "colab": {
          "base_uri": "https://localhost:8080/"
        },
        "outputId": "00315f3f-1349-438d-9abf-f46aac66ffb4"
      },
      "source": [
        "Y_pred_TH = binarize(Y_pred_proba, threshold=0.075)\n",
        "Y_pred_TH\n"
      ],
      "execution_count": 51,
      "outputs": [
        {
          "output_type": "execute_result",
          "data": {
            "text/plain": [
              "array([[1., 0.],\n",
              "       [1., 1.],\n",
              "       [1., 1.],\n",
              "       [1., 0.],\n",
              "       [1., 0.],\n",
              "       [1., 0.],\n",
              "       [1., 0.],\n",
              "       [1., 1.],\n",
              "       [1., 0.],\n",
              "       [0., 1.],\n",
              "       [1., 1.],\n",
              "       [1., 1.],\n",
              "       [1., 1.],\n",
              "       [1., 1.],\n",
              "       [1., 1.],\n",
              "       [0., 1.],\n",
              "       [0., 1.],\n",
              "       [1., 0.],\n",
              "       [1., 1.],\n",
              "       [1., 1.],\n",
              "       [0., 1.],\n",
              "       [1., 0.],\n",
              "       [1., 1.],\n",
              "       [0., 1.],\n",
              "       [0., 1.],\n",
              "       [1., 1.],\n",
              "       [1., 0.],\n",
              "       [0., 1.],\n",
              "       [1., 1.],\n",
              "       [0., 1.],\n",
              "       [0., 1.],\n",
              "       [1., 1.],\n",
              "       [1., 1.],\n",
              "       [1., 1.],\n",
              "       [1., 0.],\n",
              "       [1., 1.],\n",
              "       [1., 1.],\n",
              "       [1., 1.],\n",
              "       [1., 1.],\n",
              "       [1., 0.],\n",
              "       [0., 1.],\n",
              "       [1., 0.],\n",
              "       [1., 1.],\n",
              "       [1., 0.],\n",
              "       [1., 1.],\n",
              "       [1., 1.],\n",
              "       [1., 1.],\n",
              "       [1., 1.],\n",
              "       [1., 1.],\n",
              "       [1., 1.],\n",
              "       [0., 1.],\n",
              "       [1., 1.],\n",
              "       [1., 1.],\n",
              "       [1., 1.],\n",
              "       [0., 1.],\n",
              "       [0., 1.],\n",
              "       [1., 1.],\n",
              "       [1., 0.],\n",
              "       [1., 1.],\n",
              "       [1., 0.],\n",
              "       [1., 1.],\n",
              "       [1., 1.],\n",
              "       [0., 1.],\n",
              "       [0., 1.],\n",
              "       [1., 1.],\n",
              "       [0., 1.],\n",
              "       [1., 1.],\n",
              "       [1., 1.],\n",
              "       [1., 1.],\n",
              "       [1., 0.],\n",
              "       [1., 1.],\n",
              "       [0., 1.],\n",
              "       [1., 0.],\n",
              "       [1., 1.],\n",
              "       [1., 0.],\n",
              "       [1., 1.],\n",
              "       [1., 1.],\n",
              "       [1., 1.],\n",
              "       [1., 1.],\n",
              "       [1., 1.],\n",
              "       [0., 1.],\n",
              "       [1., 1.],\n",
              "       [1., 0.],\n",
              "       [1., 1.],\n",
              "       [1., 1.],\n",
              "       [0., 1.],\n",
              "       [1., 1.],\n",
              "       [1., 1.],\n",
              "       [0., 1.],\n",
              "       [1., 0.],\n",
              "       [1., 0.]])"
            ]
          },
          "metadata": {},
          "execution_count": 51
        }
      ]
    },
    {
      "cell_type": "code",
      "metadata": {
        "id": "_osUHXa_TJ3p",
        "colab": {
          "base_uri": "https://localhost:8080/"
        },
        "outputId": "a6dba13c-1d89-49db-ef28-fbcade3603ec"
      },
      "source": [
        "confusion_matrix(y_test, Y_pred_TH[:,1],labels = [1,0])\n"
      ],
      "execution_count": 52,
      "outputs": [
        {
          "output_type": "execute_result",
          "data": {
            "text/plain": [
              "array([[49,  1],\n",
              "       [21, 20]])"
            ]
          },
          "metadata": {},
          "execution_count": 52
        }
      ]
    },
    {
      "cell_type": "code",
      "metadata": {
        "id": "P5Jav_fqTWOl",
        "colab": {
          "base_uri": "https://localhost:8080/",
          "height": 301
        },
        "outputId": "5291c6e6-6bdf-455b-ed23-a26fb2f29b6f"
      },
      "source": [
        "new_cnf = confusion_matrix(y_test, Y_pred_TH[:,1],labels = [1,0])\n",
        "p = sns.heatmap(pd.DataFrame(new_cnf), annot=True, cmap=\"YlGnBu\" ,fmt='g')\n",
        "plt.title('Confusion matrix', y=1.1)\n",
        "# plt.ylabel('Actual label')\n",
        "# plt.xlabel('Predicted label')\n"
      ],
      "execution_count": 48,
      "outputs": [
        {
          "output_type": "execute_result",
          "data": {
            "text/plain": [
              "Text(0.5, 1.1, 'Confusion matrix')"
            ]
          },
          "metadata": {},
          "execution_count": 48
        },
        {
          "output_type": "display_data",
          "data": {
            "image/png": "[encoded data removed]",
            "text/plain": [
              "<Figure size 432x288 with 2 Axes>"
            ]
          },
          "metadata": {
            "needs_background": "light"
          }
        }
      ]
    },
    {
      "cell_type": "code",
      "metadata": {
        "id": "0QNc6ZG-U8G7"
      },
      "source": [
        "def npv_func(th):\n",
        " y_pred_low = binarize(Y_pred_proba, threshold=th)\n",
        " second_column = confusion_matrix(y_test,y_pred_low[:,1],labels=[1,0])[:,1]\n",
        " npv = second_column[1]/second_column.sum()\n",
        " return npv\n"
      ],
      "execution_count": 49,
      "outputs": []
    },
    {
      "cell_type": "code",
      "metadata": {
        "id": "uCY4N2esTixd",
        "colab": {
          "base_uri": "https://localhost:8080/",
          "height": 373
        },
        "outputId": "abaa86b3-6ab9-4efb-bbc7-503c7fee35b2"
      },
      "source": [
        "plt.figure(figsize=(10,5))\n",
        "\n",
        "ths = np.arange(0,1,0.02)\n",
        "npvs = []\n",
        "for th in np.arange(0,1.00,0.02):\n",
        " npvs.append(npv_func(th))\n",
        "plt.plot(ths,npvs)\n"
      ],
      "execution_count": 50,
      "outputs": [
        {
          "output_type": "stream",
          "name": "stderr",
          "text": [
            "/usr/local/lib/python3.7/dist-packages/ipykernel_launcher.py:4: RuntimeWarning: invalid value encountered in long_scalars\n",
            "  after removing the cwd from sys.path.\n"
          ]
        },
        {
          "output_type": "execute_result",
          "data": {
            "text/plain": [
              "[<matplotlib.lines.Line2D at 0x7f730f23fd90>]"
            ]
          },
          "metadata": {},
          "execution_count": 50
        },
        {
          "output_type": "display_data",
          "data": {
            "image/png": "[encoded data removed]",
            "text/plain": [
              "<Figure size 720x360 with 1 Axes>"
            ]
          },
          "metadata": {
            "needs_background": "light"
          }
        }
      ]
    },
    {
      "cell_type": "markdown",
      "metadata": {
        "id": "Ryp9yATAZrgO"
      },
      "source": [
        "### PCA"
      ]
    },
    {
      "cell_type": "code",
      "metadata": {
        "colab": {
          "base_uri": "https://localhost:8080/",
          "height": 419
        },
        "id": "mmM0ZCuEZtWO",
        "outputId": "ff485537-9f73-4db4-9f7b-96ea2448aa91"
      },
      "source": [
        "df"
      ],
      "execution_count": 68,
      "outputs": [
        {
          "output_type": "execute_result",
          "data": {
            "text/html": [
              "<div>\n",
              "<style scoped>\n",
              "    .dataframe tbody tr th:only-of-type {\n",
              "        vertical-align: middle;\n",
              "    }\n",
              "\n",
              "    .dataframe tbody tr th {\n",
              "        vertical-align: top;\n",
              "    }\n",
              "\n",
              "    .dataframe thead th {\n",
              "        text-align: right;\n",
              "    }\n",
              "</style>\n",
              "<table border=\"1\" class=\"dataframe\">\n",
              "  <thead>\n",
              "    <tr style=\"text-align: right;\">\n",
              "      <th></th>\n",
              "      <th>age</th>\n",
              "      <th>sex</th>\n",
              "      <th>cp</th>\n",
              "      <th>trestbps</th>\n",
              "      <th>chol</th>\n",
              "      <th>fbs</th>\n",
              "      <th>restecg</th>\n",
              "      <th>thalach</th>\n",
              "      <th>exang</th>\n",
              "      <th>oldpeak</th>\n",
              "      <th>slope</th>\n",
              "      <th>ca</th>\n",
              "      <th>thal</th>\n",
              "      <th>target</th>\n",
              "    </tr>\n",
              "  </thead>\n",
              "  <tbody>\n",
              "    <tr>\n",
              "      <th>0</th>\n",
              "      <td>63</td>\n",
              "      <td>1</td>\n",
              "      <td>3</td>\n",
              "      <td>145</td>\n",
              "      <td>233</td>\n",
              "      <td>1</td>\n",
              "      <td>0</td>\n",
              "      <td>150</td>\n",
              "      <td>0</td>\n",
              "      <td>2.3</td>\n",
              "      <td>0</td>\n",
              "      <td>0</td>\n",
              "      <td>1</td>\n",
              "      <td>1</td>\n",
              "    </tr>\n",
              "    <tr>\n",
              "      <th>1</th>\n",
              "      <td>37</td>\n",
              "      <td>1</td>\n",
              "      <td>2</td>\n",
              "      <td>130</td>\n",
              "      <td>250</td>\n",
              "      <td>0</td>\n",
              "      <td>1</td>\n",
              "      <td>187</td>\n",
              "      <td>0</td>\n",
              "      <td>3.5</td>\n",
              "      <td>0</td>\n",
              "      <td>0</td>\n",
              "      <td>2</td>\n",
              "      <td>1</td>\n",
              "    </tr>\n",
              "    <tr>\n",
              "      <th>2</th>\n",
              "      <td>41</td>\n",
              "      <td>0</td>\n",
              "      <td>1</td>\n",
              "      <td>130</td>\n",
              "      <td>204</td>\n",
              "      <td>0</td>\n",
              "      <td>0</td>\n",
              "      <td>172</td>\n",
              "      <td>0</td>\n",
              "      <td>1.4</td>\n",
              "      <td>2</td>\n",
              "      <td>0</td>\n",
              "      <td>2</td>\n",
              "      <td>1</td>\n",
              "    </tr>\n",
              "    <tr>\n",
              "      <th>3</th>\n",
              "      <td>56</td>\n",
              "      <td>1</td>\n",
              "      <td>1</td>\n",
              "      <td>120</td>\n",
              "      <td>236</td>\n",
              "      <td>0</td>\n",
              "      <td>1</td>\n",
              "      <td>178</td>\n",
              "      <td>0</td>\n",
              "      <td>0.8</td>\n",
              "      <td>2</td>\n",
              "      <td>0</td>\n",
              "      <td>2</td>\n",
              "      <td>1</td>\n",
              "    </tr>\n",
              "    <tr>\n",
              "      <th>4</th>\n",
              "      <td>57</td>\n",
              "      <td>0</td>\n",
              "      <td>0</td>\n",
              "      <td>120</td>\n",
              "      <td>354</td>\n",
              "      <td>0</td>\n",
              "      <td>1</td>\n",
              "      <td>163</td>\n",
              "      <td>1</td>\n",
              "      <td>0.6</td>\n",
              "      <td>2</td>\n",
              "      <td>0</td>\n",
              "      <td>2</td>\n",
              "      <td>1</td>\n",
              "    </tr>\n",
              "    <tr>\n",
              "      <th>...</th>\n",
              "      <td>...</td>\n",
              "      <td>...</td>\n",
              "      <td>...</td>\n",
              "      <td>...</td>\n",
              "      <td>...</td>\n",
              "      <td>...</td>\n",
              "      <td>...</td>\n",
              "      <td>...</td>\n",
              "      <td>...</td>\n",
              "      <td>...</td>\n",
              "      <td>...</td>\n",
              "      <td>...</td>\n",
              "      <td>...</td>\n",
              "      <td>...</td>\n",
              "    </tr>\n",
              "    <tr>\n",
              "      <th>298</th>\n",
              "      <td>57</td>\n",
              "      <td>0</td>\n",
              "      <td>0</td>\n",
              "      <td>140</td>\n",
              "      <td>241</td>\n",
              "      <td>0</td>\n",
              "      <td>1</td>\n",
              "      <td>123</td>\n",
              "      <td>1</td>\n",
              "      <td>0.2</td>\n",
              "      <td>1</td>\n",
              "      <td>0</td>\n",
              "      <td>3</td>\n",
              "      <td>0</td>\n",
              "    </tr>\n",
              "    <tr>\n",
              "      <th>299</th>\n",
              "      <td>45</td>\n",
              "      <td>1</td>\n",
              "      <td>3</td>\n",
              "      <td>110</td>\n",
              "      <td>264</td>\n",
              "      <td>0</td>\n",
              "      <td>1</td>\n",
              "      <td>132</td>\n",
              "      <td>0</td>\n",
              "      <td>1.2</td>\n",
              "      <td>1</td>\n",
              "      <td>0</td>\n",
              "      <td>3</td>\n",
              "      <td>0</td>\n",
              "    </tr>\n",
              "    <tr>\n",
              "      <th>300</th>\n",
              "      <td>68</td>\n",
              "      <td>1</td>\n",
              "      <td>0</td>\n",
              "      <td>144</td>\n",
              "      <td>193</td>\n",
              "      <td>1</td>\n",
              "      <td>1</td>\n",
              "      <td>141</td>\n",
              "      <td>0</td>\n",
              "      <td>3.4</td>\n",
              "      <td>1</td>\n",
              "      <td>2</td>\n",
              "      <td>3</td>\n",
              "      <td>0</td>\n",
              "    </tr>\n",
              "    <tr>\n",
              "      <th>301</th>\n",
              "      <td>57</td>\n",
              "      <td>1</td>\n",
              "      <td>0</td>\n",
              "      <td>130</td>\n",
              "      <td>131</td>\n",
              "      <td>0</td>\n",
              "      <td>1</td>\n",
              "      <td>115</td>\n",
              "      <td>1</td>\n",
              "      <td>1.2</td>\n",
              "      <td>1</td>\n",
              "      <td>1</td>\n",
              "      <td>3</td>\n",
              "      <td>0</td>\n",
              "    </tr>\n",
              "    <tr>\n",
              "      <th>302</th>\n",
              "      <td>57</td>\n",
              "      <td>0</td>\n",
              "      <td>1</td>\n",
              "      <td>130</td>\n",
              "      <td>236</td>\n",
              "      <td>0</td>\n",
              "      <td>0</td>\n",
              "      <td>174</td>\n",
              "      <td>0</td>\n",
              "      <td>0.0</td>\n",
              "      <td>1</td>\n",
              "      <td>1</td>\n",
              "      <td>2</td>\n",
              "      <td>0</td>\n",
              "    </tr>\n",
              "  </tbody>\n",
              "</table>\n",
              "<p>303 rows × 14 columns</p>\n",
              "</div>"
            ],
            "text/plain": [
              "     age  sex  cp  trestbps  chol  fbs  ...  exang  oldpeak  slope  ca  thal  target\n",
              "0     63    1   3       145   233    1  ...      0      2.3      0   0     1       1\n",
              "1     37    1   2       130   250    0  ...      0      3.5      0   0     2       1\n",
              "2     41    0   1       130   204    0  ...      0      1.4      2   0     2       1\n",
              "3     56    1   1       120   236    0  ...      0      0.8      2   0     2       1\n",
              "4     57    0   0       120   354    0  ...      1      0.6      2   0     2       1\n",
              "..   ...  ...  ..       ...   ...  ...  ...    ...      ...    ...  ..   ...     ...\n",
              "298   57    0   0       140   241    0  ...      1      0.2      1   0     3       0\n",
              "299   45    1   3       110   264    0  ...      0      1.2      1   0     3       0\n",
              "300   68    1   0       144   193    1  ...      0      3.4      1   2     3       0\n",
              "301   57    1   0       130   131    0  ...      1      1.2      1   1     3       0\n",
              "302   57    0   1       130   236    0  ...      0      0.0      1   1     2       0\n",
              "\n",
              "[303 rows x 14 columns]"
            ]
          },
          "metadata": {},
          "execution_count": 68
        }
      ]
    },
    {
      "cell_type": "code",
      "metadata": {
        "id": "fOKMyJe4aC_W"
      },
      "source": [
        "from sklearn.preprocessing import StandardScaler , MinMaxScaler"
      ],
      "execution_count": 69,
      "outputs": []
    },
    {
      "cell_type": "code",
      "metadata": {
        "id": "e1CGd2O_grNU"
      },
      "source": [
        "X = df.drop(\"target\",axis=1)\n",
        "y = df[\"target\"]"
      ],
      "execution_count": 70,
      "outputs": []
    },
    {
      "cell_type": "code",
      "metadata": {
        "colab": {
          "base_uri": "https://localhost:8080/",
          "height": 419
        },
        "id": "B97tIY1vgwlD",
        "outputId": "79b7fd85-1564-4b57-db64-de43d02cf740"
      },
      "source": [
        "X"
      ],
      "execution_count": 71,
      "outputs": [
        {
          "output_type": "execute_result",
          "data": {
            "text/html": [
              "<div>\n",
              "<style scoped>\n",
              "    .dataframe tbody tr th:only-of-type {\n",
              "        vertical-align: middle;\n",
              "    }\n",
              "\n",
              "    .dataframe tbody tr th {\n",
              "        vertical-align: top;\n",
              "    }\n",
              "\n",
              "    .dataframe thead th {\n",
              "        text-align: right;\n",
              "    }\n",
              "</style>\n",
              "<table border=\"1\" class=\"dataframe\">\n",
              "  <thead>\n",
              "    <tr style=\"text-align: right;\">\n",
              "      <th></th>\n",
              "      <th>age</th>\n",
              "      <th>sex</th>\n",
              "      <th>cp</th>\n",
              "      <th>trestbps</th>\n",
              "      <th>chol</th>\n",
              "      <th>fbs</th>\n",
              "      <th>restecg</th>\n",
              "      <th>thalach</th>\n",
              "      <th>exang</th>\n",
              "      <th>oldpeak</th>\n",
              "      <th>slope</th>\n",
              "      <th>ca</th>\n",
              "      <th>thal</th>\n",
              "    </tr>\n",
              "  </thead>\n",
              "  <tbody>\n",
              "    <tr>\n",
              "      <th>0</th>\n",
              "      <td>63</td>\n",
              "      <td>1</td>\n",
              "      <td>3</td>\n",
              "      <td>145</td>\n",
              "      <td>233</td>\n",
              "      <td>1</td>\n",
              "      <td>0</td>\n",
              "      <td>150</td>\n",
              "      <td>0</td>\n",
              "      <td>2.3</td>\n",
              "      <td>0</td>\n",
              "      <td>0</td>\n",
              "      <td>1</td>\n",
              "    </tr>\n",
              "    <tr>\n",
              "      <th>1</th>\n",
              "      <td>37</td>\n",
              "      <td>1</td>\n",
              "      <td>2</td>\n",
              "      <td>130</td>\n",
              "      <td>250</td>\n",
              "      <td>0</td>\n",
              "      <td>1</td>\n",
              "      <td>187</td>\n",
              "      <td>0</td>\n",
              "      <td>3.5</td>\n",
              "      <td>0</td>\n",
              "      <td>0</td>\n",
              "      <td>2</td>\n",
              "    </tr>\n",
              "    <tr>\n",
              "      <th>2</th>\n",
              "      <td>41</td>\n",
              "      <td>0</td>\n",
              "      <td>1</td>\n",
              "      <td>130</td>\n",
              "      <td>204</td>\n",
              "      <td>0</td>\n",
              "      <td>0</td>\n",
              "      <td>172</td>\n",
              "      <td>0</td>\n",
              "      <td>1.4</td>\n",
              "      <td>2</td>\n",
              "      <td>0</td>\n",
              "      <td>2</td>\n",
              "    </tr>\n",
              "    <tr>\n",
              "      <th>3</th>\n",
              "      <td>56</td>\n",
              "      <td>1</td>\n",
              "      <td>1</td>\n",
              "      <td>120</td>\n",
              "      <td>236</td>\n",
              "      <td>0</td>\n",
              "      <td>1</td>\n",
              "      <td>178</td>\n",
              "      <td>0</td>\n",
              "      <td>0.8</td>\n",
              "      <td>2</td>\n",
              "      <td>0</td>\n",
              "      <td>2</td>\n",
              "    </tr>\n",
              "    <tr>\n",
              "      <th>4</th>\n",
              "      <td>57</td>\n",
              "      <td>0</td>\n",
              "      <td>0</td>\n",
              "      <td>120</td>\n",
              "      <td>354</td>\n",
              "      <td>0</td>\n",
              "      <td>1</td>\n",
              "      <td>163</td>\n",
              "      <td>1</td>\n",
              "      <td>0.6</td>\n",
              "      <td>2</td>\n",
              "      <td>0</td>\n",
              "      <td>2</td>\n",
              "    </tr>\n",
              "    <tr>\n",
              "      <th>...</th>\n",
              "      <td>...</td>\n",
              "      <td>...</td>\n",
              "      <td>...</td>\n",
              "      <td>...</td>\n",
              "      <td>...</td>\n",
              "      <td>...</td>\n",
              "      <td>...</td>\n",
              "      <td>...</td>\n",
              "      <td>...</td>\n",
              "      <td>...</td>\n",
              "      <td>...</td>\n",
              "      <td>...</td>\n",
              "      <td>...</td>\n",
              "    </tr>\n",
              "    <tr>\n",
              "      <th>298</th>\n",
              "      <td>57</td>\n",
              "      <td>0</td>\n",
              "      <td>0</td>\n",
              "      <td>140</td>\n",
              "      <td>241</td>\n",
              "      <td>0</td>\n",
              "      <td>1</td>\n",
              "      <td>123</td>\n",
              "      <td>1</td>\n",
              "      <td>0.2</td>\n",
              "      <td>1</td>\n",
              "      <td>0</td>\n",
              "      <td>3</td>\n",
              "    </tr>\n",
              "    <tr>\n",
              "      <th>299</th>\n",
              "      <td>45</td>\n",
              "      <td>1</td>\n",
              "      <td>3</td>\n",
              "      <td>110</td>\n",
              "      <td>264</td>\n",
              "      <td>0</td>\n",
              "      <td>1</td>\n",
              "      <td>132</td>\n",
              "      <td>0</td>\n",
              "      <td>1.2</td>\n",
              "      <td>1</td>\n",
              "      <td>0</td>\n",
              "      <td>3</td>\n",
              "    </tr>\n",
              "    <tr>\n",
              "      <th>300</th>\n",
              "      <td>68</td>\n",
              "      <td>1</td>\n",
              "      <td>0</td>\n",
              "      <td>144</td>\n",
              "      <td>193</td>\n",
              "      <td>1</td>\n",
              "      <td>1</td>\n",
              "      <td>141</td>\n",
              "      <td>0</td>\n",
              "      <td>3.4</td>\n",
              "      <td>1</td>\n",
              "      <td>2</td>\n",
              "      <td>3</td>\n",
              "    </tr>\n",
              "    <tr>\n",
              "      <th>301</th>\n",
              "      <td>57</td>\n",
              "      <td>1</td>\n",
              "      <td>0</td>\n",
              "      <td>130</td>\n",
              "      <td>131</td>\n",
              "      <td>0</td>\n",
              "      <td>1</td>\n",
              "      <td>115</td>\n",
              "      <td>1</td>\n",
              "      <td>1.2</td>\n",
              "      <td>1</td>\n",
              "      <td>1</td>\n",
              "      <td>3</td>\n",
              "    </tr>\n",
              "    <tr>\n",
              "      <th>302</th>\n",
              "      <td>57</td>\n",
              "      <td>0</td>\n",
              "      <td>1</td>\n",
              "      <td>130</td>\n",
              "      <td>236</td>\n",
              "      <td>0</td>\n",
              "      <td>0</td>\n",
              "      <td>174</td>\n",
              "      <td>0</td>\n",
              "      <td>0.0</td>\n",
              "      <td>1</td>\n",
              "      <td>1</td>\n",
              "      <td>2</td>\n",
              "    </tr>\n",
              "  </tbody>\n",
              "</table>\n",
              "<p>303 rows × 13 columns</p>\n",
              "</div>"
            ],
            "text/plain": [
              "     age  sex  cp  trestbps  chol  ...  exang  oldpeak  slope  ca  thal\n",
              "0     63    1   3       145   233  ...      0      2.3      0   0     1\n",
              "1     37    1   2       130   250  ...      0      3.5      0   0     2\n",
              "2     41    0   1       130   204  ...      0      1.4      2   0     2\n",
              "3     56    1   1       120   236  ...      0      0.8      2   0     2\n",
              "4     57    0   0       120   354  ...      1      0.6      2   0     2\n",
              "..   ...  ...  ..       ...   ...  ...    ...      ...    ...  ..   ...\n",
              "298   57    0   0       140   241  ...      1      0.2      1   0     3\n",
              "299   45    1   3       110   264  ...      0      1.2      1   0     3\n",
              "300   68    1   0       144   193  ...      0      3.4      1   2     3\n",
              "301   57    1   0       130   131  ...      1      1.2      1   1     3\n",
              "302   57    0   1       130   236  ...      0      0.0      1   1     2\n",
              "\n",
              "[303 rows x 13 columns]"
            ]
          },
          "metadata": {},
          "execution_count": 71
        }
      ]
    },
    {
      "cell_type": "code",
      "metadata": {
        "colab": {
          "base_uri": "https://localhost:8080/"
        },
        "id": "T8N70kAjaL0-",
        "outputId": "37f95e77-af89-4fba-9f53-af000b7915d5"
      },
      "source": [
        "scaler=StandardScaler()\n",
        "scaler.fit(X)"
      ],
      "execution_count": 72,
      "outputs": [
        {
          "output_type": "execute_result",
          "data": {
            "text/plain": [
              "StandardScaler()"
            ]
          },
          "metadata": {},
          "execution_count": 72
        }
      ]
    },
    {
      "cell_type": "code",
      "metadata": {
        "id": "Dty_Kbw0aqSY"
      },
      "source": [
        "scaler_data=scaler.transform(X)"
      ],
      "execution_count": 73,
      "outputs": []
    },
    {
      "cell_type": "code",
      "metadata": {
        "colab": {
          "base_uri": "https://localhost:8080/"
        },
        "id": "YocVFN7paz7t",
        "outputId": "95b61444-261e-4ae6-a149-805c26dd0ac8"
      },
      "source": [
        "scaler_data"
      ],
      "execution_count": 74,
      "outputs": [
        {
          "output_type": "execute_result",
          "data": {
            "text/plain": [
              "array([[ 0.9521966 ,  0.68100522,  1.97312292, ..., -2.27457861,\n",
              "        -0.71442887, -2.14887271],\n",
              "       [-1.91531289,  0.68100522,  1.00257707, ..., -2.27457861,\n",
              "        -0.71442887, -0.51292188],\n",
              "       [-1.47415758, -1.46841752,  0.03203122, ...,  0.97635214,\n",
              "        -0.71442887, -0.51292188],\n",
              "       ...,\n",
              "       [ 1.50364073,  0.68100522, -0.93851463, ..., -0.64911323,\n",
              "         1.24459328,  1.12302895],\n",
              "       [ 0.29046364,  0.68100522, -0.93851463, ..., -0.64911323,\n",
              "         0.26508221,  1.12302895],\n",
              "       [ 0.29046364, -1.46841752,  0.03203122, ..., -0.64911323,\n",
              "         0.26508221, -0.51292188]])"
            ]
          },
          "metadata": {},
          "execution_count": 74
        }
      ]
    },
    {
      "cell_type": "code",
      "metadata": {
        "id": "sBek6jECa2-T"
      },
      "source": [
        "from sklearn.decomposition import PCA"
      ],
      "execution_count": 75,
      "outputs": []
    },
    {
      "cell_type": "code",
      "metadata": {
        "id": "57t3w8Dka_s9"
      },
      "source": [
        "pac=PCA(n_components=3)"
      ],
      "execution_count": 76,
      "outputs": []
    },
    {
      "cell_type": "code",
      "metadata": {
        "colab": {
          "base_uri": "https://localhost:8080/"
        },
        "id": "Mrlxy_4IbIoC",
        "outputId": "10a96ebc-5f6f-4e4b-88f6-671771ed8054"
      },
      "source": [
        "\n",
        "pac.fit(scaler_data)"
      ],
      "execution_count": 77,
      "outputs": [
        {
          "output_type": "execute_result",
          "data": {
            "text/plain": [
              "PCA(n_components=3)"
            ]
          },
          "metadata": {},
          "execution_count": 77
        }
      ]
    },
    {
      "cell_type": "code",
      "metadata": {
        "id": "-RI3yEVkbbIY"
      },
      "source": [
        "x_pca = pac.transform(scaler_data)"
      ],
      "execution_count": 78,
      "outputs": []
    },
    {
      "cell_type": "code",
      "metadata": {
        "colab": {
          "base_uri": "https://localhost:8080/"
        },
        "id": "9796U1UEbNMX",
        "outputId": "7c1515cd-b5f5-43f2-f7fc-50663ca855c1"
      },
      "source": [
        "scaler_data.shape"
      ],
      "execution_count": 79,
      "outputs": [
        {
          "output_type": "execute_result",
          "data": {
            "text/plain": [
              "(303, 13)"
            ]
          },
          "metadata": {},
          "execution_count": 79
        }
      ]
    },
    {
      "cell_type": "code",
      "metadata": {
        "colab": {
          "base_uri": "https://localhost:8080/"
        },
        "id": "HSSHfrrUbVDV",
        "outputId": "8f2d0289-d7df-4e1d-c0c9-34ce6b34f78b"
      },
      "source": [
        "x_pca.shape"
      ],
      "execution_count": 80,
      "outputs": [
        {
          "output_type": "execute_result",
          "data": {
            "text/plain": [
              "(303, 3)"
            ]
          },
          "metadata": {},
          "execution_count": 80
        }
      ]
    },
    {
      "cell_type": "code",
      "metadata": {
        "colab": {
          "base_uri": "https://localhost:8080/",
          "height": 502
        },
        "id": "dAsyy8EtbXjN",
        "outputId": "c0a739fe-4512-4cbe-ab47-423082740a6b"
      },
      "source": [
        "plt.figure(figsize=(15,8))\n",
        "plt.scatter(x_pca[:,0],x_pca[:,1],c=df['target'])\n"
      ],
      "execution_count": 81,
      "outputs": [
        {
          "output_type": "execute_result",
          "data": {
            "text/plain": [
              "<matplotlib.collections.PathCollection at 0x7f730f281b10>"
            ]
          },
          "metadata": {},
          "execution_count": 81
        },
        {
          "output_type": "display_data",
          "data": {
            "image/png": "[encoded data removed]",
            "text/plain": [
              "<Figure size 1080x576 with 1 Axes>"
            ]
          },
          "metadata": {
            "needs_background": "light"
          }
        }
      ]
    },
    {
      "cell_type": "code",
      "metadata": {
        "id": "K2f6YZXhcQXm",
        "colab": {
          "base_uri": "https://localhost:8080/",
          "height": 419
        },
        "outputId": "760f849f-44ef-4d8f-831e-86a9abd68599"
      },
      "source": [
        "scores_df = pd.DataFrame(x_pca, columns=['PC1', 'PC2', 'PC3'])\n",
        "scores_df"
      ],
      "execution_count": 82,
      "outputs": [
        {
          "output_type": "execute_result",
          "data": {
            "text/html": [
              "<div>\n",
              "<style scoped>\n",
              "    .dataframe tbody tr th:only-of-type {\n",
              "        vertical-align: middle;\n",
              "    }\n",
              "\n",
              "    .dataframe tbody tr th {\n",
              "        vertical-align: top;\n",
              "    }\n",
              "\n",
              "    .dataframe thead th {\n",
              "        text-align: right;\n",
              "    }\n",
              "</style>\n",
              "<table border=\"1\" class=\"dataframe\">\n",
              "  <thead>\n",
              "    <tr style=\"text-align: right;\">\n",
              "      <th></th>\n",
              "      <th>PC1</th>\n",
              "      <th>PC2</th>\n",
              "      <th>PC3</th>\n",
              "    </tr>\n",
              "  </thead>\n",
              "  <tbody>\n",
              "    <tr>\n",
              "      <th>0</th>\n",
              "      <td>0.624111</td>\n",
              "      <td>2.321270</td>\n",
              "      <td>2.474673</td>\n",
              "    </tr>\n",
              "    <tr>\n",
              "      <th>1</th>\n",
              "      <td>-0.455988</td>\n",
              "      <td>-0.957351</td>\n",
              "      <td>1.139595</td>\n",
              "    </tr>\n",
              "    <tr>\n",
              "      <th>2</th>\n",
              "      <td>-1.828805</td>\n",
              "      <td>0.042885</td>\n",
              "      <td>-0.452229</td>\n",
              "    </tr>\n",
              "    <tr>\n",
              "      <th>3</th>\n",
              "      <td>-1.716006</td>\n",
              "      <td>-0.495337</td>\n",
              "      <td>0.030631</td>\n",
              "    </tr>\n",
              "    <tr>\n",
              "      <th>4</th>\n",
              "      <td>-0.371356</td>\n",
              "      <td>0.301156</td>\n",
              "      <td>-2.841069</td>\n",
              "    </tr>\n",
              "    <tr>\n",
              "      <th>...</th>\n",
              "      <td>...</td>\n",
              "      <td>...</td>\n",
              "      <td>...</td>\n",
              "    </tr>\n",
              "    <tr>\n",
              "      <th>298</th>\n",
              "      <td>1.146672</td>\n",
              "      <td>-0.519529</td>\n",
              "      <td>-1.708020</td>\n",
              "    </tr>\n",
              "    <tr>\n",
              "      <th>299</th>\n",
              "      <td>-0.708593</td>\n",
              "      <td>-1.045752</td>\n",
              "      <td>0.544810</td>\n",
              "    </tr>\n",
              "    <tr>\n",
              "      <th>300</th>\n",
              "      <td>2.459005</td>\n",
              "      <td>0.478262</td>\n",
              "      <td>2.208216</td>\n",
              "    </tr>\n",
              "    <tr>\n",
              "      <th>301</th>\n",
              "      <td>1.762755</td>\n",
              "      <td>-2.336816</td>\n",
              "      <td>0.454753</td>\n",
              "    </tr>\n",
              "    <tr>\n",
              "      <th>302</th>\n",
              "      <td>-0.860057</td>\n",
              "      <td>1.068516</td>\n",
              "      <td>-0.690074</td>\n",
              "    </tr>\n",
              "  </tbody>\n",
              "</table>\n",
              "<p>303 rows × 3 columns</p>\n",
              "</div>"
            ],
            "text/plain": [
              "          PC1       PC2       PC3\n",
              "0    0.624111  2.321270  2.474673\n",
              "1   -0.455988 -0.957351  1.139595\n",
              "2   -1.828805  0.042885 -0.452229\n",
              "3   -1.716006 -0.495337  0.030631\n",
              "4   -0.371356  0.301156 -2.841069\n",
              "..        ...       ...       ...\n",
              "298  1.146672 -0.519529 -1.708020\n",
              "299 -0.708593 -1.045752  0.544810\n",
              "300  2.459005  0.478262  2.208216\n",
              "301  1.762755 -2.336816  0.454753\n",
              "302 -0.860057  1.068516 -0.690074\n",
              "\n",
              "[303 rows x 3 columns]"
            ]
          },
          "metadata": {},
          "execution_count": 82
        }
      ]
    },
    {
      "cell_type": "code",
      "metadata": {
        "id": "Mtdd8SIYhTx1"
      },
      "source": [
        "Y_label = []\n",
        "\n",
        "for i in y:\n",
        "  if i == 0:\n",
        "    Y_label.append('live')\n",
        "  else:\n",
        "    Y_label.append('dead')\n",
        "\n",
        "status_1 = pd.DataFrame(Y_label, columns=['status'])"
      ],
      "execution_count": 83,
      "outputs": []
    },
    {
      "cell_type": "code",
      "metadata": {
        "id": "oeA3NU7ahzLc"
      },
      "source": [
        "df_scores = pd.concat([scores_df, status_1], axis=1)\n"
      ],
      "execution_count": 84,
      "outputs": []
    },
    {
      "cell_type": "code",
      "metadata": {
        "colab": {
          "base_uri": "https://localhost:8080/",
          "height": 452
        },
        "id": "Of2ZcgxOiUQB",
        "outputId": "4b68b440-4618-49fc-907a-003192a308fa"
      },
      "source": [
        "loadings = pac.components_.T\n",
        "df_loadings = pd.DataFrame(loadings, columns=['PC1', 'PC2','PC3'], index=X.columns)\n",
        "df_loadings"
      ],
      "execution_count": 85,
      "outputs": [
        {
          "output_type": "execute_result",
          "data": {
            "text/html": [
              "<div>\n",
              "<style scoped>\n",
              "    .dataframe tbody tr th:only-of-type {\n",
              "        vertical-align: middle;\n",
              "    }\n",
              "\n",
              "    .dataframe tbody tr th {\n",
              "        vertical-align: top;\n",
              "    }\n",
              "\n",
              "    .dataframe thead th {\n",
              "        text-align: right;\n",
              "    }\n",
              "</style>\n",
              "<table border=\"1\" class=\"dataframe\">\n",
              "  <thead>\n",
              "    <tr style=\"text-align: right;\">\n",
              "      <th></th>\n",
              "      <th>PC1</th>\n",
              "      <th>PC2</th>\n",
              "      <th>PC3</th>\n",
              "    </tr>\n",
              "  </thead>\n",
              "  <tbody>\n",
              "    <tr>\n",
              "      <th>age</th>\n",
              "      <td>0.314203</td>\n",
              "      <td>0.406149</td>\n",
              "      <td>-0.094077</td>\n",
              "    </tr>\n",
              "    <tr>\n",
              "      <th>sex</th>\n",
              "      <td>0.090838</td>\n",
              "      <td>-0.377792</td>\n",
              "      <td>0.554849</td>\n",
              "    </tr>\n",
              "    <tr>\n",
              "      <th>cp</th>\n",
              "      <td>-0.274607</td>\n",
              "      <td>0.297266</td>\n",
              "      <td>0.356974</td>\n",
              "    </tr>\n",
              "    <tr>\n",
              "      <th>trestbps</th>\n",
              "      <td>0.183920</td>\n",
              "      <td>0.438187</td>\n",
              "      <td>0.203849</td>\n",
              "    </tr>\n",
              "    <tr>\n",
              "      <th>chol</th>\n",
              "      <td>0.117375</td>\n",
              "      <td>0.364514</td>\n",
              "      <td>-0.407825</td>\n",
              "    </tr>\n",
              "    <tr>\n",
              "      <th>fbs</th>\n",
              "      <td>0.073640</td>\n",
              "      <td>0.317433</td>\n",
              "      <td>0.481736</td>\n",
              "    </tr>\n",
              "    <tr>\n",
              "      <th>restecg</th>\n",
              "      <td>-0.127728</td>\n",
              "      <td>-0.220882</td>\n",
              "      <td>-0.089191</td>\n",
              "    </tr>\n",
              "    <tr>\n",
              "      <th>thalach</th>\n",
              "      <td>-0.416498</td>\n",
              "      <td>0.077876</td>\n",
              "      <td>0.158255</td>\n",
              "    </tr>\n",
              "    <tr>\n",
              "      <th>exang</th>\n",
              "      <td>0.361267</td>\n",
              "      <td>-0.263118</td>\n",
              "      <td>-0.126356</td>\n",
              "    </tr>\n",
              "    <tr>\n",
              "      <th>oldpeak</th>\n",
              "      <td>0.419639</td>\n",
              "      <td>-0.052255</td>\n",
              "      <td>0.110343</td>\n",
              "    </tr>\n",
              "    <tr>\n",
              "      <th>slope</th>\n",
              "      <td>-0.379772</td>\n",
              "      <td>0.048374</td>\n",
              "      <td>-0.073818</td>\n",
              "    </tr>\n",
              "    <tr>\n",
              "      <th>ca</th>\n",
              "      <td>0.273262</td>\n",
              "      <td>0.094147</td>\n",
              "      <td>0.183569</td>\n",
              "    </tr>\n",
              "    <tr>\n",
              "      <th>thal</th>\n",
              "      <td>0.222024</td>\n",
              "      <td>-0.200720</td>\n",
              "      <td>0.125011</td>\n",
              "    </tr>\n",
              "  </tbody>\n",
              "</table>\n",
              "</div>"
            ],
            "text/plain": [
              "               PC1       PC2       PC3\n",
              "age       0.314203  0.406149 -0.094077\n",
              "sex       0.090838 -0.377792  0.554849\n",
              "cp       -0.274607  0.297266  0.356974\n",
              "trestbps  0.183920  0.438187  0.203849\n",
              "chol      0.117375  0.364514 -0.407825\n",
              "fbs       0.073640  0.317433  0.481736\n",
              "restecg  -0.127728 -0.220882 -0.089191\n",
              "thalach  -0.416498  0.077876  0.158255\n",
              "exang     0.361267 -0.263118 -0.126356\n",
              "oldpeak   0.419639 -0.052255  0.110343\n",
              "slope    -0.379772  0.048374 -0.073818\n",
              "ca        0.273262  0.094147  0.183569\n",
              "thal      0.222024 -0.200720  0.125011"
            ]
          },
          "metadata": {},
          "execution_count": 85
        }
      ]
    },
    {
      "cell_type": "code",
      "metadata": {
        "colab": {
          "base_uri": "https://localhost:8080/"
        },
        "id": "wcCItg8fiqIj",
        "outputId": "328378d0-4638-4821-d2ba-751b760d3140"
      },
      "source": [
        "explained_variance = pac.explained_variance_ratio_\n",
        "explained_variance"
      ],
      "execution_count": 86,
      "outputs": [
        {
          "output_type": "execute_result",
          "data": {
            "text/plain": [
              "array([0.21254053, 0.11820708, 0.09406418])"
            ]
          },
          "metadata": {},
          "execution_count": 86
        }
      ]
    },
    {
      "cell_type": "code",
      "metadata": {
        "id": "ARflv1YAkN9C"
      },
      "source": [
        "import numpy as np\n",
        "import plotly.express as px"
      ],
      "execution_count": 87,
      "outputs": []
    },
    {
      "cell_type": "code",
      "metadata": {
        "id": "tbzeuLa_kTxZ"
      },
      "source": [
        "explained_variance = np.insert(explained_variance, 0, 0)\n"
      ],
      "execution_count": 88,
      "outputs": []
    },
    {
      "cell_type": "code",
      "metadata": {
        "id": "AOMp-IybkaJr"
      },
      "source": [
        "cumulative_variance = np.cumsum(np.round(explained_variance, decimals=3))"
      ],
      "execution_count": 89,
      "outputs": []
    },
    {
      "cell_type": "code",
      "metadata": {
        "id": "QLrezOHqkue4"
      },
      "source": [
        "pc_df = pd.DataFrame(['','PC1', 'PC2', 'PC3'], columns=['PC'])\n",
        "explained_variance_df = pd.DataFrame(explained_variance, columns=['Explained Variance'])\n",
        "cumulative_variance_df = pd.DataFrame(cumulative_variance, columns=['Cumulative Variance'])"
      ],
      "execution_count": 90,
      "outputs": []
    },
    {
      "cell_type": "code",
      "metadata": {
        "colab": {
          "base_uri": "https://localhost:8080/",
          "height": 173
        },
        "id": "aFhdT9mgkeUO",
        "outputId": "90d8b873-29be-4b75-a2f6-35a690241ad8"
      },
      "source": [
        "df_explained_variance = pd.concat([pc_df, explained_variance_df, cumulative_variance_df], axis=1)\n",
        "df_explained_variance"
      ],
      "execution_count": 91,
      "outputs": [
        {
          "output_type": "execute_result",
          "data": {
            "text/html": [
              "<div>\n",
              "<style scoped>\n",
              "    .dataframe tbody tr th:only-of-type {\n",
              "        vertical-align: middle;\n",
              "    }\n",
              "\n",
              "    .dataframe tbody tr th {\n",
              "        vertical-align: top;\n",
              "    }\n",
              "\n",
              "    .dataframe thead th {\n",
              "        text-align: right;\n",
              "    }\n",
              "</style>\n",
              "<table border=\"1\" class=\"dataframe\">\n",
              "  <thead>\n",
              "    <tr style=\"text-align: right;\">\n",
              "      <th></th>\n",
              "      <th>PC</th>\n",
              "      <th>Explained Variance</th>\n",
              "      <th>Cumulative Variance</th>\n",
              "    </tr>\n",
              "  </thead>\n",
              "  <tbody>\n",
              "    <tr>\n",
              "      <th>0</th>\n",
              "      <td></td>\n",
              "      <td>0.000000</td>\n",
              "      <td>0.000</td>\n",
              "    </tr>\n",
              "    <tr>\n",
              "      <th>1</th>\n",
              "      <td>PC1</td>\n",
              "      <td>0.212541</td>\n",
              "      <td>0.213</td>\n",
              "    </tr>\n",
              "    <tr>\n",
              "      <th>2</th>\n",
              "      <td>PC2</td>\n",
              "      <td>0.118207</td>\n",
              "      <td>0.331</td>\n",
              "    </tr>\n",
              "    <tr>\n",
              "      <th>3</th>\n",
              "      <td>PC3</td>\n",
              "      <td>0.094064</td>\n",
              "      <td>0.425</td>\n",
              "    </tr>\n",
              "  </tbody>\n",
              "</table>\n",
              "</div>"
            ],
            "text/plain": [
              "    PC  Explained Variance  Cumulative Variance\n",
              "0                 0.000000                0.000\n",
              "1  PC1            0.212541                0.213\n",
              "2  PC2            0.118207                0.331\n",
              "3  PC3            0.094064                0.425"
            ]
          },
          "metadata": {},
          "execution_count": 91
        }
      ]
    },
    {
      "cell_type": "code",
      "metadata": {
        "colab": {
          "base_uri": "https://localhost:8080/",
          "height": 542
        },
        "id": "9coQ7Fu3kopc",
        "outputId": "ac560a0b-5a2f-4112-a1b7-7bb8c2abbb67"
      },
      "source": [
        "\n",
        "fig = px.bar(df_explained_variance, \n",
        "             x='PC', y='Explained Variance',\n",
        "             text='Explained Variance',\n",
        "             width=800)\n",
        "\n",
        "fig.update_traces(texttemplate='%{text:.3f}', textposition='outside')\n",
        "fig.show()"
      ],
      "execution_count": 92,
      "outputs": [
        {
          "output_type": "display_data",
          "data": {
            "text/html": [
              "<html>\n",
              "<head><meta charset=\"utf-8\" /></head>\n",
              "<body>\n",
              "    <div>\n",
              "            <script src=\"https://cdnjs.cloudflare.com/ajax/libs/mathjax/2.7.5/MathJax.js?config=TeX-AMS-MML_SVG\"></script><script type=\"text/javascript\">if (window.MathJax) {MathJax.Hub.Config({SVG: {font: \"STIX-Web\"}});}</script>\n",
              "                <script type=\"text/javascript\">window.PlotlyConfig = {MathJaxConfig: 'local'};</script>\n",
              "        <script src=\"https://cdn.plot.ly/plotly-latest.min.js\"></script>    \n",
              "            <div id=\"23163e78-6517-4277-a974-34b36240cf93\" class=\"plotly-graph-div\" style=\"height:525px; width:800px;\"></div>\n",
              "            <script type=\"text/javascript\">\n",
              "                \n",
              "                    window.PLOTLYENV=window.PLOTLYENV || {};\n",
              "                    \n",
              "                if (document.getElementById(\"23163e78-6517-4277-a974-34b36240cf93\")) {\n",
              "                    Plotly.newPlot(\n",
              "                        '23163e78-6517-4277-a974-34b36240cf93',\n",
              "                        [{\"alignmentgroup\": \"True\", \"hoverlabel\": {\"namelength\": 0}, \"hovertemplate\": \"PC=%{x}<br>Explained Variance=%{text}\", \"legendgroup\": \"\", \"marker\": {\"color\": \"#636efa\"}, \"name\": \"\", \"offsetgroup\": \"\", \"orientation\": \"v\", \"showlegend\": false, \"text\": [0.0, 0.21254053121851954, 0.11820707724327453, 0.09406417688208983], \"textposition\": \"outside\", \"texttemplate\": \"%{text:.3f}\", \"type\": \"bar\", \"x\": [\"\", \"PC1\", \"PC2\", \"PC3\"], \"xaxis\": \"x\", \"y\": [0.0, 0.21254053121851954, 0.11820707724327453, 0.09406417688208983], \"yaxis\": \"y\"}],\n",
              "                        {\"barmode\": \"relative\", \"legend\": {\"tracegroupgap\": 0}, \"margin\": {\"t\": 60}, \"template\": {\"data\": {\"bar\": [{\"error_x\": {\"color\": \"#2a3f5f\"}, \"error_y\": {\"color\": \"#2a3f5f\"}, \"marker\": {\"line\": {\"color\": \"#E5ECF6\", \"width\": 0.5}}, \"type\": \"bar\"}], \"barpolar\": [{\"marker\": {\"line\": {\"color\": \"#E5ECF6\", \"width\": 0.5}}, \"type\": \"barpolar\"}], \"carpet\": [{\"aaxis\": {\"endlinecolor\": \"#2a3f5f\", \"gridcolor\": \"white\", \"linecolor\": \"white\", \"minorgridcolor\": \"white\", \"startlinecolor\": \"#2a3f5f\"}, \"baxis\": {\"endlinecolor\": \"#2a3f5f\", \"gridcolor\": \"white\", \"linecolor\": \"white\", \"minorgridcolor\": \"white\", \"startlinecolor\": \"#2a3f5f\"}, \"type\": \"carpet\"}], \"choropleth\": [{\"colorbar\": {\"outlinewidth\": 0, \"ticks\": \"\"}, \"type\": \"choropleth\"}], \"contour\": [{\"colorbar\": {\"outlinewidth\": 0, \"ticks\": \"\"}, \"colorscale\": [[0.0, \"#0d0887\"], [0.1111111111111111, \"#46039f\"], [0.2222222222222222, \"#7201a8\"], [0.3333333333333333, \"#9c179e\"], [0.4444444444444444, \"#bd3786\"], [0.5555555555555556, \"#d8576b\"], [0.6666666666666666, \"#ed7953\"], [0.7777777777777778, \"#fb9f3a\"], [0.8888888888888888, \"#fdca26\"], [1.0, \"#f0f921\"]], \"type\": \"contour\"}], \"contourcarpet\": [{\"colorbar\": {\"outlinewidth\": 0, \"ticks\": \"\"}, \"type\": \"contourcarpet\"}], \"heatmap\": [{\"colorbar\": {\"outlinewidth\": 0, \"ticks\": \"\"}, \"colorscale\": [[0.0, \"#0d0887\"], [0.1111111111111111, \"#46039f\"], [0.2222222222222222, \"#7201a8\"], [0.3333333333333333, \"#9c179e\"], [0.4444444444444444, \"#bd3786\"], [0.5555555555555556, \"#d8576b\"], [0.6666666666666666, \"#ed7953\"], [0.7777777777777778, \"#fb9f3a\"], [0.8888888888888888, \"#fdca26\"], [1.0, \"#f0f921\"]], \"type\": \"heatmap\"}], \"heatmapgl\": [{\"colorbar\": {\"outlinewidth\": 0, \"ticks\": \"\"}, \"colorscale\": [[0.0, \"#0d0887\"], [0.1111111111111111, \"#46039f\"], [0.2222222222222222, \"#7201a8\"], [0.3333333333333333, \"#9c179e\"], [0.4444444444444444, \"#bd3786\"], [0.5555555555555556, \"#d8576b\"], [0.6666666666666666, \"#ed7953\"], [0.7777777777777778, \"#fb9f3a\"], [0.8888888888888888, \"#fdca26\"], [1.0, \"#f0f921\"]], \"type\": \"heatmapgl\"}], \"histogram\": [{\"marker\": {\"colorbar\": {\"outlinewidth\": 0, \"ticks\": \"\"}}, \"type\": \"histogram\"}], \"histogram2d\": [{\"colorbar\": {\"outlinewidth\": 0, \"ticks\": \"\"}, \"colorscale\": [[0.0, \"#0d0887\"], [0.1111111111111111, \"#46039f\"], [0.2222222222222222, \"#7201a8\"], [0.3333333333333333, \"#9c179e\"], [0.4444444444444444, \"#bd3786\"], [0.5555555555555556, \"#d8576b\"], [0.6666666666666666, \"#ed7953\"], [0.7777777777777778, \"#fb9f3a\"], [0.8888888888888888, \"#fdca26\"], [1.0, \"#f0f921\"]], \"type\": \"histogram2d\"}], \"histogram2dcontour\": [{\"colorbar\": {\"outlinewidth\": 0, \"ticks\": \"\"}, \"colorscale\": [[0.0, \"#0d0887\"], [0.1111111111111111, \"#46039f\"], [0.2222222222222222, \"#7201a8\"], [0.3333333333333333, \"#9c179e\"], [0.4444444444444444, \"#bd3786\"], [0.5555555555555556, \"#d8576b\"], [0.6666666666666666, \"#ed7953\"], [0.7777777777777778, \"#fb9f3a\"], [0.8888888888888888, \"#fdca26\"], [1.0, \"#f0f921\"]], \"type\": \"histogram2dcontour\"}], \"mesh3d\": [{\"colorbar\": {\"outlinewidth\": 0, \"ticks\": \"\"}, \"type\": \"mesh3d\"}], \"parcoords\": [{\"line\": {\"colorbar\": {\"outlinewidth\": 0, \"ticks\": \"\"}}, \"type\": \"parcoords\"}], \"pie\": [{\"automargin\": true, \"type\": \"pie\"}], \"scatter\": [{\"marker\": {\"colorbar\": {\"outlinewidth\": 0, \"ticks\": \"\"}}, \"type\": \"scatter\"}], \"scatter3d\": [{\"line\": {\"colorbar\": {\"outlinewidth\": 0, \"ticks\": \"\"}}, \"marker\": {\"colorbar\": {\"outlinewidth\": 0, \"ticks\": \"\"}}, \"type\": \"scatter3d\"}], \"scattercarpet\": [{\"marker\": {\"colorbar\": {\"outlinewidth\": 0, \"ticks\": \"\"}}, \"type\": \"scattercarpet\"}], \"scattergeo\": [{\"marker\": {\"colorbar\": {\"outlinewidth\": 0, \"ticks\": \"\"}}, \"type\": \"scattergeo\"}], \"scattergl\": [{\"marker\": {\"colorbar\": {\"outlinewidth\": 0, \"ticks\": \"\"}}, \"type\": \"scattergl\"}], \"scattermapbox\": [{\"marker\": {\"colorbar\": {\"outlinewidth\": 0, \"ticks\": \"\"}}, \"type\": \"scattermapbox\"}], \"scatterpolar\": [{\"marker\": {\"colorbar\": {\"outlinewidth\": 0, \"ticks\": \"\"}}, \"type\": \"scatterpolar\"}], \"scatterpolargl\": [{\"marker\": {\"colorbar\": {\"outlinewidth\": 0, \"ticks\": \"\"}}, \"type\": \"scatterpolargl\"}], \"scatterternary\": [{\"marker\": {\"colorbar\": {\"outlinewidth\": 0, \"ticks\": \"\"}}, \"type\": \"scatterternary\"}], \"surface\": [{\"colorbar\": {\"outlinewidth\": 0, \"ticks\": \"\"}, \"colorscale\": [[0.0, \"#0d0887\"], [0.1111111111111111, \"#46039f\"], [0.2222222222222222, \"#7201a8\"], [0.3333333333333333, \"#9c179e\"], [0.4444444444444444, \"#bd3786\"], [0.5555555555555556, \"#d8576b\"], [0.6666666666666666, \"#ed7953\"], [0.7777777777777778, \"#fb9f3a\"], [0.8888888888888888, \"#fdca26\"], [1.0, \"#f0f921\"]], \"type\": \"surface\"}], \"table\": [{\"cells\": {\"fill\": {\"color\": \"#EBF0F8\"}, \"line\": {\"color\": \"white\"}}, \"header\": {\"fill\": {\"color\": \"#C8D4E3\"}, \"line\": {\"color\": \"white\"}}, \"type\": \"table\"}]}, \"layout\": {\"annotationdefaults\": {\"arrowcolor\": \"#2a3f5f\", \"arrowhead\": 0, \"arrowwidth\": 1}, \"coloraxis\": {\"colorbar\": {\"outlinewidth\": 0, \"ticks\": \"\"}}, \"colorscale\": {\"diverging\": [[0, \"#8e0152\"], [0.1, \"#c51b7d\"], [0.2, \"#de77ae\"], [0.3, \"#f1b6da\"], [0.4, \"#fde0ef\"], [0.5, \"#f7f7f7\"], [0.6, \"#e6f5d0\"], [0.7, \"#b8e186\"], [0.8, \"#7fbc41\"], [0.9, \"#4d9221\"], [1, \"#276419\"]], \"sequential\": [[0.0, \"#0d0887\"], [0.1111111111111111, \"#46039f\"], [0.2222222222222222, \"#7201a8\"], [0.3333333333333333, \"#9c179e\"], [0.4444444444444444, \"#bd3786\"], [0.5555555555555556, \"#d8576b\"], [0.6666666666666666, \"#ed7953\"], [0.7777777777777778, \"#fb9f3a\"], [0.8888888888888888, \"#fdca26\"], [1.0, \"#f0f921\"]], \"sequentialminus\": [[0.0, \"#0d0887\"], [0.1111111111111111, \"#46039f\"], [0.2222222222222222, \"#7201a8\"], [0.3333333333333333, \"#9c179e\"], [0.4444444444444444, \"#bd3786\"], [0.5555555555555556, \"#d8576b\"], [0.6666666666666666, \"#ed7953\"], [0.7777777777777778, \"#fb9f3a\"], [0.8888888888888888, \"#fdca26\"], [1.0, \"#f0f921\"]]}, \"colorway\": [\"#636efa\", \"#EF553B\", \"#00cc96\", \"#ab63fa\", \"#FFA15A\", \"#19d3f3\", \"#FF6692\", \"#B6E880\", \"#FF97FF\", \"#FECB52\"], \"font\": {\"color\": \"#2a3f5f\"}, \"geo\": {\"bgcolor\": \"white\", \"lakecolor\": \"white\", \"landcolor\": \"#E5ECF6\", \"showlakes\": true, \"showland\": true, \"subunitcolor\": \"white\"}, \"hoverlabel\": {\"align\": \"left\"}, \"hovermode\": \"closest\", \"mapbox\": {\"style\": \"light\"}, \"paper_bgcolor\": \"white\", \"plot_bgcolor\": \"#E5ECF6\", \"polar\": {\"angularaxis\": {\"gridcolor\": \"white\", \"linecolor\": \"white\", \"ticks\": \"\"}, \"bgcolor\": \"#E5ECF6\", \"radialaxis\": {\"gridcolor\": \"white\", \"linecolor\": \"white\", \"ticks\": \"\"}}, \"scene\": {\"xaxis\": {\"backgroundcolor\": \"#E5ECF6\", \"gridcolor\": \"white\", \"gridwidth\": 2, \"linecolor\": \"white\", \"showbackground\": true, \"ticks\": \"\", \"zerolinecolor\": \"white\"}, \"yaxis\": {\"backgroundcolor\": \"#E5ECF6\", \"gridcolor\": \"white\", \"gridwidth\": 2, \"linecolor\": \"white\", \"showbackground\": true, \"ticks\": \"\", \"zerolinecolor\": \"white\"}, \"zaxis\": {\"backgroundcolor\": \"#E5ECF6\", \"gridcolor\": \"white\", \"gridwidth\": 2, \"linecolor\": \"white\", \"showbackground\": true, \"ticks\": \"\", \"zerolinecolor\": \"white\"}}, \"shapedefaults\": {\"line\": {\"color\": \"#2a3f5f\"}}, \"ternary\": {\"aaxis\": {\"gridcolor\": \"white\", \"linecolor\": \"white\", \"ticks\": \"\"}, \"baxis\": {\"gridcolor\": \"white\", \"linecolor\": \"white\", \"ticks\": \"\"}, \"bgcolor\": \"#E5ECF6\", \"caxis\": {\"gridcolor\": \"white\", \"linecolor\": \"white\", \"ticks\": \"\"}}, \"title\": {\"x\": 0.05}, \"xaxis\": {\"automargin\": true, \"gridcolor\": \"white\", \"linecolor\": \"white\", \"ticks\": \"\", \"title\": {\"standoff\": 15}, \"zerolinecolor\": \"white\", \"zerolinewidth\": 2}, \"yaxis\": {\"automargin\": true, \"gridcolor\": \"white\", \"linecolor\": \"white\", \"ticks\": \"\", \"title\": {\"standoff\": 15}, \"zerolinecolor\": \"white\", \"zerolinewidth\": 2}}}, \"width\": 800, \"xaxis\": {\"anchor\": \"y\", \"domain\": [0.0, 1.0], \"title\": {\"text\": \"PC\"}}, \"yaxis\": {\"anchor\": \"x\", \"domain\": [0.0, 1.0], \"title\": {\"text\": \"Explained Variance\"}}},\n",
              "                        {\"responsive\": true}\n",
              "                    ).then(function(){\n",
              "                            \n",
              "var gd = document.getElementById('23163e78-6517-4277-a974-34b36240cf93');\n",
              "var x = new MutationObserver(function (mutations, observer) {{\n",
              "        var display = window.getComputedStyle(gd).display;\n",
              "        if (!display || display === 'none') {{\n",
              "            console.log([gd, 'removed!']);\n",
              "            Plotly.purge(gd);\n",
              "            observer.disconnect();\n",
              "        }}\n",
              "}});\n",
              "\n",
              "// Listen for the removal of the full notebook cells\n",
              "var notebookContainer = gd.closest('#notebook-container');\n",
              "if (notebookContainer) {{\n",
              "    x.observe(notebookContainer, {childList: true});\n",
              "}}\n",
              "\n",
              "// Listen for the clearing of the current output cell\n",
              "var outputEl = gd.closest('.output');\n",
              "if (outputEl) {{\n",
              "    x.observe(outputEl, {childList: true});\n",
              "}}\n",
              "\n",
              "                        })\n",
              "                };\n",
              "                \n",
              "            </script>\n",
              "        </div>\n",
              "</body>\n",
              "</html>"
            ]
          },
          "metadata": {}
        }
      ]
    },
    {
      "cell_type": "code",
      "metadata": {
        "id": "Rmrz1LDAk8Xv"
      },
      "source": [
        "import plotly.express as px\n"
      ],
      "execution_count": 93,
      "outputs": []
    },
    {
      "cell_type": "code",
      "metadata": {
        "colab": {
          "base_uri": "https://localhost:8080/",
          "height": 542
        },
        "id": "Ny5vNshvlIMf",
        "outputId": "0742df5f-bfec-4f88-fbba-1d3cb38a83d5"
      },
      "source": [
        "fig = px.scatter_3d(df_scores, x='PC1', y='PC2', z='PC3',\n",
        "              color='status')\n",
        "\n",
        "fig.show()"
      ],
      "execution_count": 94,
      "outputs": [
        {
          "output_type": "display_data",
          "data": {
            "text/html": [
              "<html>\n",
              "<head><meta charset=\"utf-8\" /></head>\n",
              "<body>\n",
              "    <div>\n",
              "            <script src=\"https://cdnjs.cloudflare.com/ajax/libs/mathjax/2.7.5/MathJax.js?config=TeX-AMS-MML_SVG\"></script><script type=\"text/javascript\">if (window.MathJax) {MathJax.Hub.Config({SVG: {font: \"STIX-Web\"}});}</script>\n",
              "                <script type=\"text/javascript\">window.PlotlyConfig = {MathJaxConfig: 'local'};</script>\n",
              "        <script src=\"https://cdn.plot.ly/plotly-latest.min.js\"></script>    \n",
              "            <div id=\"7319bbe1-55e4-4a6b-92fc-8d595b3239a0\" class=\"plotly-graph-div\" style=\"height:525px; width:100%;\"></div>\n",
              "            <script type=\"text/javascript\">\n",
              "                \n",
              "                    window.PLOTLYENV=window.PLOTLYENV || {};\n",
              "                    \n",
              "                if (document.getElementById(\"7319bbe1-55e4-4a6b-92fc-8d595b3239a0\")) {\n",
              "                    Plotly.newPlot(\n",
              "                        '7319bbe1-55e4-4a6b-92fc-8d595b3239a0',\n",
              "                        [{\"hoverlabel\": {\"namelength\": 0}, \"hovertemplate\": \"status=dead<br>PC1=%{x}<br>PC2=%{y}<br>PC3=%{z}\", \"legendgroup\": \"status=dead\", \"marker\": {\"color\": \"#636efa\", \"symbol\": \"circle\"}, \"mode\": \"markers\", \"name\": \"status=dead\", \"scene\": \"scene\", \"showlegend\": true, \"type\": \"scatter3d\", \"x\": [0.624110729358281, -0.4559879751138247, -1.8288049117021987, -1.716006051129394, -0.3713564209603494, -0.6488674600154541, -0.07265340407744457, -1.9059257443644266, -0.9057327686949437, -1.4245208404419003, -0.8292492470602568, -1.7683705195463664, -1.7303936368343518, 0.4785795416708021, -1.1390499920351889, -1.153057282058823, -2.0528963472592325, 1.2466056708726883, -1.1789879491220432, -0.3877989959105923, -0.010948458111347432, -1.6928837685632474, -2.0368447948531347, 0.9355595750181411, -1.326641769479767, -0.13964491905677653, -0.7386948697878137, -1.4698527314538263, -0.14471858316148078, 0.23344635821122425, -2.514627066562532, -0.36090983244052843, -2.2938197146461543, 0.19513872342776226, 0.04179787705000426, 0.3661865817304824, -1.8720967232078782, -0.6128684818538502, -0.876984259634751, -0.42939086198096027, -0.5575702713681687, -1.2608109327552444, 0.9114693567382097, -0.22686725456465529, -2.287910243155667, -1.7606672440270663, -2.273294067156452, -1.7033120296893176, -1.8683657247611134, -1.2826307052128931, -1.5377448297018161, 0.25431597520630217, 1.0474668614937148, -2.3356088430647706, -1.6783855507437166, -1.1550143199349228, -1.929489837769771, -2.0025682534041067, -3.1283756724781546, -0.8066694906421429, -0.3945603239735325, -1.2714704844721243, -2.5328799676519376, -1.3507940382506305, -1.3623054928128389, -2.1592372059436244, -0.22777531872051598, -1.349093902832537, -2.312042819733555, -1.4724571114341556, -0.3582905352035394, -0.900657970281052, -3.1026314852217975, -0.7777274742360842, -2.0225546929612648, -0.3691413086450209, -0.21737416222929215, -0.7003501635056808, -2.032720228270589, 0.29709938794248786, -2.862427974999073, -1.7504477151052802, -1.7363424713300413, -0.5784693562923571, -0.4450090184323906, 0.7361846430405563, -0.29963969659245204, -1.6691960892728417, -1.1308289792400967, 0.1946776720398101, -1.6672030918546215, -0.3285621450754931, -1.0165916847457697, -0.1918122616228603, -1.492628056703988, 0.9624408867226938, 0.5195600810437204, -0.036455630169719096, -1.191470004621874, -0.9039420109168366, -1.6433009337893778, 2.2143324897880197, -1.324105396874637, -0.9450989261069029, -2.2030500615677333, 0.44283182200857796, 0.555050959462115, 0.05036439634073578, -1.701001519194131, -1.6171275860619008, 0.3823968401141799, -1.1704421412921349, -0.5501814306917612, -1.6784908148511626, -1.4573424377246493, -3.0277237279454265, -0.9700181791798962, -0.43311909447085706, -2.6682695252955533, 0.02849159019088246, 1.4965314989064524, -1.196236254348482, -1.8757933141058556, -2.148783336321029, -3.4317436150307925, -3.044800043345987, -1.533920337542994, -1.280126035582835, -1.4679413914410728, 0.8895421486863111, -1.6550516273397122, -1.3082667980203169, -2.065514806262107, -2.1773866911168644, -2.225653494454063, -1.7238214242861243, -0.7597394930302271, -0.6346879831069744, 0.6256071263857599, 2.1038536107072274, -1.6638294673132639, -1.0930454241729233, -2.30540298940819, -0.4300921601440567, 0.24877104825417182, -0.241139543179268, -1.3688532707743095, -1.8177835912310232, -2.546738334965721, -2.2692855878994536, 0.4507187884748374, 0.4659290538144689, 0.1033079410747697, -0.1506606023730754, -1.8128474327743014, -0.15790734054096964, -2.4586289297870727, -2.7392795437363415, 0.8951624729344948, -1.0548849665824191, -0.5980130451274274, -1.2160421505656644, -2.777470712521213, -1.6834685627209474, -1.6834685627209474], \"y\": [2.321270276250733, -0.9573509816169326, 0.042884773695526096, -0.49533732349483667, 0.3011561752748496, -0.38288234988753567, 1.4602195418443862, -1.1519947039026743, 1.1780250504995984, 0.06004404684516723, -0.43111166197507395, 0.66608201013261, -0.36212245176051666, -0.3661008797524617, 3.3150503322629703, 0.033884279165863784, 1.4430437548048929, 1.5656322000248155, -0.5932883567172434, 2.045096824834969, -0.7395335493427969, -1.0547821086779228, -0.9448166396709523, 0.9216097530576505, -1.311549566933699, 2.6025569548593315, 1.2943361969419416, -1.2890554603908535, 4.1179917215774235, 0.6838632987755555, -0.904060837718174, -1.2360729922411553, -0.4115009593368483, 0.3700303953756209, -0.43476288173126304, -0.09364669888576212, 2.271496408069665, 0.4382208052473186, 2.0145628117485535, 3.2116857133039636, 1.747754816367188, -0.16406270927576383, -2.294475469268646, 0.5822511920879381, 0.6013986200739359, -0.04094486688217126, 0.21273661881948897, 0.37030882860156655, 1.4291322593124842, 0.7256850182513412, 1.1078852110724011, 0.3972056425523735, -0.007428576723038068, -0.9816803144163027, 1.843230204300097, -0.546593724555547, -0.7067235121130093, -0.7520053443798362, -0.8910513354310322, 1.2294754108753518, 2.5093338280852904, -0.7382232376650811, 0.2476395374339896, -0.8951696947212888, 1.5123440514637412, -0.8487899676359456, -1.8067934331094133, 0.4010420077985021, -1.1367522673607087, 0.19183444676058728, -0.2152425985366997, -1.9876907091864722, -1.1413941718540714, -0.40813717401963906, -0.1849344571649117, 1.003077784193143, 0.8794892786867538, -0.5387106510553008, 0.2564631776752303, -1.0844328831052483, -0.9408494731791088, 0.14889273054755964, 0.9785354171500635, 1.6077120205192545, -0.6846989018972222, 3.1997439776569405, 0.23234880286804932, -1.168083812214216, -0.07242428325914686, -0.15583950315715256, 0.7717012624634941, -1.530385495201521, 0.3471781396689132, 1.7096917899494661, -1.0904065890910641, -1.0988380224887024, 2.163042364499022, -0.5175540303147586, 0.005765956783511674, 1.5885680889435947, 0.8168295128119825, 1.5765376923113006, 1.0658601388651634, -0.3442559270754943, -0.5471496213804125, 1.062618082178068, 2.8494190181400403, -0.294463278264032, 0.036276974588817984, 0.028055346251613253, 1.9083890254989921, 0.4803803949590783, 1.5519272671848192, -2.14273597753891, -0.14897905295644798, -0.3849855078493074, -0.5294957031059182, -0.3115682301189139, -0.7164220288443419, -0.19134272108176642, 0.9697704897916836, 0.517978486479462, -0.1661173325830252, 0.8530203522968915, -1.0281377038670634, -0.8497848248019442, -1.700259395170287, 2.295442958704183, 0.8876838678032163, 1.1403350064010516, 1.3473090622374186, 0.5030056483256312, -0.7252534201024348, -1.4736229031062393, 0.27303778083785674, 0.18233806062969118, 1.0252592694615954, 0.9964225817401893, -1.7557735111466288, -1.1324262723916787, 1.1550925006646506, -1.10576637720076, -0.27169744996017287, 0.1633499488185267, 1.0028369012392182, 1.4337176269580267, -0.002736210858907047, 1.823506374368803, -0.8093810059239042, -1.0374557173760635, 1.1540387057360924, -0.40817071942844757, 1.5723621164496013, 2.381529566284469, 0.05036331479879851, -0.1363730811161649, -0.2004841337941608, -1.6734642208816608, -0.5292134084795047, -0.27339600647976237, -0.6190066773258878, 1.260025069930211, -1.6740642708198321, -0.604442561816815, -0.604442561816815], \"z\": [2.4746725475518376, 1.1395948039925248, -0.45222878130146515, 0.030631022221671036, -2.8410693286312823, -0.07679104884936165, -1.2217869045636736, 0.03609530006056135, 2.7355140809163263, 1.3003958366273365, -0.17236702742125953, -1.2504786966132733, -0.08424051436637087, 0.6015237770956299, 0.9219171538773815, -0.5615453565229888, -1.7736100778153696, -0.17631626702757264, 0.09982162410699129, -0.12678002528284857, 0.021737166959018568, 0.34110498417641055, 0.06493826210495728, 1.5598715148799251, 1.4062434721757195, -1.1612745359592658, 2.1698897199045613, 0.3936404000890452, -0.5435389477140455, 2.4547048020037563, -0.8470345019275792, -0.040752914312939335, 0.5684886586283698, 0.5456259093644554, 0.7855310650255944, 0.08238659704217303, 0.06709569429103089, 1.139229090908999, -0.9691141021867224, -1.4374587618094579, -0.9310577582810373, 0.4057325135056362, -0.14501683326939974, -1.571980804476134, 0.2378230741023056, -0.7279513656758742, 0.8499055506105134, 0.45600877229018105, -1.284904522732984, -1.2828152046475967, -0.8642049095733432, -0.8748115508941661, 1.208328238815769, -0.001792948990980753, -0.7873970488129882, 0.5523734053719388, 0.04990150895910668, -0.3068830043449532, 1.4201795775816621, -1.8116718326812393, -0.020099946668817842, -0.6875647860183771, 1.2280996478463695, 0.14196451367303267, 2.144669593064761, -0.5784703516894749, -0.04709934186165409, -0.6655764916582595, 0.14972230636313297, -1.4912826145621967, 0.4662274743162509, 0.06986569230504079, 0.9392320348759334, -0.34844210562064626, -0.5031680006912914, -0.8579572951114662, 2.130065720155893, -0.09187340130438565, 1.7296435502014758, 0.19003139200540511, 0.26001245954633345, -0.29118818402413055, -1.733772623199526, 2.366218684773003, -1.9180123401670115, -3.1269872386200213, 0.12266389495966872, 1.551338683205221, -0.6800649362457402, -1.935245799066943, 1.9742966109595372, -0.16818734653724018, 1.3114090933782856, -0.18402225299859054, -0.7749826590894422, -0.38459067678889247, -2.4004787757447272, 1.4270497954547496, 0.17955668824739934, 2.39906310570151, 1.6612524621366471, 1.8093720441251115, -0.38823391867899815, 2.4007207961437587, 0.6794203388558933, -0.822468991198802, 2.5025907353571584, -1.4013155305152178, -1.244943715247705, -1.7422251952069414, -2.1059926235990534, 3.2302229012334203, -1.4365692150232134, -0.08962675145316686, -0.2828131911238365, -0.5843868637586298, 1.1574446795646285, 1.5508254044407028, -1.0983268503253174, -1.4858994964993464, -1.7967858575351512, -0.2918229134763441, -1.2224176033367165, -1.161186282910486, -0.7194532408774446, -0.6647103073145024, -0.37223773420770373, -0.8180955413334651, -0.11151711432622301, -1.9801174294785464, -0.05337110861953345, -1.2690946799686886, -0.47599724749617106, -0.17144629407687698, -1.6681474433549432, -1.7594301382923105, 0.3111407260624849, 1.4676277985683575, -0.8139431425964508, -0.8459063343272053, -1.2231204232510586, -0.58838510705384, -0.4482253901499029, -1.6202222296521227, -0.9332221640634025, 0.08508309864139312, -0.7100762267695112, -0.23173461660689348, 0.44197317402014885, 0.8102025971157835, -0.059493317680412536, -1.242172476043499, 1.609779683438967, -0.7339881841343334, -0.43956275284017626, -1.329702747081303, 0.3836782819971354, 0.5147494880337141, 0.9645518999190743, 0.4597161061579725, 0.10064470713854239, -1.8922896478204039, 0.7604252180328509, 1.862657707474368, 1.862657707474368]}, {\"hoverlabel\": {\"namelength\": 0}, \"hovertemplate\": \"status=live<br>PC1=%{x}<br>PC2=%{y}<br>PC3=%{z}\", \"legendgroup\": \"status=live\", \"marker\": {\"color\": \"#EF553B\", \"symbol\": \"circle\"}, \"mode\": \"markers\", \"name\": \"status=live\", \"scene\": \"scene\", \"showlegend\": true, \"type\": \"scatter3d\", \"x\": [3.427506265333655, 2.989335544943954, 2.2005915996108167, 1.2122774559560616, 2.6518176045567468, 0.4935600748437736, -0.26177674723888256, 0.01264857713917375, 0.28737058791636555, 2.672589786511548, 1.3286921425299127, 1.0649503712046509, -1.1959951790041812, 1.63210498772901, 1.6560315213786214, 1.908394377147551, 2.222206070233973, -1.035603668598972, 0.3328348498945216, 1.4597425278261562, -1.1501836466038093, 1.0703516390020453, 2.6165935263949276, -0.5381736764247501, -1.5383253080899546, 0.9948455201712062, 2.8184310062998557, 1.0216178116457841, 2.965217594457113, 0.3264483980720135, 3.6285970452720364, 0.1703177285455794, 0.803973390327536, 2.915765163397863, -0.5081613309401684, -1.8192748362749303, 2.4512441620508496, 1.6091627895546103, 2.1505254481322207, 4.020111395940306, -0.03980575833587236, 1.6184828609734858, 1.6521780894997566, 0.5942970328207399, 0.13367268259262235, -0.023057405206673383, 2.5024476103157074, -0.280704014454469, 1.6015122506444004, 1.5022040235475291, 2.031585235984132, 1.0647362760826258, 2.698046555401375, 2.2052070123783474, 0.7632485508239285, 2.9232510823427047, 4.008957215057071, -0.018335138485521457, 4.645433915720092, 2.072574208535271, 3.1426820699810323, 1.6687095904274274, 0.6512649495751337, -0.14925208526661504, 1.4816605092393065, -2.220635814418285, 2.4679113327782596, 1.9190487245621548, 3.366604754134877, 2.8353411084040014, 0.24440444124429392, -0.202766445145099, 1.078169642860423, 1.303342944811563, -0.521969910165596, 2.978438497626982, 0.7913703815957753, 1.34086440852697, 2.8099883527223573, 1.8941430628708875, -0.264717956754822, 2.332360000560209, 1.667490480256035, -0.6474678551624102, 1.7629513070710499, 3.5325824509783694, 1.9069070160996955, 2.2208047824879906, 2.0322338407881304, -0.7219849830669564, 1.63809100445602, 2.9561365035363467, 1.4904338011758527, 0.9383651955152155, -0.12014405806299727, 2.095270115490929, -1.3798502651157891, 2.814684329222554, 0.995478318907363, 1.1919829655935743, 0.6242050353295492, 2.353843697291378, -0.4500544708776806, 2.7799195993701513, 3.236280805335065, -0.5407486924374021, 0.4720639269116661, 1.5725384578822796, -0.8166326774253863, 1.2858104464628504, -0.43693125059325866, 1.8643112141063873, -0.7265124441138029, -0.31596904348639554, 2.6315810933339834, 0.7643307366146566, -0.23533660297228012, 0.18069033751090924, -1.6783263217321218, 1.6392914497369855, 2.288720400681192, -1.24386827432807, -0.8569498604051158, 2.1570645926095406, 1.4181644068052923, -0.4060598530817193, 2.1692774167528905, 2.2417597021299236, 0.4141578594431608, 0.9676607765404757, 2.5818552150955387, 0.41431427468958715, 1.8955540889139006, 1.1466718739961934, -0.7085928728333939, 2.4590054541114483, 1.762755362741387, -0.8600567724174802], \"y\": [0.8499639943090801, -0.951270294499982, 1.2832771250687993, -0.11989871243452677, -0.5654308392766373, 1.1650776062612058, -1.6819601088686174, 0.16810521840682566, 0.2501228423049057, -1.1573534668953425, -3.056185669245202, -0.6226496799597523, 1.3173940553680439, -2.6032060812106987, 0.27944871493136897, -0.7545978387703222, 1.168042077877137, 1.5907387736153815, -0.37467022167261793, -0.49020263423783783, -0.6773049250527047, -1.1746414176301314, -1.3151378046752336, -0.3530482681112165, -2.0965375911512707, -0.5680848732820662, -1.1287202454158571, -1.7747574674413802, -0.2305630008549083, 0.27820477039252844, 0.36332410262208, -0.24962951253507076, 0.6068598295814916, -1.394388278553107, 0.32801132845794956, -1.3007536689253834, -0.9957749761442523, -0.40077085257213907, 2.3139155359338117, 0.6467385962611675, -1.4479473680758959, -1.4742704045953776, 1.15863209615437, -1.1757719834341591, -1.380136657034228, 0.017494397420975135, -1.5222271266407237, -2.2695899520055005, 0.712705024607556, 0.06500973043828398, 0.5890189292573439, 0.7057655532768522, 0.9410765136889586, -0.03640427672033633, -0.2018885787266234, 2.3615194261820034, -1.9531467508917868, 2.5456365237331577, 2.55026802287105, -2.245590356338872, -1.2761024714085565, -0.08608898497058892, -3.1597294139868, 1.8097570688503126, -0.38224282031010876, -0.9134530664394849, 1.7505936827630202, -0.02166996658240339, -0.9027279275060076, 1.0109903758127297, -1.0059532819367538, 0.17073968241226095, 0.4502756809173933, 0.8789371017019318, -1.7578045471651855, 0.45858127561132583, 0.8827971663212145, 0.6752456698236541, -0.8708413375948155, -0.9553598787842303, -0.7880125945370442, 1.0894657536694135, 0.8280256634591658, 1.826585644748808, 1.1301280185025975, -1.1058656537420042, -0.3617453625439546, 1.9518750393431956, -0.5673013004029229, 1.754055813709785, -0.5518768513370618, -0.9574985511158622, -1.4344405808849268, 0.35567831502993286, -1.8494387258242186, 1.927080138950769, -1.138515579268309, -1.6394250602897569, -0.2570268488858746, -1.664028549619055, -0.8783298249072921, 0.740691621133614, -0.6629987510278601, -0.8249560721310243, -0.22722744593519267, -1.1636305864823326, 0.5542066524955563, -0.7361149331891869, -1.4883883656513284, -1.5025444527293141, -1.1939615288886238, -0.7878640650006926, -0.6061635155081092, 2.8367236288663027, -1.0359118481719305, -0.9908663768113677, -0.1624173372669796, 0.9725562114103798, -1.0733758210878703, -0.8258684841903238, -1.229093700220112, 0.47095639382981225, 0.8735055145976129, -1.3860674942966535, -1.5488504014169304, -0.3495945683154271, -0.5314474138117645, 2.2790105075749785, 0.836052632545086, -2.3891855961658317, -0.8591859993496995, -0.5794822957701853, 1.4678666711037733, -0.5195294948206286, -1.0457518907880459, 0.4782619109093916, -2.3368162061742024, 1.0685155591698614], \"z\": [-0.21624174932378115, 0.0420495341999523, -0.678591580570424, 0.10287765234078332, 1.9676546205647336, 1.4181549118029726, 0.44670461071247214, -0.10792684389162155, 1.5185031535202518, 0.41409880023851037, 0.17387358626332158, 1.2369751783941592, -0.4678908895849404, 0.2694765688639905, -0.7722150979947218, -1.1332354430305993, -0.5559091858496458, -2.1532899303482593, 1.056547882445428, 0.3602360102380988, -0.6095275961555372, -0.4381606063800194, -0.42440712080987486, 1.0772995795699252, 0.3876280297214449, -2.039917743080002, 0.4866001553288579, 0.19481711528523388, 0.0970304589947152, 1.310518310899501, -0.1446684803272503, 1.0415164447917875, 1.3642569450538675, -0.6592277711314692, -0.4526661643100019, 0.2662531061052813, -0.13339289223268389, -0.6139576376417244, 2.1136764642623787, 0.901935593894609, -0.40982283029527455, -0.2932939471012252, -0.4940332335078531, 1.536281969657254, 0.2789279910973937, 0.9573710533395046, -0.3184003401939492, 0.07085149959204226, -1.806266137081582, 0.9976614365937343, -0.5629689133262359, -0.9923228081448846, 0.7630574304870434, 0.1351961668123902, 1.2753321961352846, -1.4071750654579283, 0.24547134174196214, 2.3309870132773343, 1.065584414333745, -0.3697277380684615, 0.29826148713105016, -0.17401494572950435, 0.0006142276232098478, 1.170496802931556, -0.3980240911259182, 0.019503299308971503, 1.8138099212222536, -0.08105617415450096, -0.5915949467318916, -0.5183732357032055, -0.5509738261008773, -0.1733578211300235, 0.2629967081382413, -0.7584142907208685, -0.5140416355539572, 0.41549245730557705, -1.4811188780805158, 0.3222485604521425, -0.6030120817795597, -0.15196862478616655, -0.10296140914797745, -2.2133872561429087, 0.021706641051183157, 1.1149168812430812, 1.259779408101875, 0.01087170646015729, 1.8621085532071564, -0.1977256566970751, -1.1365193445044213, 0.5934541532116753, -0.04718842401881045, 0.03712441370353372, 0.18420883228005985, -1.542861131681362, 1.318074056652216, 0.8245822163464324, -0.34109360926830845, -0.6577851886164031, -1.737751870010676, -0.535371985938291, -0.6282587947829631, -2.0106836833855786, 1.461562774025923, -0.48638770259966035, 0.6869315581073411, -0.1754289298736005, 1.2730022511637102, -1.0393166973948562, -0.38823300856326404, -0.8421622181441333, 0.487000647552905, 0.22132607827235434, -0.22935594148472296, -0.022509363453121385, 0.49358562729511085, -1.2324502202084042, 0.7340408001229732, 1.8364103601734076, 0.4743166235985143, 0.2063959475617103, -0.4618196479580413, 1.3565103823903926, 0.6242798860844275, -1.0207819270180494, -1.3135386618642988, 0.40888415414932183, -0.5679996140617627, 0.6388129972020619, 1.125286051111857, 0.05787893165047765, 0.7645086364742517, -1.7433530897667395, 1.8478839487363545, -1.708019983174085, 0.544809995257804, 2.208216322163098, 0.4547525816223213, -0.6900742889962374]}],\n",
              "                        {\"legend\": {\"tracegroupgap\": 0}, \"margin\": {\"t\": 60}, \"scene\": {\"domain\": {\"x\": [0.0, 1.0], \"y\": [0.0, 1.0]}, \"xaxis\": {\"title\": {\"text\": \"PC1\"}}, \"yaxis\": {\"title\": {\"text\": \"PC2\"}}, \"zaxis\": {\"title\": {\"text\": \"PC3\"}}}, \"template\": {\"data\": {\"bar\": [{\"error_x\": {\"color\": \"#2a3f5f\"}, \"error_y\": {\"color\": \"#2a3f5f\"}, \"marker\": {\"line\": {\"color\": \"#E5ECF6\", \"width\": 0.5}}, \"type\": \"bar\"}], \"barpolar\": [{\"marker\": {\"line\": {\"color\": \"#E5ECF6\", \"width\": 0.5}}, \"type\": \"barpolar\"}], \"carpet\": [{\"aaxis\": {\"endlinecolor\": \"#2a3f5f\", \"gridcolor\": \"white\", \"linecolor\": \"white\", \"minorgridcolor\": \"white\", \"startlinecolor\": \"#2a3f5f\"}, \"baxis\": {\"endlinecolor\": \"#2a3f5f\", \"gridcolor\": \"white\", \"linecolor\": \"white\", \"minorgridcolor\": \"white\", \"startlinecolor\": \"#2a3f5f\"}, \"type\": \"carpet\"}], \"choropleth\": [{\"colorbar\": {\"outlinewidth\": 0, \"ticks\": \"\"}, \"type\": \"choropleth\"}], \"contour\": [{\"colorbar\": {\"outlinewidth\": 0, \"ticks\": \"\"}, \"colorscale\": [[0.0, \"#0d0887\"], [0.1111111111111111, \"#46039f\"], [0.2222222222222222, \"#7201a8\"], [0.3333333333333333, \"#9c179e\"], [0.4444444444444444, \"#bd3786\"], [0.5555555555555556, \"#d8576b\"], [0.6666666666666666, \"#ed7953\"], [0.7777777777777778, \"#fb9f3a\"], [0.8888888888888888, \"#fdca26\"], [1.0, \"#f0f921\"]], \"type\": \"contour\"}], \"contourcarpet\": [{\"colorbar\": {\"outlinewidth\": 0, \"ticks\": \"\"}, \"type\": \"contourcarpet\"}], \"heatmap\": [{\"colorbar\": {\"outlinewidth\": 0, \"ticks\": \"\"}, \"colorscale\": [[0.0, \"#0d0887\"], [0.1111111111111111, \"#46039f\"], [0.2222222222222222, \"#7201a8\"], [0.3333333333333333, \"#9c179e\"], [0.4444444444444444, \"#bd3786\"], [0.5555555555555556, \"#d8576b\"], [0.6666666666666666, \"#ed7953\"], [0.7777777777777778, \"#fb9f3a\"], [0.8888888888888888, \"#fdca26\"], [1.0, \"#f0f921\"]], \"type\": \"heatmap\"}], \"heatmapgl\": [{\"colorbar\": {\"outlinewidth\": 0, \"ticks\": \"\"}, \"colorscale\": [[0.0, \"#0d0887\"], [0.1111111111111111, \"#46039f\"], [0.2222222222222222, \"#7201a8\"], [0.3333333333333333, \"#9c179e\"], [0.4444444444444444, \"#bd3786\"], [0.5555555555555556, \"#d8576b\"], [0.6666666666666666, \"#ed7953\"], [0.7777777777777778, \"#fb9f3a\"], [0.8888888888888888, \"#fdca26\"], [1.0, \"#f0f921\"]], \"type\": \"heatmapgl\"}], \"histogram\": [{\"marker\": {\"colorbar\": {\"outlinewidth\": 0, \"ticks\": \"\"}}, \"type\": \"histogram\"}], \"histogram2d\": [{\"colorbar\": {\"outlinewidth\": 0, \"ticks\": \"\"}, \"colorscale\": [[0.0, \"#0d0887\"], [0.1111111111111111, \"#46039f\"], [0.2222222222222222, \"#7201a8\"], [0.3333333333333333, \"#9c179e\"], [0.4444444444444444, \"#bd3786\"], [0.5555555555555556, \"#d8576b\"], [0.6666666666666666, \"#ed7953\"], [0.7777777777777778, \"#fb9f3a\"], [0.8888888888888888, \"#fdca26\"], [1.0, \"#f0f921\"]], \"type\": \"histogram2d\"}], \"histogram2dcontour\": [{\"colorbar\": {\"outlinewidth\": 0, \"ticks\": \"\"}, \"colorscale\": [[0.0, \"#0d0887\"], [0.1111111111111111, \"#46039f\"], [0.2222222222222222, \"#7201a8\"], [0.3333333333333333, \"#9c179e\"], [0.4444444444444444, \"#bd3786\"], [0.5555555555555556, \"#d8576b\"], [0.6666666666666666, \"#ed7953\"], [0.7777777777777778, \"#fb9f3a\"], [0.8888888888888888, \"#fdca26\"], [1.0, \"#f0f921\"]], \"type\": \"histogram2dcontour\"}], \"mesh3d\": [{\"colorbar\": {\"outlinewidth\": 0, \"ticks\": \"\"}, \"type\": \"mesh3d\"}], \"parcoords\": [{\"line\": {\"colorbar\": {\"outlinewidth\": 0, \"ticks\": \"\"}}, \"type\": \"parcoords\"}], \"pie\": [{\"automargin\": true, \"type\": \"pie\"}], \"scatter\": [{\"marker\": {\"colorbar\": {\"outlinewidth\": 0, \"ticks\": \"\"}}, \"type\": \"scatter\"}], \"scatter3d\": [{\"line\": {\"colorbar\": {\"outlinewidth\": 0, \"ticks\": \"\"}}, \"marker\": {\"colorbar\": {\"outlinewidth\": 0, \"ticks\": \"\"}}, \"type\": \"scatter3d\"}], \"scattercarpet\": [{\"marker\": {\"colorbar\": {\"outlinewidth\": 0, \"ticks\": \"\"}}, \"type\": \"scattercarpet\"}], \"scattergeo\": [{\"marker\": {\"colorbar\": {\"outlinewidth\": 0, \"ticks\": \"\"}}, \"type\": \"scattergeo\"}], \"scattergl\": [{\"marker\": {\"colorbar\": {\"outlinewidth\": 0, \"ticks\": \"\"}}, \"type\": \"scattergl\"}], \"scattermapbox\": [{\"marker\": {\"colorbar\": {\"outlinewidth\": 0, \"ticks\": \"\"}}, \"type\": \"scattermapbox\"}], \"scatterpolar\": [{\"marker\": {\"colorbar\": {\"outlinewidth\": 0, \"ticks\": \"\"}}, \"type\": \"scatterpolar\"}], \"scatterpolargl\": [{\"marker\": {\"colorbar\": {\"outlinewidth\": 0, \"ticks\": \"\"}}, \"type\": \"scatterpolargl\"}], \"scatterternary\": [{\"marker\": {\"colorbar\": {\"outlinewidth\": 0, \"ticks\": \"\"}}, \"type\": \"scatterternary\"}], \"surface\": [{\"colorbar\": {\"outlinewidth\": 0, \"ticks\": \"\"}, \"colorscale\": [[0.0, \"#0d0887\"], [0.1111111111111111, \"#46039f\"], [0.2222222222222222, \"#7201a8\"], [0.3333333333333333, \"#9c179e\"], [0.4444444444444444, \"#bd3786\"], [0.5555555555555556, \"#d8576b\"], [0.6666666666666666, \"#ed7953\"], [0.7777777777777778, \"#fb9f3a\"], [0.8888888888888888, \"#fdca26\"], [1.0, \"#f0f921\"]], \"type\": \"surface\"}], \"table\": [{\"cells\": {\"fill\": {\"color\": \"#EBF0F8\"}, \"line\": {\"color\": \"white\"}}, \"header\": {\"fill\": {\"color\": \"#C8D4E3\"}, \"line\": {\"color\": \"white\"}}, \"type\": \"table\"}]}, \"layout\": {\"annotationdefaults\": {\"arrowcolor\": \"#2a3f5f\", \"arrowhead\": 0, \"arrowwidth\": 1}, \"coloraxis\": {\"colorbar\": {\"outlinewidth\": 0, \"ticks\": \"\"}}, \"colorscale\": {\"diverging\": [[0, \"#8e0152\"], [0.1, \"#c51b7d\"], [0.2, \"#de77ae\"], [0.3, \"#f1b6da\"], [0.4, \"#fde0ef\"], [0.5, \"#f7f7f7\"], [0.6, \"#e6f5d0\"], [0.7, \"#b8e186\"], [0.8, \"#7fbc41\"], [0.9, \"#4d9221\"], [1, \"#276419\"]], \"sequential\": [[0.0, \"#0d0887\"], [0.1111111111111111, \"#46039f\"], [0.2222222222222222, \"#7201a8\"], [0.3333333333333333, \"#9c179e\"], [0.4444444444444444, \"#bd3786\"], [0.5555555555555556, \"#d8576b\"], [0.6666666666666666, \"#ed7953\"], [0.7777777777777778, \"#fb9f3a\"], [0.8888888888888888, \"#fdca26\"], [1.0, \"#f0f921\"]], \"sequentialminus\": [[0.0, \"#0d0887\"], [0.1111111111111111, \"#46039f\"], [0.2222222222222222, \"#7201a8\"], [0.3333333333333333, \"#9c179e\"], [0.4444444444444444, \"#bd3786\"], [0.5555555555555556, \"#d8576b\"], [0.6666666666666666, \"#ed7953\"], [0.7777777777777778, \"#fb9f3a\"], [0.8888888888888888, \"#fdca26\"], [1.0, \"#f0f921\"]]}, \"colorway\": [\"#636efa\", \"#EF553B\", \"#00cc96\", \"#ab63fa\", \"#FFA15A\", \"#19d3f3\", \"#FF6692\", \"#B6E880\", \"#FF97FF\", \"#FECB52\"], \"font\": {\"color\": \"#2a3f5f\"}, \"geo\": {\"bgcolor\": \"white\", \"lakecolor\": \"white\", \"landcolor\": \"#E5ECF6\", \"showlakes\": true, \"showland\": true, \"subunitcolor\": \"white\"}, \"hoverlabel\": {\"align\": \"left\"}, \"hovermode\": \"closest\", \"mapbox\": {\"style\": \"light\"}, \"paper_bgcolor\": \"white\", \"plot_bgcolor\": \"#E5ECF6\", \"polar\": {\"angularaxis\": {\"gridcolor\": \"white\", \"linecolor\": \"white\", \"ticks\": \"\"}, \"bgcolor\": \"#E5ECF6\", \"radialaxis\": {\"gridcolor\": \"white\", \"linecolor\": \"white\", \"ticks\": \"\"}}, \"scene\": {\"xaxis\": {\"backgroundcolor\": \"#E5ECF6\", \"gridcolor\": \"white\", \"gridwidth\": 2, \"linecolor\": \"white\", \"showbackground\": true, \"ticks\": \"\", \"zerolinecolor\": \"white\"}, \"yaxis\": {\"backgroundcolor\": \"#E5ECF6\", \"gridcolor\": \"white\", \"gridwidth\": 2, \"linecolor\": \"white\", \"showbackground\": true, \"ticks\": \"\", \"zerolinecolor\": \"white\"}, \"zaxis\": {\"backgroundcolor\": \"#E5ECF6\", \"gridcolor\": \"white\", \"gridwidth\": 2, \"linecolor\": \"white\", \"showbackground\": true, \"ticks\": \"\", \"zerolinecolor\": \"white\"}}, \"shapedefaults\": {\"line\": {\"color\": \"#2a3f5f\"}}, \"ternary\": {\"aaxis\": {\"gridcolor\": \"white\", \"linecolor\": \"white\", \"ticks\": \"\"}, \"baxis\": {\"gridcolor\": \"white\", \"linecolor\": \"white\", \"ticks\": \"\"}, \"bgcolor\": \"#E5ECF6\", \"caxis\": {\"gridcolor\": \"white\", \"linecolor\": \"white\", \"ticks\": \"\"}}, \"title\": {\"x\": 0.05}, \"xaxis\": {\"automargin\": true, \"gridcolor\": \"white\", \"linecolor\": \"white\", \"ticks\": \"\", \"title\": {\"standoff\": 15}, \"zerolinecolor\": \"white\", \"zerolinewidth\": 2}, \"yaxis\": {\"automargin\": true, \"gridcolor\": \"white\", \"linecolor\": \"white\", \"ticks\": \"\", \"title\": {\"standoff\": 15}, \"zerolinecolor\": \"white\", \"zerolinewidth\": 2}}}},\n",
              "                        {\"responsive\": true}\n",
              "                    ).then(function(){\n",
              "                            \n",
              "var gd = document.getElementById('7319bbe1-55e4-4a6b-92fc-8d595b3239a0');\n",
              "var x = new MutationObserver(function (mutations, observer) {{\n",
              "        var display = window.getComputedStyle(gd).display;\n",
              "        if (!display || display === 'none') {{\n",
              "            console.log([gd, 'removed!']);\n",
              "            Plotly.purge(gd);\n",
              "            observer.disconnect();\n",
              "        }}\n",
              "}});\n",
              "\n",
              "// Listen for the removal of the full notebook cells\n",
              "var notebookContainer = gd.closest('#notebook-container');\n",
              "if (notebookContainer) {{\n",
              "    x.observe(notebookContainer, {childList: true});\n",
              "}}\n",
              "\n",
              "// Listen for the clearing of the current output cell\n",
              "var outputEl = gd.closest('.output');\n",
              "if (outputEl) {{\n",
              "    x.observe(outputEl, {childList: true});\n",
              "}}\n",
              "\n",
              "                        })\n",
              "                };\n",
              "                \n",
              "            </script>\n",
              "        </div>\n",
              "</body>\n",
              "</html>"
            ]
          },
          "metadata": {}
        }
      ]
    },
    {
      "cell_type": "code",
      "metadata": {
        "colab": {
          "base_uri": "https://localhost:8080/",
          "height": 542
        },
        "id": "Ixrt3itClORX",
        "outputId": "69892911-33a5-44d0-da49-fd3f6ee196e8"
      },
      "source": [
        "loadings_label = df_loadings.index\n",
        "# loadings_label = df_loadings.index.str.strip(' (cm)')\n",
        "\n",
        "fig = px.scatter_3d(df_loadings, x='PC1', y='PC2', z='PC3',\n",
        "                    text = loadings_label)\n",
        "\n",
        "fig.show()"
      ],
      "execution_count": 95,
      "outputs": [
        {
          "output_type": "display_data",
          "data": {
            "text/html": [
              "<html>\n",
              "<head><meta charset=\"utf-8\" /></head>\n",
              "<body>\n",
              "    <div>\n",
              "            <script src=\"https://cdnjs.cloudflare.com/ajax/libs/mathjax/2.7.5/MathJax.js?config=TeX-AMS-MML_SVG\"></script><script type=\"text/javascript\">if (window.MathJax) {MathJax.Hub.Config({SVG: {font: \"STIX-Web\"}});}</script>\n",
              "                <script type=\"text/javascript\">window.PlotlyConfig = {MathJaxConfig: 'local'};</script>\n",
              "        <script src=\"https://cdn.plot.ly/plotly-latest.min.js\"></script>    \n",
              "            <div id=\"dfb3dd5d-9b62-4826-a1b4-260f8cf1ad31\" class=\"plotly-graph-div\" style=\"height:525px; width:100%;\"></div>\n",
              "            <script type=\"text/javascript\">\n",
              "                \n",
              "                    window.PLOTLYENV=window.PLOTLYENV || {};\n",
              "                    \n",
              "                if (document.getElementById(\"dfb3dd5d-9b62-4826-a1b4-260f8cf1ad31\")) {\n",
              "                    Plotly.newPlot(\n",
              "                        'dfb3dd5d-9b62-4826-a1b4-260f8cf1ad31',\n",
              "                        [{\"hoverlabel\": {\"namelength\": 0}, \"hovertemplate\": \"PC1=%{x}<br>PC2=%{y}<br>PC3=%{z}<br>text=%{text}\", \"legendgroup\": \"\", \"marker\": {\"color\": \"#636efa\", \"symbol\": \"circle\"}, \"mode\": \"markers+text\", \"name\": \"\", \"scene\": \"scene\", \"showlegend\": false, \"text\": [\"age\", \"sex\", \"cp\", \"trestbps\", \"chol\", \"fbs\", \"restecg\", \"thalach\", \"exang\", \"oldpeak\", \"slope\", \"ca\", \"thal\"], \"type\": \"scatter3d\", \"x\": [0.31420252397130205, 0.09083783387587019, -0.27460749315877797, 0.18392019199254622, 0.11737503494807174, 0.0736399909494777, -0.1277279156591391, -0.4164981116818463, 0.36126745234768554, 0.41963898795267063, -0.37977222017987816, 0.2732617197729499, 0.22202375081656034], \"y\": [0.4061487165658274, -0.37779171018361624, 0.29726609048643876, 0.4381867518655228, 0.36451402219943807, 0.3174332815004237, -0.22088181173014895, 0.0778761827785599, -0.2631178971748745, -0.05225497441558699, 0.0483741511267321, 0.09414720778705885, -0.20072041527257517], \"z\": [-0.09407661119488654, 0.5548491468416018, 0.3569743128981524, 0.2038493021902918, -0.40782497898410736, 0.4817362372054211, -0.08919083267073291, 0.15825529308472902, -0.12635609990249197, 0.11034290092866836, -0.07381838630446196, 0.18356934040365322, 0.12501112990388993]}],\n",
              "                        {\"legend\": {\"tracegroupgap\": 0}, \"margin\": {\"t\": 60}, \"scene\": {\"domain\": {\"x\": [0.0, 1.0], \"y\": [0.0, 1.0]}, \"xaxis\": {\"title\": {\"text\": \"PC1\"}}, \"yaxis\": {\"title\": {\"text\": \"PC2\"}}, \"zaxis\": {\"title\": {\"text\": \"PC3\"}}}, \"template\": {\"data\": {\"bar\": [{\"error_x\": {\"color\": \"#2a3f5f\"}, \"error_y\": {\"color\": \"#2a3f5f\"}, \"marker\": {\"line\": {\"color\": \"#E5ECF6\", \"width\": 0.5}}, \"type\": \"bar\"}], \"barpolar\": [{\"marker\": {\"line\": {\"color\": \"#E5ECF6\", \"width\": 0.5}}, \"type\": \"barpolar\"}], \"carpet\": [{\"aaxis\": {\"endlinecolor\": \"#2a3f5f\", \"gridcolor\": \"white\", \"linecolor\": \"white\", \"minorgridcolor\": \"white\", \"startlinecolor\": \"#2a3f5f\"}, \"baxis\": {\"endlinecolor\": \"#2a3f5f\", \"gridcolor\": \"white\", \"linecolor\": \"white\", \"minorgridcolor\": \"white\", \"startlinecolor\": \"#2a3f5f\"}, \"type\": \"carpet\"}], \"choropleth\": [{\"colorbar\": {\"outlinewidth\": 0, \"ticks\": \"\"}, \"type\": \"choropleth\"}], \"contour\": [{\"colorbar\": {\"outlinewidth\": 0, \"ticks\": \"\"}, \"colorscale\": [[0.0, \"#0d0887\"], [0.1111111111111111, \"#46039f\"], [0.2222222222222222, \"#7201a8\"], [0.3333333333333333, \"#9c179e\"], [0.4444444444444444, \"#bd3786\"], [0.5555555555555556, \"#d8576b\"], [0.6666666666666666, \"#ed7953\"], [0.7777777777777778, \"#fb9f3a\"], [0.8888888888888888, \"#fdca26\"], [1.0, \"#f0f921\"]], \"type\": \"contour\"}], \"contourcarpet\": [{\"colorbar\": {\"outlinewidth\": 0, \"ticks\": \"\"}, \"type\": \"contourcarpet\"}], \"heatmap\": [{\"colorbar\": {\"outlinewidth\": 0, \"ticks\": \"\"}, \"colorscale\": [[0.0, \"#0d0887\"], [0.1111111111111111, \"#46039f\"], [0.2222222222222222, \"#7201a8\"], [0.3333333333333333, \"#9c179e\"], [0.4444444444444444, \"#bd3786\"], [0.5555555555555556, \"#d8576b\"], [0.6666666666666666, \"#ed7953\"], [0.7777777777777778, \"#fb9f3a\"], [0.8888888888888888, \"#fdca26\"], [1.0, \"#f0f921\"]], \"type\": \"heatmap\"}], \"heatmapgl\": [{\"colorbar\": {\"outlinewidth\": 0, \"ticks\": \"\"}, \"colorscale\": [[0.0, \"#0d0887\"], [0.1111111111111111, \"#46039f\"], [0.2222222222222222, \"#7201a8\"], [0.3333333333333333, \"#9c179e\"], [0.4444444444444444, \"#bd3786\"], [0.5555555555555556, \"#d8576b\"], [0.6666666666666666, \"#ed7953\"], [0.7777777777777778, \"#fb9f3a\"], [0.8888888888888888, \"#fdca26\"], [1.0, \"#f0f921\"]], \"type\": \"heatmapgl\"}], \"histogram\": [{\"marker\": {\"colorbar\": {\"outlinewidth\": 0, \"ticks\": \"\"}}, \"type\": \"histogram\"}], \"histogram2d\": [{\"colorbar\": {\"outlinewidth\": 0, \"ticks\": \"\"}, \"colorscale\": [[0.0, \"#0d0887\"], [0.1111111111111111, \"#46039f\"], [0.2222222222222222, \"#7201a8\"], [0.3333333333333333, \"#9c179e\"], [0.4444444444444444, \"#bd3786\"], [0.5555555555555556, \"#d8576b\"], [0.6666666666666666, \"#ed7953\"], [0.7777777777777778, \"#fb9f3a\"], [0.8888888888888888, \"#fdca26\"], [1.0, \"#f0f921\"]], \"type\": \"histogram2d\"}], \"histogram2dcontour\": [{\"colorbar\": {\"outlinewidth\": 0, \"ticks\": \"\"}, \"colorscale\": [[0.0, \"#0d0887\"], [0.1111111111111111, \"#46039f\"], [0.2222222222222222, \"#7201a8\"], [0.3333333333333333, \"#9c179e\"], [0.4444444444444444, \"#bd3786\"], [0.5555555555555556, \"#d8576b\"], [0.6666666666666666, \"#ed7953\"], [0.7777777777777778, \"#fb9f3a\"], [0.8888888888888888, \"#fdca26\"], [1.0, \"#f0f921\"]], \"type\": \"histogram2dcontour\"}], \"mesh3d\": [{\"colorbar\": {\"outlinewidth\": 0, \"ticks\": \"\"}, \"type\": \"mesh3d\"}], \"parcoords\": [{\"line\": {\"colorbar\": {\"outlinewidth\": 0, \"ticks\": \"\"}}, \"type\": \"parcoords\"}], \"pie\": [{\"automargin\": true, \"type\": \"pie\"}], \"scatter\": [{\"marker\": {\"colorbar\": {\"outlinewidth\": 0, \"ticks\": \"\"}}, \"type\": \"scatter\"}], \"scatter3d\": [{\"line\": {\"colorbar\": {\"outlinewidth\": 0, \"ticks\": \"\"}}, \"marker\": {\"colorbar\": {\"outlinewidth\": 0, \"ticks\": \"\"}}, \"type\": \"scatter3d\"}], \"scattercarpet\": [{\"marker\": {\"colorbar\": {\"outlinewidth\": 0, \"ticks\": \"\"}}, \"type\": \"scattercarpet\"}], \"scattergeo\": [{\"marker\": {\"colorbar\": {\"outlinewidth\": 0, \"ticks\": \"\"}}, \"type\": \"scattergeo\"}], \"scattergl\": [{\"marker\": {\"colorbar\": {\"outlinewidth\": 0, \"ticks\": \"\"}}, \"type\": \"scattergl\"}], \"scattermapbox\": [{\"marker\": {\"colorbar\": {\"outlinewidth\": 0, \"ticks\": \"\"}}, \"type\": \"scattermapbox\"}], \"scatterpolar\": [{\"marker\": {\"colorbar\": {\"outlinewidth\": 0, \"ticks\": \"\"}}, \"type\": \"scatterpolar\"}], \"scatterpolargl\": [{\"marker\": {\"colorbar\": {\"outlinewidth\": 0, \"ticks\": \"\"}}, \"type\": \"scatterpolargl\"}], \"scatterternary\": [{\"marker\": {\"colorbar\": {\"outlinewidth\": 0, \"ticks\": \"\"}}, \"type\": \"scatterternary\"}], \"surface\": [{\"colorbar\": {\"outlinewidth\": 0, \"ticks\": \"\"}, \"colorscale\": [[0.0, \"#0d0887\"], [0.1111111111111111, \"#46039f\"], [0.2222222222222222, \"#7201a8\"], [0.3333333333333333, \"#9c179e\"], [0.4444444444444444, \"#bd3786\"], [0.5555555555555556, \"#d8576b\"], [0.6666666666666666, \"#ed7953\"], [0.7777777777777778, \"#fb9f3a\"], [0.8888888888888888, \"#fdca26\"], [1.0, \"#f0f921\"]], \"type\": \"surface\"}], \"table\": [{\"cells\": {\"fill\": {\"color\": \"#EBF0F8\"}, \"line\": {\"color\": \"white\"}}, \"header\": {\"fill\": {\"color\": \"#C8D4E3\"}, \"line\": {\"color\": \"white\"}}, \"type\": \"table\"}]}, \"layout\": {\"annotationdefaults\": {\"arrowcolor\": \"#2a3f5f\", \"arrowhead\": 0, \"arrowwidth\": 1}, \"coloraxis\": {\"colorbar\": {\"outlinewidth\": 0, \"ticks\": \"\"}}, \"colorscale\": {\"diverging\": [[0, \"#8e0152\"], [0.1, \"#c51b7d\"], [0.2, \"#de77ae\"], [0.3, \"#f1b6da\"], [0.4, \"#fde0ef\"], [0.5, \"#f7f7f7\"], [0.6, \"#e6f5d0\"], [0.7, \"#b8e186\"], [0.8, \"#7fbc41\"], [0.9, \"#4d9221\"], [1, \"#276419\"]], \"sequential\": [[0.0, \"#0d0887\"], [0.1111111111111111, \"#46039f\"], [0.2222222222222222, \"#7201a8\"], [0.3333333333333333, \"#9c179e\"], [0.4444444444444444, \"#bd3786\"], [0.5555555555555556, \"#d8576b\"], [0.6666666666666666, \"#ed7953\"], [0.7777777777777778, \"#fb9f3a\"], [0.8888888888888888, \"#fdca26\"], [1.0, \"#f0f921\"]], \"sequentialminus\": [[0.0, \"#0d0887\"], [0.1111111111111111, \"#46039f\"], [0.2222222222222222, \"#7201a8\"], [0.3333333333333333, \"#9c179e\"], [0.4444444444444444, \"#bd3786\"], [0.5555555555555556, \"#d8576b\"], [0.6666666666666666, \"#ed7953\"], [0.7777777777777778, \"#fb9f3a\"], [0.8888888888888888, \"#fdca26\"], [1.0, \"#f0f921\"]]}, \"colorway\": [\"#636efa\", \"#EF553B\", \"#00cc96\", \"#ab63fa\", \"#FFA15A\", \"#19d3f3\", \"#FF6692\", \"#B6E880\", \"#FF97FF\", \"#FECB52\"], \"font\": {\"color\": \"#2a3f5f\"}, \"geo\": {\"bgcolor\": \"white\", \"lakecolor\": \"white\", \"landcolor\": \"#E5ECF6\", \"showlakes\": true, \"showland\": true, \"subunitcolor\": \"white\"}, \"hoverlabel\": {\"align\": \"left\"}, \"hovermode\": \"closest\", \"mapbox\": {\"style\": \"light\"}, \"paper_bgcolor\": \"white\", \"plot_bgcolor\": \"#E5ECF6\", \"polar\": {\"angularaxis\": {\"gridcolor\": \"white\", \"linecolor\": \"white\", \"ticks\": \"\"}, \"bgcolor\": \"#E5ECF6\", \"radialaxis\": {\"gridcolor\": \"white\", \"linecolor\": \"white\", \"ticks\": \"\"}}, \"scene\": {\"xaxis\": {\"backgroundcolor\": \"#E5ECF6\", \"gridcolor\": \"white\", \"gridwidth\": 2, \"linecolor\": \"white\", \"showbackground\": true, \"ticks\": \"\", \"zerolinecolor\": \"white\"}, \"yaxis\": {\"backgroundcolor\": \"#E5ECF6\", \"gridcolor\": \"white\", \"gridwidth\": 2, \"linecolor\": \"white\", \"showbackground\": true, \"ticks\": \"\", \"zerolinecolor\": \"white\"}, \"zaxis\": {\"backgroundcolor\": \"#E5ECF6\", \"gridcolor\": \"white\", \"gridwidth\": 2, \"linecolor\": \"white\", \"showbackground\": true, \"ticks\": \"\", \"zerolinecolor\": \"white\"}}, \"shapedefaults\": {\"line\": {\"color\": \"#2a3f5f\"}}, \"ternary\": {\"aaxis\": {\"gridcolor\": \"white\", \"linecolor\": \"white\", \"ticks\": \"\"}, \"baxis\": {\"gridcolor\": \"white\", \"linecolor\": \"white\", \"ticks\": \"\"}, \"bgcolor\": \"#E5ECF6\", \"caxis\": {\"gridcolor\": \"white\", \"linecolor\": \"white\", \"ticks\": \"\"}}, \"title\": {\"x\": 0.05}, \"xaxis\": {\"automargin\": true, \"gridcolor\": \"white\", \"linecolor\": \"white\", \"ticks\": \"\", \"title\": {\"standoff\": 15}, \"zerolinecolor\": \"white\", \"zerolinewidth\": 2}, \"yaxis\": {\"automargin\": true, \"gridcolor\": \"white\", \"linecolor\": \"white\", \"ticks\": \"\", \"title\": {\"standoff\": 15}, \"zerolinecolor\": \"white\", \"zerolinewidth\": 2}}}},\n",
              "                        {\"responsive\": true}\n",
              "                    ).then(function(){\n",
              "                            \n",
              "var gd = document.getElementById('dfb3dd5d-9b62-4826-a1b4-260f8cf1ad31');\n",
              "var x = new MutationObserver(function (mutations, observer) {{\n",
              "        var display = window.getComputedStyle(gd).display;\n",
              "        if (!display || display === 'none') {{\n",
              "            console.log([gd, 'removed!']);\n",
              "            Plotly.purge(gd);\n",
              "            observer.disconnect();\n",
              "        }}\n",
              "}});\n",
              "\n",
              "// Listen for the removal of the full notebook cells\n",
              "var notebookContainer = gd.closest('#notebook-container');\n",
              "if (notebookContainer) {{\n",
              "    x.observe(notebookContainer, {childList: true});\n",
              "}}\n",
              "\n",
              "// Listen for the clearing of the current output cell\n",
              "var outputEl = gd.closest('.output');\n",
              "if (outputEl) {{\n",
              "    x.observe(outputEl, {childList: true});\n",
              "}}\n",
              "\n",
              "                        })\n",
              "                };\n",
              "                \n",
              "            </script>\n",
              "        </div>\n",
              "</body>\n",
              "</html>"
            ]
          },
          "metadata": {}
        }
      ]
    }
  ]
}